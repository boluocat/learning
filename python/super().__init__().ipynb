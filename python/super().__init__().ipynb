{
 "cells": [
  {
   "cell_type": "markdown",
   "metadata": {},
   "source": [
    "从类的继承的角度上来说，子类继承父类的时候，不会自动继承父类的构造函数`__init__`。如果子类想要继承父类的构造函数`__init__`，则需要使用 `super().__init__()`,或者直接引用父类的初始化函数。简单理解，`super().__ init__()`就是用来解决多重继承问题的。"
   ]
  },
  {
   "cell_type": "code",
   "execution_count": 4,
   "metadata": {},
   "outputs": [],
   "source": [
    "# create a parent class\n",
    "class Base(object):\n",
    "    def __init__(self):\n",
    "        print('Base created')"
   ]
  },
  {
   "cell_type": "code",
   "execution_count": 5,
   "metadata": {},
   "outputs": [],
   "source": [
    "# create a child class, using parent reference directly.\n",
    "class ChildA(Base):\n",
    "    def __init__(self):\n",
    "        Base.__init__(self)\n",
    "        print('Child A initialized')"
   ]
  },
  {
   "cell_type": "code",
   "execution_count": 6,
   "metadata": {},
   "outputs": [],
   "source": [
    "# create other child class, using super with child class\n",
    "class ChildB(Base):\n",
    "    def __init__(self):\n",
    "        print('Child B initialized')\n",
    "        super(ChildB, self).__init__()"
   ]
  },
  {
   "cell_type": "code",
   "execution_count": 7,
   "metadata": {},
   "outputs": [],
   "source": [
    "# create third child class, using the super method\n",
    "class ChildC(Base):\n",
    "    def __init__(self):\n",
    "        super().__init__()\n",
    "        print('Child C initialized')"
   ]
  },
  {
   "cell_type": "code",
   "execution_count": 9,
   "metadata": {},
   "outputs": [
    {
     "name": "stdout",
     "output_type": "stream",
     "text": [
      "Running ChildA..........\n",
      "Base created\n",
      "Child A initialized\n",
      "Running ChildB..........\n",
      "Child B initialized\n",
      "Base created\n",
      "Running ChildC..........\n",
      "Base created\n",
      "Child C initialized\n"
     ]
    }
   ],
   "source": [
    "print('Running ChildA..........')\n",
    "cA = ChildA()\n",
    "print('Running ChildB..........')\n",
    "cB = ChildB()\n",
    "print('Running ChildC..........')\n",
    "cC = ChildC()"
   ]
  },
  {
   "cell_type": "markdown",
   "metadata": {},
   "source": [
    "从运行结果上看，以上三种方式得到的结果是一致的。`super()` 和 `super(ChildB, self).__init__()` 是等同的。\n",
    "\n",
    "而`Base.__init__(self)` 和 `super().__init__()`，通过下面的code可以看一下`super()`起到的作用。\n"
   ]
  },
  {
   "cell_type": "code",
   "execution_count": 10,
   "metadata": {},
   "outputs": [],
   "source": [
    "class Base1:\n",
    "    def __init__(self):\n",
    "        print (\"Base 1 created\")\n",
    "        super().__init__()\n",
    "class Base2:\n",
    "    def __init__(self):\n",
    "        print (\"Base 2 created\")\n",
    "        super().__init__()\n",
    "class A1(Base1, Base2):\n",
    "    def __init__(self):\n",
    "        super().__init__()\n",
    "        print (\"Child A1 initialized\")\n",
    "\n",
    "class A2(Base2, Base1):\n",
    "    def __init__(self):\n",
    "        super().__init__()\n",
    "        print (\"Child A2 initialized\")\n"
   ]
  },
  {
   "cell_type": "code",
   "execution_count": 11,
   "metadata": {},
   "outputs": [
    {
     "name": "stdout",
     "output_type": "stream",
     "text": [
      "Base 1 created\n",
      "Base 2 created\n",
      "Child A1 initialized\n",
      "\n",
      "\n",
      "\n",
      "Base 2 created\n",
      "Base 1 created\n",
      "Child A2 initialized\n"
     ]
    }
   ],
   "source": [
    "a1 = A1()\n",
    "print (\"\\n\\n\")\n",
    "a2 = A2()"
   ]
  },
  {
   "cell_type": "markdown",
   "metadata": {},
   "source": [
    "在子类中调用父类初始函数时，`super()`会根据子类继承父类的输入顺序进行排序。Python知道哪个模块需要被先引用。"
   ]
  },
  {
   "cell_type": "code",
   "execution_count": 25,
   "metadata": {},
   "outputs": [],
   "source": [
    "class Base1:\n",
    "    def __init__(self):\n",
    "        print (\"Base 1 created\")\n",
    "        super().__init__()\n",
    "class Base2:\n",
    "    def __init__(self):\n",
    "        print (\"Base 2 created\")\n",
    "        super().__init__()\n",
    "class A1(Base1, Base2):\n",
    "    def __init__(self):\n",
    "        Base1().__init__()\n",
    "        # Base2().__init__()\n",
    "        print (\"Child A1 initialized\")\n",
    "\n",
    "class A2(Base2, Base1):\n",
    "    def __init__(self):\n",
    "        Base2().__init__()\n",
    "        Base1().__init__()\n",
    "        print (\"Child A2 initialized\")\n"
   ]
  },
  {
   "cell_type": "code",
   "execution_count": 26,
   "metadata": {},
   "outputs": [
    {
     "name": "stdout",
     "output_type": "stream",
     "text": [
      "Base 1 created\n",
      "Base 1 created\n",
      "Child A1 initialized\n",
      "\n",
      "\n",
      "\n",
      "Base 2 created\n",
      "Base 2 created\n",
      "Base 1 created\n",
      "Base 1 created\n",
      "Child A2 initialized\n"
     ]
    }
   ],
   "source": [
    "a1 = A1()\n",
    "print (\"\\n\\n\")\n",
    "a2 = A2()"
   ]
  },
  {
   "cell_type": "markdown",
   "metadata": {},
   "source": [
    "但是，如果使用`base().__init__()`来初始化，你需要初始化两次`base1().__init__()`，`base2().__init__()`，且存在重复初始化的情况。如果只写`base1().__init__()`，则只会初始化一个。"
   ]
  },
  {
   "cell_type": "markdown",
   "metadata": {},
   "source": [
    "另外，在Python中可以用`mro`去获取某个模块的调用顺序（子类、父类），Method Resolution Order"
   ]
  },
  {
   "cell_type": "code",
   "execution_count": 28,
   "metadata": {},
   "outputs": [
    {
     "name": "stdout",
     "output_type": "stream",
     "text": [
      "[<class '__main__.A1'>, <class '__main__.Base1'>, <class '__main__.Base2'>, <class 'object'>]\n"
     ]
    }
   ],
   "source": [
    "print(A1.mro())"
   ]
  },
  {
   "cell_type": "code",
   "execution_count": 34,
   "metadata": {},
   "outputs": [],
   "source": [
    "class Base1:\n",
    "    def __init__(self):\n",
    "        print (\"Base 1 created\")\n",
    "        super().__init__()\n",
    "class Base2:\n",
    "    def __init__(self):\n",
    "        print (\"Base 2 created\")\n",
    "        # super().__init__()\n",
    "class A1(Base1, Base2):\n",
    "    def __init__(self):\n",
    "        super().__init__()\n",
    "        print (\"Child A1 initialized\")\n",
    "\n",
    "class A2(Base2, Base1):\n",
    "    def __init__(self):\n",
    "        super().__init__()\n",
    "        print (\"Child A2 initialized\")\n"
   ]
  },
  {
   "cell_type": "code",
   "execution_count": 35,
   "metadata": {},
   "outputs": [
    {
     "name": "stdout",
     "output_type": "stream",
     "text": [
      "Base 1 created\n",
      "Base 2 created\n",
      "Child A1 initialized\n",
      "\n",
      "\n",
      "\n",
      "Base 2 created\n",
      "Child A2 initialized\n",
      "[<class '__main__.A1'>, <class '__main__.Base1'>, <class '__main__.Base2'>, <class 'object'>]\n"
     ]
    }
   ],
   "source": [
    "a1 = A1()\n",
    "print (\"\\n\\n\")\n",
    "a2 = A2()\n",
    "\n",
    "print(A1.mro())"
   ]
  },
  {
   "cell_type": "markdown",
   "metadata": {},
   "source": [
    "Comment out the super calls in base class and check the output of your script. Having Base1 and Base2 in the mro list, `mro` won’t resolve the order unless the `super()` function is propogated all the way up to the base class i.e., Python propogates the search for the attribute only until it finds one. Comment the init method in Base1 and see for yourself"
   ]
  },
  {
   "cell_type": "markdown",
   "metadata": {},
   "source": [
    "另外的例子："
   ]
  },
  {
   "cell_type": "code",
   "execution_count": 1,
   "metadata": {},
   "outputs": [
    {
     "name": "stdout",
     "output_type": "stream",
     "text": [
      "This is HUAWEI_CE_12808 switch. made in USA\n",
      "New feature: css, vxlan, evpn, mbgp, srv6\n"
     ]
    }
   ],
   "source": [
    "class Router:\n",
    "    def __init__(self, name, mode, number):\n",
    "        self.name = name\n",
    "        self.mode = mode\n",
    "        self.number = number\n",
    "        self.l3protocol = 'arp, static, rip, eigrp, ospf, isis, bgp'\n",
    "        \n",
    "    def desc(self):\n",
    "        print(f'This is {self.name}_{self.mode}_{self.number}router')\n",
    "        print(f'l3func: {self.l3protocol}')\n",
    "        \n",
    "class Switch(Router):\n",
    "\n",
    "    def __init__(self, name, mode, number, zone):\n",
    "        self.zone = zone\n",
    "        super().__init__(name, mode, number) # 继承super class __init__属性\n",
    "\n",
    "    def desc(self):\n",
    "        print(\n",
    "            f'This is {self.name}_{self.mode}_{self.number} switch. made in {self.zone}')\n",
    "        print(f'New feature: {self.l3protocol}')\n",
    "        \n",
    "if __name__ == '__main__':\n",
    "    huawei = Switch('HUAWEI', 'CE', '12808', 'USA')\n",
    "    huawei.l3protocol = 'css, vxlan, evpn, mbgp, srv6'\n",
    "    huawei.desc()"
   ]
  },
  {
   "cell_type": "code",
   "execution_count": 3,
   "metadata": {},
   "outputs": [
    {
     "name": "stdout",
     "output_type": "stream",
     "text": [
      "huawei\n",
      "cisco\n"
     ]
    }
   ],
   "source": [
    "# 在子类没有init的情况下，先运行子类——>父类的init\n",
    "class Cisco:\n",
    "    def __init__(self):\n",
    "        print('cisco')\n",
    "\n",
    "class Huawei(Cisco):\n",
    "    print('huawei')\n",
    "\n",
    "if __name__ == '__main__':\n",
    "    c = Huawei()"
   ]
  },
  {
   "cell_type": "code",
   "execution_count": 5,
   "metadata": {},
   "outputs": [
    {
     "name": "stdout",
     "output_type": "stream",
     "text": [
      "huawei\n"
     ]
    }
   ],
   "source": [
    "# 在子类定义了init的情况下，不再调用父类的init\n",
    "class Cisco:\n",
    "\n",
    "    def __init__(self):\n",
    "        print('cisco')\n",
    "\n",
    "\n",
    "class Huawei(Cisco):\n",
    "\n",
    "    def __init__(self):\n",
    "        print('huawei')\n",
    "\n",
    "if __name__ == '__main__':\n",
    "    c = Huawei()"
   ]
  },
  {
   "cell_type": "code",
   "execution_count": 6,
   "metadata": {},
   "outputs": [
    {
     "name": "stdout",
     "output_type": "stream",
     "text": [
      "cisco\n",
      "huawei\n"
     ]
    }
   ],
   "source": [
    "# 在子类有init，并在子类中使用了super后，会先继承父类中的init方法，在运行子类的内容\n",
    "class Cisco:\n",
    "\n",
    "    def __init__(self, name):\n",
    "        self.name = name\n",
    "        print(self.name)\n",
    "        \n",
    "class Huawei(Cisco):\n",
    "\n",
    "    def __init__(self, name):\n",
    "        super().__init__(name)\n",
    "        print('huawei')\n",
    "\n",
    "if __name__ == '__main__':\n",
    "    c = Huawei('cisco')"
   ]
  }
 ],
 "metadata": {
  "kernelspec": {
   "display_name": "Python 3",
   "language": "python",
   "name": "python3"
  },
  "language_info": {
   "codemirror_mode": {
    "name": "ipython",
    "version": 3
   },
   "file_extension": ".py",
   "mimetype": "text/x-python",
   "name": "python",
   "nbconvert_exporter": "python",
   "pygments_lexer": "ipython3",
   "version": "3.11.4"
  }
 },
 "nbformat": 4,
 "nbformat_minor": 2
}
