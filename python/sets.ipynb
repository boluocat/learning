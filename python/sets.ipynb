{
 "cells": [
  {
   "cell_type": "markdown",
   "metadata": {},
   "source": [
    "# What is a set\n",
    "\n",
    "1. This is a mutable data type\n",
    "2. It can be applied to any iterable object and will remove duplicate elements from it\n",
    "3. It is unordered and non-indexable\n",
    "4. Elements in a set must be hashable, generally, this means they must be immutable."
   ]
  },
  {
   "cell_type": "markdown",
   "metadata": {},
   "source": [
    "# Create a set\n",
    "\n",
    "1. Using braces to create a set\n",
    "2. Using `set()`\n",
    "3. Using `frozenset()`\n"
   ]
  },
  {
   "cell_type": "code",
   "execution_count": 1,
   "metadata": {},
   "outputs": [
    {
     "data": {
      "text/plain": [
       "{1, 2, '2'}"
      ]
     },
     "execution_count": 1,
     "metadata": {},
     "output_type": "execute_result"
    }
   ],
   "source": [
    "example_a = [1, 2, 2.0, '2']\n",
    "set(example_a)"
   ]
  },
  {
   "cell_type": "markdown",
   "metadata": {},
   "source": [
    "Notice that, in the preceding example, 2 and 2.0 are evaluated as equivalent, even though one is an integer and the other is a float. "
   ]
  },
  {
   "cell_type": "code",
   "execution_count": 2,
   "metadata": {},
   "outputs": [
    {
     "data": {
      "text/plain": [
       "{(1, 2, 2, 2, 3), 2, 'apple'}"
      ]
     },
     "execution_count": 2,
     "metadata": {},
     "output_type": "execute_result"
    }
   ],
   "source": [
    "example_b = ('apple', (1, 2, 2, 2, 3), 2)\n",
    "set(example_b)"
   ]
  },
  {
   "cell_type": "markdown",
   "metadata": {},
   "source": [
    "In the preceding example, (1, 2, 2, 2, 3) is a tuple, which is hashable (≈ immutable) and thus treated as a distinct single element in the resulting set."
   ]
  },
  {
   "cell_type": "code",
   "execution_count": 3,
   "metadata": {},
   "outputs": [
    {
     "ename": "TypeError",
     "evalue": "unhashable type: 'set'",
     "output_type": "error",
     "traceback": [
      "\u001b[1;31m---------------------------------------------------------------------------\u001b[0m",
      "\u001b[1;31mTypeError\u001b[0m                                 Traceback (most recent call last)",
      "Cell \u001b[1;32mIn[3], line 2\u001b[0m\n\u001b[0;32m      1\u001b[0m example_c \u001b[38;5;241m=\u001b[39m [\u001b[38;5;241m1.5\u001b[39m, {\u001b[38;5;124m'\u001b[39m\u001b[38;5;124ma\u001b[39m\u001b[38;5;124m'\u001b[39m, \u001b[38;5;124m'\u001b[39m\u001b[38;5;124mb\u001b[39m\u001b[38;5;124m'\u001b[39m, \u001b[38;5;124m'\u001b[39m\u001b[38;5;124mc\u001b[39m\u001b[38;5;124m'\u001b[39m}, \u001b[38;5;241m1.5\u001b[39m]\n\u001b[1;32m----> 2\u001b[0m \u001b[38;5;28;43mset\u001b[39;49m\u001b[43m(\u001b[49m\u001b[43mexample_c\u001b[49m\u001b[43m)\u001b[49m\n",
      "\u001b[1;31mTypeError\u001b[0m: unhashable type: 'set'"
     ]
    }
   ],
   "source": [
    "example_c = [1.5, {'a', 'b', 'c'}, 1.5]\n",
    "set(example_c)"
   ]
  },
  {
   "cell_type": "markdown",
   "metadata": {},
   "source": [
    "The preceding example throws an error because each element of a set must be hashable (≈ immutable), but {‘a’, ‘b’, ‘c’} is a set, which is a mutable (unhashable) object."
   ]
  },
  {
   "cell_type": "markdown",
   "metadata": {},
   "source": [
    "## `add()`\n",
    "\n",
    "`add()` method which is one of the special methods available to sets but not to frozensets."
   ]
  },
  {
   "cell_type": "code",
   "execution_count": 4,
   "metadata": {},
   "outputs": [
    {
     "data": {
      "text/plain": [
       "{'elderberries', 'father', 'hamster', 'mother'}"
      ]
     },
     "execution_count": 4,
     "metadata": {},
     "output_type": "execute_result"
    }
   ],
   "source": [
    "example_d = {'mother', 'hamster', 'father'}\n",
    "example_d.add('elderberries')\n",
    "example_d"
   ]
  },
  {
   "cell_type": "markdown",
   "metadata": {},
   "source": [
    "## `frozenset()`\n",
    "\n",
    "Frozensets are another type of set in Python. They are their own class, and they are very similar to sets, except they are immutable.\n",
    "\n",
    "1. This is an immutable data type\n",
    "2. It can be applied to any iterable object and will remove duplicate elements from it\n",
    "3. Because they're immutable, Frozensets can be used as dictionary keys and as elements in other sets."
   ]
  },
  {
   "cell_type": "code",
   "execution_count": 5,
   "metadata": {},
   "outputs": [
    {
     "data": {
      "text/plain": [
       "{1.5, frozenset({'a', 'b', 'c'})}"
      ]
     },
     "execution_count": 5,
     "metadata": {},
     "output_type": "execute_result"
    }
   ],
   "source": [
    "example_e = [1.5, frozenset(['a', 'b', 'c']), 1.5]\n",
    "set(example_e)"
   ]
  },
  {
   "cell_type": "markdown",
   "metadata": {},
   "source": [
    "Unlike example_c previously, this set does not throw an error. This is because it contains a frozenset, which is an immutable type and can therefore be used in sets."
   ]
  },
  {
   "cell_type": "markdown",
   "metadata": {},
   "source": [
    "# Set methods\n",
    "\n",
    "## `union()`\n",
    "\n",
    "1. Return a new set with elements common to the set and all others.\n",
    "2. The operator for this function is the pipe (`|`).\n"
   ]
  },
  {
   "cell_type": "code",
   "execution_count": 10,
   "metadata": {},
   "outputs": [
    {
     "name": "stdout",
     "output_type": "stream",
     "text": [
      "{'b', 'a', 'c', 'd'}\n",
      "{'b', 'a', 'c', 'd'}\n"
     ]
    }
   ],
   "source": [
    "set_1 = {'a', 'b', 'c'}\n",
    "set_2 = {'b', 'c', 'd'}\n",
    "\n",
    "print(set_1.union(set_2))\n",
    "print(set_1 | set_2)"
   ]
  },
  {
   "cell_type": "markdown",
   "metadata": {},
   "source": [
    "## `intersection()`\n",
    " \n",
    "1. Return a new set with elements common to the set and all others.\n",
    "\n",
    "2. The operator for this function is the ampersand   (`&`)."
   ]
  },
  {
   "cell_type": "code",
   "execution_count": null,
   "metadata": {},
   "outputs": [
    {
     "name": "stdout",
     "output_type": "stream",
     "text": [
      "{'b', 'c'}\n",
      "{'b', 'c'}\n"
     ]
    }
   ],
   "source": [
    "set_1 = {'a', 'b', 'c'}\n",
    "set_2 = {'b', 'c', 'd'}\n",
    "\n",
    "print(set_1.intersection(set_2))\n",
    "print(set_1 & set_2)"
   ]
  },
  {
   "cell_type": "markdown",
   "metadata": {},
   "source": [
    "## `difference()`\n",
    " \n",
    "1. Return a new set with elements in the set that are not in the others.\n",
    "\n",
    "2. The operator for this function is the subtraction operator ( `-` )."
   ]
  },
  {
   "cell_type": "code",
   "execution_count": 12,
   "metadata": {},
   "outputs": [
    {
     "name": "stdout",
     "output_type": "stream",
     "text": [
      "{'a'}\n",
      "{'a'}\n"
     ]
    }
   ],
   "source": [
    "set_1 = {'a', 'b', 'c'}\n",
    "set_2 = {'b', 'c', 'd'}\n",
    "\n",
    "print(set_1.difference(set_2))\n",
    "print(set_1 - set_2)"
   ]
  },
  {
   "cell_type": "markdown",
   "metadata": {},
   "source": [
    "## `symmetric_difference()`\n",
    " \n",
    "1. Return a new set with elements in either the set or other, but not both.\n",
    "\n",
    "2. The operator for this function is the caret ( `^` )."
   ]
  },
  {
   "cell_type": "code",
   "execution_count": 13,
   "metadata": {},
   "outputs": [
    {
     "name": "stdout",
     "output_type": "stream",
     "text": [
      "{'a', 'd'}\n",
      "{'a', 'd'}\n"
     ]
    }
   ],
   "source": [
    "set_1 = {'a', 'b', 'c'}\n",
    "set_2 = {'b', 'c', 'd'}\n",
    "\n",
    "print(set_1.symmetric_difference(set_2))\n",
    "print(set_1 ^ set_2)"
   ]
  }
 ],
 "metadata": {
  "kernelspec": {
   "display_name": "Python311",
   "language": "python",
   "name": "python3"
  },
  "language_info": {
   "codemirror_mode": {
    "name": "ipython",
    "version": 3
   },
   "file_extension": ".py",
   "mimetype": "text/x-python",
   "name": "python",
   "nbconvert_exporter": "python",
   "pygments_lexer": "ipython3",
   "version": "3.11.4"
  }
 },
 "nbformat": 4,
 "nbformat_minor": 2
}
