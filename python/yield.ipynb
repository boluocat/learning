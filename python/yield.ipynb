{
 "cells": [
  {
   "cell_type": "code",
   "execution_count": 1,
   "metadata": {},
   "outputs": [
    {
     "name": "stdout",
     "output_type": "stream",
     "text": [
      "starting...\n",
      "4\n",
      "********************\n",
      "res: None\n",
      "4\n"
     ]
    }
   ],
   "source": [
    "def foo():\n",
    "    print(\"starting...\")\n",
    "    while True:\n",
    "        res = yield 4   # return 4, process holding\n",
    "        print(\"res:\",res)\n",
    "\n",
    "\n",
    "g = foo()\n",
    "print(next(g))\n",
    "print(\"*\"*20)\n",
    "print(next(g))"
   ]
  },
  {
   "cell_type": "markdown",
   "metadata": {},
   "source": [
    "1. 程序开始执行以后，因为foo函数中有yield关键字，所以foo函数并不会真的执行，而是先得到一个生成器g(相当于一个对象)\n",
    "2. 直到调用next方法，foo函数正式开始执行，先执行foo函数中的print方法，然后进入while循环\n",
    "3. 程序遇到yield关键字，然后把yield想想成return,return了一个4之后，程序停止，并没有执行赋值给res操作，此时next(g)语句执行完成，所以输出的前两行（第一个是while上面的print的结果,第二个是return出的结果）是执行print(next(g))的结果\n",
    "4. 程序执行print(\"*\"*20)，输出20个*\n",
    "5. 又开始执行下面的print(next(g)),这个时候和上面那个差不多，不过不同的是，这个时候是从刚才那个next程序停止的地方开始执行的，也就是要执行res的赋值操作，这时候要注意，这个时候赋值操作的右边是没有值的（因为刚才那个是return出去了，并没有给赋值操作的左边传参数），所以这个时候res赋值是None,所以接着下面的输出就是res:所以这个时候res赋值是None\n",
    "6. 程序会继续在while里执行，又一次碰到yield,这个时候同样return 出4，然后程序停止，print函数输出的4就是这次return出的4."
   ]
  },
  {
   "cell_type": "markdown",
   "metadata": {},
   "source": [
    "带yield的函数是一个生成器，而不是一个函数了，这个生成器有一个函数就是next函数，next就相当于“下一步”生成哪个数，这一次的next开始的地方是接着上一次的next停止的地方执行的，所以调用next的时候，生成器并不会从foo函数的开始执行，只是接着上一步停止的地方开始，然后遇到yield后，return出要生成的数，此步就结束。"
   ]
  },
  {
   "cell_type": "code",
   "execution_count": 2,
   "metadata": {},
   "outputs": [
    {
     "name": "stdout",
     "output_type": "stream",
     "text": [
      "starting...\n",
      "4\n",
      "********************\n",
      "res: 7\n",
      "4\n"
     ]
    }
   ],
   "source": [
    "def foo():\n",
    "    print(\"starting...\")\n",
    "    while True:\n",
    "        res = yield 4\n",
    "        print(\"res:\",res)\n",
    "g = foo()\n",
    "print(next(g))\n",
    "print(\"*\"*20)\n",
    "print(g.send(7))"
   ]
  },
  {
   "cell_type": "markdown",
   "metadata": {},
   "source": [
    "send是发送一个参数给res的，因为上面讲到，return的时候，并没有把4赋值给res，下次执行的时候只好继续执行赋值操作，只好赋值为None了，而如果用send的话，开始执行的时候，先接着上一次（return 4之后）执行，先把7赋值给了res,然后执行next的作用，遇见下一回的yield，return出结果后结束。\n",
    "\n",
    "1. 程序开始执行以后，因为foo函数中有yield关键字，所以foo函数并不会真的执行，而是先得到一个生成器g(相当于一个对象)\n",
    "2. 直到调用next方法，foo函数正式开始执行，先执行foo函数中的print方法，然后进入while循环\n",
    "3. 程序遇到yield关键字，然后把yield想想成return,return了一个4之后，程序停止，并没有执行赋值给res操作，此时next(g)语句执行完成，所以输出的前两行（第一个是while上面的print的结果,第二个是return出的结果）是执行print(next(g))的结果\n",
    "4. 程序执行print(\"*\"*20)，输出20个*\n",
    "5. 程序执行g.send(7)，程序会从yield关键字那一行继续向下运行，send会把7这个值赋值给res变量\n",
    "6. 由于send方法中包含next()方法，所以程序会继续向下运行执行print方法，然后再次进入while循环\n",
    "7. 程序执行再次遇到yield关键字，yield会返回后面的值后，程序再次暂停，直到再次调用next方法或send方法。"
   ]
  },
  {
   "cell_type": "markdown",
   "metadata": {},
   "source": [
    "为什么用这个生成器，是因为如果用List的话，会占用更大的空间，比如说取0,1,2,3,4,5,6............1000。 你可能会(这里是Python2中的range())：\n",
    "```python\n",
    "for n in range(1000):\n",
    "    a=n\n",
    "```\n",
    "这个时候range(1000)就默认生成一个含有1000个数的list了，所以很占内存。你可以用刚才的yield组合成生成器进行实现:\n",
    "```python\n",
    "def foo(num):\n",
    "    print(\"starting...\")\n",
    "    while num<10:\n",
    "        num=num+1\n",
    "        yield num\n",
    "for n in foo(0):\n",
    "    print(n)\n",
    "```"
   ]
  },
  {
   "cell_type": "code",
   "execution_count": 19,
   "metadata": {},
   "outputs": [
    {
     "name": "stdout",
     "output_type": "stream",
     "text": [
      "starting...\n",
      "1\n",
      "2\n",
      "3\n",
      "4\n",
      "5\n",
      "6\n",
      "7\n",
      "8\n",
      "9\n",
      "10\n"
     ]
    }
   ],
   "source": [
    "def foo(num):\n",
    "    print(\"starting...\")\n",
    "    while num<10:\n",
    "        num=num+1\n",
    "        yield num\n",
    "        \n",
    "for n in foo(0):\n",
    "    print(n)"
   ]
  },
  {
   "cell_type": "markdown",
   "metadata": {
    "vscode": {
     "languageId": "powershell"
    }
   },
   "source": [
    "另外，python3时已经没有`xrange()`了，在python3中，`range()`就是`xrange()`了，你可以在python3中查看`range()`的类型，它已经是个`<class 'range'>`了，而不是一个list了"
   ]
  }
 ],
 "metadata": {
  "kernelspec": {
   "display_name": "Python 3",
   "language": "python",
   "name": "python3"
  },
  "language_info": {
   "codemirror_mode": {
    "name": "ipython",
    "version": 3
   },
   "file_extension": ".py",
   "mimetype": "text/x-python",
   "name": "python",
   "nbconvert_exporter": "python",
   "pygments_lexer": "ipython3",
   "version": "3.11.4"
  }
 },
 "nbformat": 4,
 "nbformat_minor": 2
}
