{
 "cells": [
  {
   "cell_type": "markdown",
   "metadata": {},
   "source": [
    "# conditions statement\n",
    "\n",
    "在Python中，判断语句的末尾必须加上冒号，这是Python特定的语法。\n",
    "\n",
    "在Python不支持switch语句的情况下，如果出现多个条件判断时，需要使用 else if 来实现，在Python中的表达为`elif`：\n",
    "```python\n",
    "if condition_1:\n",
    "    statement_1\n",
    "elif condition_2:\n",
    "    statement_2\n",
    "...\n",
    "elif condition_i:\n",
    "    statement_i\n",
    "else:\n",
    "    statement_n\n",
    "```\n",
    "\n",
    "整个条件语句是顺序执行的，如果遇到一个条件满足，比如 condition_i 满足时，在执行完 statement_i 后，便会退出整个 `if`、`elif`、`else` 条件语句，而不会继续向下执行。\n",
    "\n",
    "`if`语句可以单独使用，但`elif`, `else`必须和`if`成对使用。"
   ]
  },
  {
   "cell_type": "code",
   "execution_count": null,
   "metadata": {},
   "outputs": [],
   "source": [
    "if id == 0:\n",
    "    print('red')\n",
    "elif id == 1:\n",
    "    print('yellow')\n",
    "else:\n",
    "    print('green')  \n"
   ]
  },
  {
   "cell_type": "markdown",
   "metadata": {},
   "source": [
    "省略条件的常见方法：\n",
    "\n",
    "| Data Tpye |   result   |\n",
    "|-----------|------------|\n",
    "|String|空字符串解析为False,其余为True|\n",
    "|Int|0解析为False,其余解析为True|\n",
    "|Bool|True解析为True，False解析为False|\n",
    "|list/tuple/dict/set|Iterable为空解析为False，其余为True|\n",
    "|Object|None解析为False,其余为False|\n",
    "\n",
    "\n",
    "不过，切记，在实际写代码时，我们鼓励，除了 boolean 类型的数据，条件判断最好是显性的。"
   ]
  },
  {
   "cell_type": "code",
   "execution_count": 3,
   "metadata": {},
   "outputs": [
    {
     "name": "stdout",
     "output_type": "stream",
     "text": [
      "Not zero\n",
      "Not zero\n"
     ]
    }
   ],
   "source": [
    "i = 0\n",
    "\n",
    "# recommend code\n",
    "if i != 0:\n",
    "    print('Zero')\n",
    "else:\n",
    "    print('Not zero')\n",
    "    \n",
    "    \n",
    "# Not encourage\n",
    "if i:\n",
    "    print('Zero')\n",
    "else:\n",
    "    print('Not zero')"
   ]
  },
  {
   "cell_type": "markdown",
   "metadata": {},
   "source": [
    "# loop statement\n",
    "\n",
    "## iterable\n",
    "\n",
    "Python 中的数据结构只要是可迭代的（iterable），比如列表、集合等等，那么都可以通过下面这种方式遍历:\n",
    "```python\n",
    "for item in <iterable>:\n",
    "    ...\n",
    "\n",
    "```\n",
    "字典本身只有键是可迭代的，如果我们要遍历它的值或者是键值对，就需要通过其内置的函数 values() 或者 items() 实现。其中，values() 返回字典的值的集合，items() 返回键值对的集合。"
   ]
  },
  {
   "cell_type": "code",
   "execution_count": 4,
   "metadata": {},
   "outputs": [
    {
     "name": "stdout",
     "output_type": "stream",
     "text": [
      "name\n",
      "dob\n",
      "gender\n",
      "jason\n",
      "2000-01-01\n",
      "male\n",
      "key: name, value: jason\n",
      "key: dob, value: 2000-01-01\n",
      "key: gender, value: male\n"
     ]
    }
   ],
   "source": [
    "d = {'name': 'jason', 'dob': '2000-01-01', 'gender': 'male'}\n",
    "for k in d: # 遍历字典的键\n",
    "    print(k)\n",
    "\n",
    "for v in d.values(): # 遍历字典的值\n",
    "    print(v)\n",
    "\n",
    "for k, v in d.items(): # 遍历字典的键值对\n",
    "    print('key: {}, value: {}'.format(k, v))"
   ]
  },
  {
   "cell_type": "markdown",
   "metadata": {},
   "source": [
    "针对列表，集合这种类型，可以通过`in`来直接遍历内部的元素，也可以通过索引来进行元素的遍历。另外，还能通过获取元素的索引和值"
   ]
  },
  {
   "cell_type": "code",
   "execution_count": 5,
   "metadata": {},
   "outputs": [
    {
     "name": "stdout",
     "output_type": "stream",
     "text": [
      "1\n",
      "2\n",
      "3\n",
      "4\n"
     ]
    }
   ],
   "source": [
    "l = [1, 2, 3, 4]\n",
    "for item in l:\n",
    "    print(item)"
   ]
  },
  {
   "cell_type": "code",
   "execution_count": 6,
   "metadata": {},
   "outputs": [
    {
     "name": "stdout",
     "output_type": "stream",
     "text": [
      "1\n",
      "2\n",
      "3\n",
      "4\n",
      "5\n"
     ]
    }
   ],
   "source": [
    "l = [1, 2, 3, 4, 5, 6, 7]\n",
    "for index in range(0, len(l)):\n",
    "    if index < 5:\n",
    "        print(l[index])        \n"
   ]
  },
  {
   "cell_type": "code",
   "execution_count": 8,
   "metadata": {},
   "outputs": [
    {
     "name": "stdout",
     "output_type": "stream",
     "text": [
      "0 1\n",
      "1 2\n",
      "2 3\n",
      "3 4\n",
      "4 5\n"
     ]
    }
   ],
   "source": [
    "l = [1, 2, 3, 4, 5, 6, 7]\n",
    "for index, item in enumerate(l):\n",
    "    if index < 5:\n",
    "        print(index,item)  \n"
   ]
  },
  {
   "cell_type": "markdown",
   "metadata": {},
   "source": [
    "在循环语句中，我们还常常搭配 continue 和 break 一起使用。所谓 continue，就是让程序跳过当前这层循环，继续执行下面的循环；而 break 则是指完全跳出所在的整个循环体。在循环中适当加入 continue 和 break，往往能使程序更加简洁、易读。\n",
    "\n",
    "在写代码时，尽量避免多重嵌套。"
   ]
  },
  {
   "cell_type": "code",
   "execution_count": 10,
   "metadata": {},
   "outputs": [
    {
     "name": "stdout",
     "output_type": "stream",
     "text": [
      "name: orange, color: orange\n",
      "name: banana, color: yellow\n",
      "name: banana, color: brown\n"
     ]
    }
   ],
   "source": [
    "'''给定两个字典，分别是产品名称到价格的映射，和产品名称到颜色列表的映射。我们要找出价格小于 1000，并且颜色不是红色的所有产品名称和颜色的组合。'''\n",
    "# name_price: 产品名称(str)到价格(int)的映射字典\n",
    "# name_color: 产品名字(str)到颜色(list of str)的映射字典\n",
    "\n",
    "name_price = {'orange':100, 'apple':1030, 'strawberry':2000, 'pineapple':1400, 'banana':500, 'melon':4000, 'lemon':1200, 'watermelon':2100}\n",
    "name_color = {'orange':['orange'], 'apple':['red','green'], 'strawberry':['red','white'], 'pineapple':['yellow'], 'banana':['yellow','brown'], 'melon':['green','yellow'], 'lemon':['yellow','green'], 'watermelon':['green']}\n",
    "\n",
    "for name, price in name_price.items():\n",
    "    if price < 1000:\n",
    "        if name in name_color:\n",
    "            for color in name_color[name]:\n",
    "                if color != 'red':\n",
    "                    print('name: {}, color: {}'.format(name, color))\n",
    "        else:\n",
    "            print('name: {}, color: {}'.format(name, 'None'))\n"
   ]
  },
  {
   "cell_type": "code",
   "execution_count": 12,
   "metadata": {},
   "outputs": [
    {
     "name": "stdout",
     "output_type": "stream",
     "text": [
      "name: orange, color: orange\n",
      "name: banana, color: yellow\n",
      "name: banana, color: brown\n"
     ]
    }
   ],
   "source": [
    "# add continue can make code be readable\n",
    "# name_price: 产品名称(str)到价格(int)的映射字典\n",
    "# name_color: 产品名字(str)到颜色(list of str)的映射字典\n",
    "\n",
    "name_price = {'orange':100, 'apple':1030, 'strawberry':2000, 'pineapple':1400, 'banana':500, 'melon':4000, 'lemon':1200, 'watermelon':2100}\n",
    "name_color = {'orange':['orange'], 'apple':['red','green'], 'strawberry':['red','white'], 'pineapple':['yellow'], 'banana':['yellow','brown'], 'melon':['green','yellow'], 'lemon':['yellow','green'], 'watermelon':['green']}\n",
    "\n",
    "for name, price in name_price.items():\n",
    "    if price >= 1000:\n",
    "        continue\n",
    "    if name not in name_color:\n",
    "        print('name: {}, color: {}'.format(name, 'None'))\n",
    "        continue\n",
    "    for color in name_color[name]:\n",
    "        if color == 'red':\n",
    "            continue\n",
    "        print('name: {}, color: {}'.format(name, color))\n"
   ]
  },
  {
   "cell_type": "markdown",
   "metadata": {},
   "source": [
    "## while\n",
    "通常来说，如果你只是遍历一个已知的集合，找出满足条件的元素，并进行相应的操作，那么使用 for 循环更加简洁。但如果你需要在满足某个条件前，不停地重复某些操作，并且没有特定的集合需要去遍历，那么一般则会使用 while 循环。\n",
    "\n",
    "```python\n",
    "while condition:\n",
    "    ....\n",
    "\n",
    "```"
   ]
  },
  {
   "cell_type": "code",
   "execution_count": null,
   "metadata": {},
   "outputs": [],
   "source": [
    "# 某个交互式问答系统，用户输入文字，系统会根据内容做出相应的回答。为了实现这个功能，我们一般会使用 while 循环\n",
    "while True:\n",
    "    try:\n",
    "        text = input('Please enter your questions, enter \"q\" to exit')\n",
    "        if text == 'q':\n",
    "            print('Exit system')\n",
    "            break\n",
    "        ...\n",
    "        ...\n",
    "        print(response)\n",
    "    except Exception as err:\n",
    "        print('Encountered error: {}'.format(err))\n",
    "        break \n"
   ]
  },
  {
   "cell_type": "markdown",
   "metadata": {},
   "source": [
    "## while与for的效率比较\n",
    "while 循环：\n",
    "```python\n",
    "i = 0\n",
    "while i < 1000000:\n",
    "    i += 1\n",
    "\n",
    "```\n",
    "\n",
    "for循环\n",
    "```python\n",
    "for i in range(0, 1000000):\n",
    "    pass\n",
    "\n",
    "```\n",
    "\n",
    "**`range()` 函数是直接由 C 语言写的，调用它速度非常快**。而 `while` 循环中的“i += 1”这个操作，得通过 Python 的解释器间接调用底层的 C 语言；并且这个简单的操作，又涉及到了对象的创建和删除（因为 i 是整型，是 immutable，i += 1 相当于 i = new int(i + 1)）。所以，显然，`for` 循环的效率更胜一筹。\n",
    "\n",
    "\n"
   ]
  },
  {
   "cell_type": "markdown",
   "metadata": {},
   "source": [
    "## 条件与循环的复用\n",
    "\n",
    "**条件与循环并作一行**\n",
    "```python\n",
    "expression1 if condition else expression2 for item in iterable\n",
    "\n",
    "```\n",
    "分解之后\n",
    "```python\n",
    "for item in iterable:\n",
    "    if condition:\n",
    "        expression1\n",
    "    else:\n",
    "        expression2\n",
    "```\n",
    "\n",
    "只有if和for的情况：\n",
    "```python\n",
    "expression for item in iterable if condition\n",
    "\n",
    "```"
   ]
  },
  {
   "cell_type": "code",
   "execution_count": 14,
   "metadata": {},
   "outputs": [
    {
     "data": {
      "text/plain": [
       "[13, 11, 9, 7, 5, 7, 9, 11, 13]"
      ]
     },
     "execution_count": 14,
     "metadata": {},
     "output_type": "execute_result"
    }
   ],
   "source": [
    "# 绘制 y = 2*|x| + 5 的函数图像，给定集合 x 的数据点，需要计算出 y 的数据集合\n",
    "x = [-4,3,-2,-1,0,1,2,3,4]\n",
    "\n",
    "y = [2 * v + 5 if v > 0 else 2 * -v + 5 for v in x]\n",
    "y"
   ]
  },
  {
   "cell_type": "code",
   "execution_count": 21,
   "metadata": {},
   "outputs": [
    {
     "data": {
      "text/plain": [
       "['Today', 'Sunday']"
      ]
     },
     "execution_count": 21,
     "metadata": {},
     "output_type": "execute_result"
    }
   ],
   "source": [
    "# 将文件中逐行读取的一个完整语句，按逗号分割单词，去掉首位的空字符，并过滤掉长度小于等于 3 的单词，最后返回由单词组成的列表\n",
    "text = ' Today, is, Sunday'\n",
    "text_list = [s.strip() for s in text.split(',') if len(s.strip()) > 3]\n",
    "text_list\n"
   ]
  },
  {
   "cell_type": "code",
   "execution_count": null,
   "metadata": {},
   "outputs": [],
   "source": [
    "# 给定两个列表 x、y，要求返回 x、y 中所有元素对组成的元组，相等情况除外\n",
    "\n",
    "[(xx, yy) for xx in x for yy in y if xx != yy]\n",
    "\n",
    "\n",
    "# 等价于\n",
    "l = []\n",
    "for xx in x:\n",
    "    for yy in y:\n",
    "        if xx != yy:\n",
    "            l.append((xx, yy))\n"
   ]
  },
  {
   "cell_type": "markdown",
   "metadata": {},
   "source": [
    "# 思考\n",
    "给定下面两个列表 attributes 和 values，要求针对 values 中每一组子列表 value，输出其和 attributes 中的键对应后的字典，最后返回字典组成的列表。\n",
    "\n",
    "```text\n",
    "# input\n",
    "attributes = ['name', 'dob', 'gender']\n",
    "\n",
    "values = [['jason', '2000-01-01', 'male'], \n",
    "['mike', '1999-01-01', 'male'],\n",
    "['nancy', '2001-02-01', 'female']\n",
    "]\n",
    "\n",
    "# expected output:\n",
    "[{'name': 'jason', 'dob': '2000-01-01', 'gender': 'male'}, \n",
    "{'name': 'mike', 'dob': '1999-01-01', 'gender': 'male'}, \n",
    "{'name': 'nancy', 'dob': '2001-02-01', 'gender': 'female'}]\n",
    "\n",
    "```\n",
    "\n",
    "你能分别用一行和多行条件循环语句，来实现这个功能吗？"
   ]
  },
  {
   "cell_type": "code",
   "execution_count": 25,
   "metadata": {},
   "outputs": [
    {
     "name": "stdout",
     "output_type": "stream",
     "text": [
      "[{'name': 'jason', 'dob': '2000-01-01', 'gender': 'male'}, {'name': 'mike', 'dob': '1999-01-01', 'gender': 'male'}, {'name': 'nancy', 'dob': '2001-02-01', 'gender': 'female'}]\n"
     ]
    }
   ],
   "source": [
    "# 多行\n",
    "attributes = ['name', 'dob', 'gender']\n",
    "\n",
    "values = [['jason', '2000-01-01', 'male'], \n",
    "['mike', '1999-01-01', 'male'],\n",
    "['nancy', '2001-02-01', 'female']\n",
    "]\n",
    "\n",
    "output_list = []\n",
    "for item in values:\n",
    "    item_dict = {}\n",
    "    for i,v in enumerate(item):\n",
    "        item_dict[attributes[i]] = v\n",
    "    output_list.append(item_dict)\n",
    "print(output_list)"
   ]
  },
  {
   "cell_type": "code",
   "execution_count": 63,
   "metadata": {},
   "outputs": [
    {
     "name": "stdout",
     "output_type": "stream",
     "text": [
      "[{'name': 'jason', 'dob': '2000-01-01', 'gender': 'male'}, {'name': 'mike', 'dob': '1999-01-01', 'gender': 'male'}, {'name': 'nancy', 'dob': '2001-02-01', 'gender': 'female'}] \n",
      "\n",
      " [{'name': 'jason', 'dob': '2000-01-01', 'gender': 'male'}, {'name': 'mike', 'dob': '1999-01-01', 'gender': 'male'}, {'name': 'nancy', 'dob': '2001-02-01', 'gender': 'female'}]\n"
     ]
    }
   ],
   "source": [
    "# 一行\n",
    "attributes = ['name', 'dob', 'gender']\n",
    "\n",
    "values = [['jason', '2000-01-01', 'male'], \n",
    "['mike', '1999-01-01', 'male'],\n",
    "['nancy', '2001-02-01', 'female']\n",
    "]\n",
    "\n",
    "a = [dict(zip(attributes,item)) for item in values]\n",
    "\n",
    "b = [{attributes[i]:v for i,v in enumerate(item)} for item in values]\n",
    "\n",
    "\n",
    "print(a,'\\n\\n',b)"
   ]
  },
  {
   "cell_type": "markdown",
   "metadata": {},
   "source": [
    "# `zip()`\n",
    "`zip()` function in Python is a built-in function that takes multiple iterables as input and returns an iterator of tuples.\n",
    "\n",
    "`zip(iterable1, iterable2, ...)`\n",
    "\n",
    "The iterable1, iterable2 and so on, are the input iterables that you want to zip together. They can be lists, tuples, or any other iterable objects.\n",
    "\n",
    "If the iterable object is a string, then it will be split by index. And if there is a dictionary for the iterable object, in the default, the key will be used to `zip()` function.\n",
    "\n",
    "And if number of items are different in these iterable objects. Then it will `zip()` in the least number of these iterable objects. For example, a has 4 items, b has 5 items, c has 2 items, the each `zip(a,b,c)` result will be have 3 items, and each item has 2 items."
   ]
  },
  {
   "cell_type": "code",
   "execution_count": 74,
   "metadata": {},
   "outputs": [
    {
     "data": {
      "text/plain": [
       "[(1, 'a', 10, 't', 'you'),\n",
       " (2, 'b', 20, 'h', 'I'),\n",
       " (3, 'c', 30, 'i', 'she'),\n",
       " (4, 'd', 40, 's', 'he')]"
      ]
     },
     "execution_count": 74,
     "metadata": {},
     "output_type": "execute_result"
    }
   ],
   "source": [
    "a = {1,2,3,4}\n",
    "b = ('a','b','c','d')\n",
    "c = [10,20,30,40,50]\n",
    "d = 'this is a text'\n",
    "e = {'you':'mia', 'I':'wacat', 'she':'guagua','he':'dongdong', 'all':'everyone'}\n",
    "\n",
    "list(zip(a,b,c,d,e))"
   ]
  }
 ],
 "metadata": {
  "kernelspec": {
   "display_name": "Python 3",
   "language": "python",
   "name": "python3"
  },
  "language_info": {
   "codemirror_mode": {
    "name": "ipython",
    "version": 3
   },
   "file_extension": ".py",
   "mimetype": "text/x-python",
   "name": "python",
   "nbconvert_exporter": "python",
   "pygments_lexer": "ipython3",
   "version": "3.11.4"
  },
  "orig_nbformat": 4
 },
 "nbformat": 4,
 "nbformat_minor": 2
}
