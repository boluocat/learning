{
 "cells": [
  {
   "cell_type": "markdown",
   "metadata": {},
   "source": [
    "# Python中的错误与异常\n",
    "\n",
    "通常来说，程序中的错误至少包括两种：一种是语法错误，另一种是异常。\n",
    "\n",
    "- 语法错误，是由于代码书写不规范导致程序无法将其正确的识别与运行。\n",
    "\n",
    "- 异常，则是指程序的语法正确，可以被执行，但在执行的过程中遇到了错误，抛出异常。异常类型文档:[https://docs.python.org/3/library/exceptions.html#bltin-exceptions]\n"
   ]
  },
  {
   "cell_type": "code",
   "execution_count": 1,
   "metadata": {},
   "outputs": [
    {
     "ename": "SyntaxError",
     "evalue": "expected ':' (1236032539.py, line 1)",
     "output_type": "error",
     "traceback": [
      "\u001b[1;36m  Cell \u001b[1;32mIn[1], line 1\u001b[1;36m\u001b[0m\n\u001b[1;33m    if name is not None\u001b[0m\n\u001b[1;37m                       ^\u001b[0m\n\u001b[1;31mSyntaxError\u001b[0m\u001b[1;31m:\u001b[0m expected ':'\n"
     ]
    }
   ],
   "source": [
    "# 语法错误\n",
    "if name is not None\n",
    "    print(name)\n"
   ]
  },
  {
   "cell_type": "code",
   "execution_count": 2,
   "metadata": {},
   "outputs": [
    {
     "ename": "ZeroDivisionError",
     "evalue": "division by zero",
     "output_type": "error",
     "traceback": [
      "\u001b[1;31m---------------------------------------------------------------------------\u001b[0m",
      "\u001b[1;31mZeroDivisionError\u001b[0m                         Traceback (most recent call last)",
      "\u001b[1;32me:\\git\\learning\\python\\EorroHanding.ipynb Cell 3\u001b[0m line \u001b[0;36m3\n\u001b[0;32m      <a href='vscode-notebook-cell:/e%3A/git/learning/python/EorroHanding.ipynb#W2sZmlsZQ%3D%3D?line=0'>1</a>\u001b[0m \u001b[39m# 异常\u001b[39;00m\n\u001b[1;32m----> <a href='vscode-notebook-cell:/e%3A/git/learning/python/EorroHanding.ipynb#W2sZmlsZQ%3D%3D?line=2'>3</a>\u001b[0m \u001b[39m10\u001b[39;49m \u001b[39m/\u001b[39;49m \u001b[39m0\u001b[39;49m\n",
      "\u001b[1;31mZeroDivisionError\u001b[0m: division by zero"
     ]
    }
   ],
   "source": [
    "# 异常\n",
    "\n",
    "10 / 0"
   ]
  },
  {
   "cell_type": "markdown",
   "metadata": {},
   "source": [
    "## 处理异常\n",
    "\n",
    "```python\n",
    "try:\n",
    "    block\n",
    "except error:\n",
    "    block\n",
    "else:\n",
    "    block\n",
    "```\n",
    "\n",
    "程序监控try下面的执行语句，如果存在错误。就可以通过except进行捕获，如果except给定了某一特殊的错误名称，则只会捕获这一错误类型，发生别的错误时，程序还是会被异常终止。\n",
    "\n",
    "也可以在except中放入多个错误类型进行捕获，except block 中只要有一个 exception 类型与实际匹配即可\n",
    "```python\n",
    "try:\n",
    "    block\n",
    "except (ValueError, IndexError) as err:\n",
    "    block\n",
    "```\n",
    "\n",
    "```python\n",
    "try:\n",
    "    block\n",
    "except ValueError as err:\n",
    "    block\n",
    "except IndexError as err:\n",
    "    block\n",
    "```\n",
    "\n",
    "不过，很多时候，我们很难保证程序覆盖所有的异常类型，所以，更通常的做法，是在最后一个 except block，声明其处理的异常类型是 Exception。Exception 是其他所有非系统异常的基类，能够匹配任意非系统异常。也可以在 except 后面省略异常类型，这表示与任意异常相匹配（包括系统异常等）。\n",
    "```python\n",
    "try:\n",
    "    block\n",
    "except ValueError as err:\n",
    "    block\n",
    "except IndexError as err:\n",
    "    block\n",
    "except Exception as err:\n",
    "    block\n",
    "\n",
    "```\n",
    "\n",
    "异常处理中，还有一个很常见的用法是 `finally`，经常和 `try`、`except` 放在一起来用。**无论发生什么情况，finally block 中的语句都会被执行，哪怕前面的 try 和 excep block 中使用了 return 语句**。\n",
    "\n",
    "```python\n",
    "import sys\n",
    "try:\n",
    "    f = open('file.txt', 'r')\n",
    "    .... # some data processing\n",
    "except OSError as err:\n",
    "    print('OS error: {}'.format(err))\n",
    "except:\n",
    "    print('Unexpected error:', sys.exc_info()[0])\n",
    "finally:\n",
    "    f.close()\n",
    "\n",
    "```\n",
    "这段代码中，try block 尝试读取 file.txt 这个文件，并对其中的数据进行一系列的处理，到最后，无论是读取成功还是读取失败，程序都会执行 finally 中的语句——关闭这个文件流，确保文件的完整性。因此，在 finally 中，我们通常会放一些无论如何都要执行的语句。"
   ]
  },
  {
   "cell_type": "markdown",
   "metadata": {},
   "source": [
    "## 用户自定义异常\n",
    "实际工作中，如果内置的异常类型无法满足我们的需求，或者为了让异常更加详细、可读，想增加一些异常类型的其他功能，我们可以自定义所需异常类型。例如：\n",
    "```python\n",
    "class MyInputError(Exception):\n",
    "    \"\"\"Exception raised when there're errors in input\"\"\"\n",
    "    def __init__(self, value): # 自定义异常类型的初始化\n",
    "        self.value = value\n",
    "    def __str__(self): # 自定义异常类型的string表达形式\n",
    "        return (\"{} is invalid input\".format(repr(self.value)))\n",
    "    \n",
    "try:\n",
    "    raise MyInputError(1) # 抛出MyInputError这个异常\n",
    "except MyInputError as err:\n",
    "    print('error: {}'.format(err))\n",
    "\n",
    "```\n"
   ]
  },
  {
   "cell_type": "markdown",
   "metadata": {},
   "source": [
    "## 异常的使用场景与注意点\n",
    "\n",
    "通常来说，在程序中，如果我们不确定某段代码能否成功执行，往往这个地方就需要使用异常处理。\n",
    "\n",
    "不过，有一点切记，我们不能走向另一个极端——滥用异常处理。\n",
    "\n",
    "```python\n",
    "d = {'name': 'jason', 'age': 20}\n",
    "try:\n",
    "    value = d['dob']\n",
    "    ...\n",
    "except KeyError as err:\n",
    "    print('KeyError: {}'.format(err))\n",
    "\n",
    "```\n",
    "\n",
    "正常的 flow-control 逻辑，不要使用异常处理，直接用条件语句解决就可以了。上面的例子，可以直接改写为\n",
    "```python\n",
    "if 'dob' in d:\n",
    "    value = d['dob']\n",
    "    ...\n",
    "\n",
    "```\n"
   ]
  },
  {
   "cell_type": "markdown",
   "metadata": {},
   "source": [
    "# 思考\n",
    "在异常处理时，如果 try block 中有多处抛出异常，需要我们使用多个 try except block 吗？以数据库的连接、读取为例，下面两种写法，你觉得哪种更好呢？\n",
    "\n",
    "```python\n",
    "try:\n",
    "    db = DB.connect('<db path>') # 可能会抛出异常\n",
    "    raw_data = DB.queryData('<viewer_id>') # 可能会抛出异常\n",
    "except (DBConnectionError, DBQueryDataError) err:\n",
    "    print('Error: {}'.format(err))\n",
    "\n",
    "```\n",
    "\n",
    "```python\n",
    "try:\n",
    "    db = DB.connect('<db path>') # 可能会抛出异常\n",
    "    try:\n",
    "        raw_data = DB.queryData('<viewer_id>')\n",
    "    except DBQueryDataError as err:\n",
    "         print('DB query data error: {}'.format(err))\n",
    "except DBConnectionError as err:\n",
    "     print('DB connection error: {}'.format(err))\n",
    "\n",
    "```"
   ]
  },
  {
   "cell_type": "markdown",
   "metadata": {},
   "source": [
    "## `raise`"
   ]
  },
  {
   "cell_type": "markdown",
   "metadata": {},
   "source": []
  }
 ],
 "metadata": {
  "kernelspec": {
   "display_name": "Python 3",
   "language": "python",
   "name": "python3"
  },
  "language_info": {
   "codemirror_mode": {
    "name": "ipython",
    "version": 3
   },
   "file_extension": ".py",
   "mimetype": "text/x-python",
   "name": "python",
   "nbconvert_exporter": "python",
   "pygments_lexer": "ipython3",
   "version": "3.11.4"
  },
  "orig_nbformat": 4
 },
 "nbformat": 4,
 "nbformat_minor": 2
}
