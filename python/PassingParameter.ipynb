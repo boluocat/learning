{
 "cells": [
  {
   "cell_type": "markdown",
   "metadata": {},
   "source": [
    "# How to pass parameters in Python\n",
    "\n",
    "## What is passing-by-value and passing-by-reference\n",
    "\n",
    "\n"
   ]
  },
  {
   "cell_type": "markdown",
   "metadata": {},
   "source": [
    "所谓值传递，通常就是拷贝参数的值，然后传递给函数里的新变量。这样，原变量和新变量之间互相独立，互不影响。\n",
    "\n",
    "所谓引用传递，通常是指把参数的引用传给新的变量，这样，原变量和新变量就会指向同一块内存地址。如果改变了其中任何一个变量的值，那么另外一个变量也会相应地随之改变。\n",
    "\n",
    "### Python 变量及其赋值\n"
   ]
  },
  {
   "cell_type": "code",
   "execution_count": 2,
   "metadata": {},
   "outputs": [
    {
     "name": "stdout",
     "output_type": "stream",
     "text": [
      "2 1\n"
     ]
    }
   ],
   "source": [
    "a = 1 \n",
    "b = a \n",
    "a = a + 1\n",
    "print(a,b)"
   ]
  },
  {
   "cell_type": "markdown",
   "metadata": {},
   "source": [
    "1. `a = 1`,1赋值给了a,即a指向了1这个对象。\n",
    "2. `b = a`,变量 b 也同时指向 1 这个对象\n",
    "3. `a = a + 1`, 在Python中，int,string等类型是不可变的变量。所以`a=a+1`,并不是让a的值增加1，而是表示重新创建一个新的值为2的对象，并让a指向它。所以b仍然不变。\n"
   ]
  },
  {
   "cell_type": "code",
   "execution_count": 3,
   "metadata": {},
   "outputs": [
    {
     "name": "stdout",
     "output_type": "stream",
     "text": [
      "[1, 2, 3, 4]\n",
      "[1, 2, 3, 4]\n"
     ]
    }
   ],
   "source": [
    "l1 = [1, 2, 3]\n",
    "l2 = l1\n",
    "l1.append(4)\n",
    "print(l1)\n",
    "print(l2)"
   ]
  },
  {
   "cell_type": "markdown",
   "metadata": {},
   "source": [
    "1. `l1 = [1, 2, 3]`, l1指向[1,2,3]这个对象。\n",
    "2. `l2=l1`, l2指向l1。\n",
    "3. `l1.append(4)`,由于列表是可变的，所以这一步的操作不会创建新的列表。只是在原列表的末尾插入了元素 4。\n",
    "4. 所以最终l1,l2的值都同时发生了变化\n"
   ]
  },
  {
   "cell_type": "markdown",
   "metadata": {},
   "source": [
    "另外，需要注意的是，Python 里的**变量可以被删除，但是对象无法被删除**。\n",
    "\n",
    "`del l` 删除了 l 这个变量，从此以后你无法访问 l，但是对象[1, 2, 3]仍然存在。Python 程序运行时，其自带的垃圾回收系统会跟踪每个对象的引用。如果[1, 2, 3]除了 l 外，还在其他地方被引用，那就不会被回收，反之则会被回收。"
   ]
  },
  {
   "cell_type": "code",
   "execution_count": 4,
   "metadata": {},
   "outputs": [],
   "source": [
    "l = [1, 2, 3]\n",
    "del l"
   ]
  },
  {
   "cell_type": "markdown",
   "metadata": {},
   "source": [
    "由此可见，在 Python 中：\n",
    "1.  变量的赋值，只是表示让变量指向了某个对象，并不表示拷贝对象给变量；而一个对象，可以被多个变量所指向。 \n",
    "2.  可变对象（列表，字典，集合等等）的改变，会影响所有指向该对象的变量。 \n",
    "3.  对于不可变对象（字符串、整型、元组等等），所有指向该对象的变量的值总是一样的，也不会改变。但是通过某些操作（+= 等等）更新不可变对象的值时，会返回一个新的对象。 \n",
    "4.  变量可以被删除，但是对象无法被删除。"
   ]
  },
  {
   "cell_type": "markdown",
   "metadata": {},
   "source": [
    "### Python 函数的参数传递\n",
    "\n",
    "Python 的参数传递是赋值传递 （pass by assignment），或者叫作对象的引用传递（pass by object reference）。Python 里所有的数据类型都是对象，**所以参数传递时，只是让新变量与原变量指向相同的对象而已**，并不存在值传递或是引用传递一说。"
   ]
  },
  {
   "cell_type": "code",
   "execution_count": 8,
   "metadata": {},
   "outputs": [
    {
     "name": "stdout",
     "output_type": "stream",
     "text": [
      "1\n"
     ]
    }
   ],
   "source": [
    "def my_func1(b):\n",
    "    b = 2\n",
    "\n",
    "a = 1\n",
    "my_func1(a)\n",
    "print(a)"
   ]
  },
  {
   "cell_type": "markdown",
   "metadata": {},
   "source": [
    "这里的参数传递，使变量 a 和 b 同时指向了 1 这个对象。但当我们执行到 b = 2 时，系统会重新创建一个值为 2 的新对象，并让 b 指向它；而 a 仍然指向 1 这个对象。所以，a 的值不变，仍然为 1。"
   ]
  },
  {
   "cell_type": "code",
   "execution_count": 9,
   "metadata": {},
   "outputs": [
    {
     "name": "stdout",
     "output_type": "stream",
     "text": [
      "2\n"
     ]
    }
   ],
   "source": [
    "def my_func2(b):\n",
    "    b = 2\n",
    "    return b\n",
    "\n",
    "a = 1\n",
    "a = my_func2(a)\n",
    "print(a)"
   ]
  },
  {
   "cell_type": "markdown",
   "metadata": {},
   "source": [
    "在上面的函数中，如果让函数返回新的变量，并赋值给a。 这样a就会指向一个新的值为2的对象，a的值也因此变为2。"
   ]
  },
  {
   "cell_type": "code",
   "execution_count": 11,
   "metadata": {},
   "outputs": [
    {
     "name": "stdout",
     "output_type": "stream",
     "text": [
      "[1, 2, 3, 4]\n"
     ]
    }
   ],
   "source": [
    "def my_func3(l2):\n",
    "    l2.append(4)\n",
    "\n",
    "l1 = [1, 2, 3]\n",
    "my_func3(l1)\n",
    "print(l1)\n"
   ]
  },
  {
   "cell_type": "markdown",
   "metadata": {},
   "source": [
    "当可变对象当作参数传入函数里的时候，改变可变对象的值，就会影响所有指向它的变量。\n",
    "\n",
    "这里 l1 和 l2 先是同时指向值为[1, 2, 3]的列表。不过，由于列表可变，执行 append() 函数，对其末尾加入新元素 4 时，变量 l1 和 l2 的值也都随之改变了。"
   ]
  },
  {
   "cell_type": "code",
   "execution_count": 13,
   "metadata": {},
   "outputs": [
    {
     "name": "stdout",
     "output_type": "stream",
     "text": [
      "[1, 2, 3]\n",
      "[1, 2, 3, 4]\n"
     ]
    }
   ],
   "source": [
    "def my_func4(l2):\n",
    "    l2 = l2 + [4]\n",
    "\n",
    "l1 = [1, 2, 3]\n",
    "my_func4(l1)\n",
    "print(l1)\n",
    "print(l2)\n"
   ]
  },
  {
   "cell_type": "markdown",
   "metadata": {},
   "source": [
    "`l2 = l2 + [4]`，表示创建了一个“末尾加入元素 4“的新列表，并让 l2 指向这个新的对象。这个过程与 l1 无关，因此 l1 的值不变。"
   ]
  },
  {
   "cell_type": "code",
   "execution_count": 14,
   "metadata": {},
   "outputs": [
    {
     "name": "stdout",
     "output_type": "stream",
     "text": [
      "[1, 2, 3, 4]\n",
      "[1, 2, 3, 4]\n"
     ]
    }
   ],
   "source": [
    "def my_func5(l2):\n",
    "    l2 = l2 + [4]\n",
    "    return l2\n",
    "\n",
    "l1 = [1, 2, 3]\n",
    "l1 = my_func5(l1)\n",
    "print(l1)\n",
    "print(l2)"
   ]
  },
  {
   "cell_type": "markdown",
   "metadata": {},
   "source": [
    "如果要改变 l1 的值，我们就得让上述函数返回一个新列表，再赋予 l1 即可"
   ]
  },
  {
   "cell_type": "markdown",
   "metadata": {},
   "source": [
    "# 总结\n",
    "\n",
    "赋值或对象的引用传递，不是指向一个具体的内存地址，而是指向一个具体的对象。 \n",
    "1. 如果对象是可变的，当其改变时，所有指向这个对象的变量都会改变。 \n",
    "2. 如果对象不可变，简单的赋值只能改变其中一个变量的值，其余变量则不受影响。\n",
    "\n",
    "清楚了这一点，如果你想通过一个函数来改变某个变量的值，通常有两种方法。一种是直接将可变数据类型（比如列表，字典，集合）当作参数传入，直接在其上修改；第二种则是创建一个新变量，来保存修改后的值，然后将其返回给原变量。在实际工作中，我们更倾向于使用后者，因为其表达清晰明了，不易出错。"
   ]
  },
  {
   "cell_type": "markdown",
   "metadata": {},
   "source": [
    "# 思考题\n",
    "\n",
    "1. 下面的代码中, l1、l2 和 l3 都指向同一个对象吗\n",
    "   ```python\n",
    "   l1 = [1, 2, 3]\n",
    "   l2 = [1, 2, 3]\n",
    "   l3 = l2\n",
    "   ```\n",
    "2. 下面的代码中，打印 d 最后的输出是什么呢？\n",
    "   ```python\n",
    "   def func(d):\n",
    "       d['a'] = 10\n",
    "       d['b'] = 20\n",
    "\n",
    "   d = {'a': 1, 'b': 2}\n",
    "   func(d)\n",
    "   print(d)\n",
    "\n",
    "   ```"
   ]
  },
  {
   "cell_type": "markdown",
   "metadata": {},
   "source": [
    "1. l3，l2指向的是同一个对象，两者之间用等号赋值了。l2单独是一个对象，指向的[1, 2, 3]是另外一块内存空间\n",
    "2. {'a': 10, 'b': 20}，字典是可变的，传入函数后，函数里的d和外部的d实际上都指向同一个对象。"
   ]
  },
  {
   "cell_type": "code",
   "execution_count": 15,
   "metadata": {},
   "outputs": [
    {
     "name": "stdout",
     "output_type": "stream",
     "text": [
      "1444402693888 1444402128640 1444402128640\n"
     ]
    }
   ],
   "source": [
    "l1 = [1, 2, 3] \n",
    "l2 = [1, 2, 3] \n",
    "l3 = l2\n",
    "\n",
    "print(id(l1),id(l2),id(l3))"
   ]
  },
  {
   "cell_type": "code",
   "execution_count": 18,
   "metadata": {},
   "outputs": [
    {
     "name": "stdout",
     "output_type": "stream",
     "text": [
      "{'a': 10, 'b': 20}\n"
     ]
    }
   ],
   "source": [
    "def func(d):\n",
    "    d['a'] = 10\n",
    "    d['b'] = 20\n",
    "\n",
    "d = {'a': 1, 'b': 2}\n",
    "func(d)\n",
    "print(d)"
   ]
  },
  {
   "cell_type": "code",
   "execution_count": null,
   "metadata": {},
   "outputs": [],
   "source": []
  }
 ],
 "metadata": {
  "kernelspec": {
   "display_name": "Python 3",
   "language": "python",
   "name": "python3"
  },
  "language_info": {
   "codemirror_mode": {
    "name": "ipython",
    "version": 3
   },
   "file_extension": ".py",
   "mimetype": "text/x-python",
   "name": "python",
   "nbconvert_exporter": "python",
   "pygments_lexer": "ipython3",
   "version": "3.11.4"
  }
 },
 "nbformat": 4,
 "nbformat_minor": 2
}
