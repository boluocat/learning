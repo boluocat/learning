{
 "cells": [
  {
   "cell_type": "markdown",
   "metadata": {},
   "source": [
    "# 数据结构\n",
    "## 列表和元组\n",
    "### 基础概念\n",
    "1. 列表和元组，都是一个可以放置任意数据类型的有序集合\n",
    "2. Python的列表和元组不要求集合内的数据类型必须一致\n",
    "3. 列表是动态的，长度大小不固定，可以随意地增加、删除或者改变元素（mutable）\n",
    "4. 元组是静态的，长度大小固定，无法增加删除或者修改元素(immutable)\n",
    "5. Python中的列表和元组都支持负索引，即倒序索引\n",
    "6. 两者都支持切片操作\n",
    "7. 列表和元组可以随意嵌套\n",
    "8. 两者的类型可以相互转换，通过`list()` 和 `tuple()`\n",
    "\n",
    "**如果需要对已有的元组进行修改，只能重新创建一个元组**\n",
    "### 简单内置函数介绍\n",
    "1. `count(item)` 表示统计列表 / 元组中 item 出现的次数。 \n",
    "2. `index(item)` 表示返回列表 / 元组中 item **第一次出现的索引**。 \n",
    "3. `list.reverse()` 和 `list.sort()` 分别表示原地倒转列表和排序,**元组没有内置的这两个函数**。 \n",
    "4. `reversed()` 和 `sorted()` 同样表示对列表 / 元组进行倒转和排序，**reversed() 返回一个倒转后的迭代器（list() 函数再将其转换为列表）；sorted() 返回排好序的新列表**。\n",
    "\n",
    "### 存储方式的差异\n",
    "**列表是动态的，所以它需要存储指针，来指向对应的元素。**\n",
    "另外，由于列表可变，所以需要额外存储已经分配的长度大小，这样才可以实时追踪列表空间的使用情况，当空间不足时，及时分配额外空间。\n",
    "\n",
    "为了减小每次增加 / 删减操作时空间分配的开销，Python 每次分配空间时都会额外多分配一些，这样的机制（over-allocating）保证了其操作的高效性：增加 / 删除的时间复杂度均为 O(1)。 但是对于元组，情况就不同了。元组长度大小固定，元素不可变，所以存储空间固定。 看了前面的分析，你也许会觉得，这样的差异可以忽略不计。但是想象一下，如果列表和元组存储元素的个数是一亿，十亿甚至更大数量级时，你还能忽略这样的差异吗？\n",
    "\n",
    "### 元组和列表的性能对比\n",
    "\n",
    "通过学习列表和元组存储方式的差异，我们可以得出结论：**元组要比列表更加轻量级一些，所以总体上来说，元组的性能速度要略优于列表。** 另外，**Python 会在后台，对静态数据做一些资源缓存（resource caching）。通常来说，因为垃圾回收机制的存在，如果一些变量不被使用了，Python 就会回收它们所占用的内存，返还给操作系统**，以便其他变量或其他应用使用。 但是**对于一些静态变量，比如元组，如果它不被使用并且占用空间不大时，Python 会暂时缓存这部分内存**。这样，下次我们再创建同样大小的元组时，Python 就可以不用再向操作系统发出请求，去寻找内存，而是可以直接分配之前缓存的内存空间，这样就能大大加快程序的运行速度。\n",
    "下面的例子，是计算初始化一个相同元素的列表和元组分别所需的时间。我们可以看到，元组的初始化速度，要比列表快 5 倍。\n",
    "\n",
    "```linux\n",
    "python3 -m timeit 'x=(1,2,3,4,5,6)'\n",
    "20000000 loops, best of 5: 9.97 nsec per loop\n",
    "python3 -m timeit 'x=[1,2,3,4,5,6]'\n",
    "5000000 loops, best of 5: 50.1 nsec per loop\n",
    "\n",
    "```\n",
    "但如果是索引操作的话，两者的速度差别非常小，几乎可以忽略不计\n",
    "```linux\n",
    "python3 -m timeit -s 'x=[1,2,3,4,5,6]' 'y=x[3]'\n",
    "10000000 loops, best of 5: 22.2 nsec per loop\n",
    "python3 -m timeit -s 'x=(1,2,3,4,5,6)' 'y=x[3]'\n",
    "10000000 loops, best of 5: 21.9 nsec per loop\n",
    "```\n",
    "### 适合的使用场景\n",
    "1. 如果**存储的数据和数量不变**，比如你有一个函数，需要返回的是一个地点的经纬度，然后直接传给前端渲染，那么肯定选用**元组更合适**。\n",
    "2. 如果**存储的数据或数量是可变的**，比如社交平台上的一个日志功能，是统计一个用户在一周之内看了哪些用户的帖子，那么则用**列表更合适**。"
   ]
  },
  {
   "cell_type": "code",
   "execution_count": 12,
   "metadata": {},
   "outputs": [
    {
     "name": "stdout",
     "output_type": "stream",
     "text": [
      "The type of this_list is:<class 'list'>, and the value is [1, 2, 'hello', 'you']\n",
      "The type of this_tup is:<class 'tuple'>, and the value is (1, 2, 'cat')\n"
     ]
    }
   ],
   "source": [
    "# 多种类型的元素\n",
    "this_list = [1, 2, 'hello', 'you']  \n",
    "this_tup = (1, 2, 'cat') \n",
    "\n",
    "print(f'The type of this_list is:{type(this_list)}, and the value is {this_list}')\n",
    "print(f'The type of this_tup is:{type(this_tup)}, and the value is {this_tup}')"
   ]
  },
  {
   "cell_type": "code",
   "execution_count": 13,
   "metadata": {},
   "outputs": [
    {
     "name": "stdout",
     "output_type": "stream",
     "text": [
      "After added new item, this_list is: [1, 2, 'hello', 'you', 'nice to meet you']\n",
      "After changed the item, this_list is: [1, 20, 'hello', 'you', 'nice to meet you']\n"
     ]
    }
   ],
   "source": [
    "#添加元素到list\n",
    "this_list.append('nice to meet you')\n",
    "print(f'After added new item, this_list is: {this_list}')\n",
    "\n",
    "#修改元素\n",
    "this_list[1] = 20\n",
    "print(f'After changed the item, this_list is: {this_list}')"
   ]
  },
  {
   "cell_type": "code",
   "execution_count": 16,
   "metadata": {},
   "outputs": [
    {
     "ename": "TypeError",
     "evalue": "'tuple' object does not support item assignment",
     "output_type": "error",
     "traceback": [
      "\u001b[1;31m---------------------------------------------------------------------------\u001b[0m",
      "\u001b[1;31mTypeError\u001b[0m                                 Traceback (most recent call last)",
      "\u001b[1;32me:\\git\\learning\\python\\Data sctructure of Python.ipynb Cell 4\u001b[0m line \u001b[0;36m2\n\u001b[0;32m      <a href='vscode-notebook-cell:/e%3A/git/learning/python/Data%20sctructure%20of%20Python.ipynb#W5sZmlsZQ%3D%3D?line=0'>1</a>\u001b[0m \u001b[39m#修改元素\u001b[39;00m\n\u001b[1;32m----> <a href='vscode-notebook-cell:/e%3A/git/learning/python/Data%20sctructure%20of%20Python.ipynb#W5sZmlsZQ%3D%3D?line=1'>2</a>\u001b[0m this_tup[\u001b[39m1\u001b[39;49m] \u001b[39m=\u001b[39m \u001b[39m'\u001b[39m\u001b[39mhello\u001b[39m\u001b[39m'\u001b[39m\n",
      "\u001b[1;31mTypeError\u001b[0m: 'tuple' object does not support item assignment"
     ]
    }
   ],
   "source": [
    "#修改元素\n",
    "this_tup[1] = 'hello'"
   ]
  },
  {
   "cell_type": "code",
   "execution_count": 18,
   "metadata": {},
   "outputs": [
    {
     "name": "stdout",
     "output_type": "stream",
     "text": [
      "this_tup is (1, 2, 'cat'), the new one is (1, 2, 'cat', 'hello')\n"
     ]
    }
   ],
   "source": [
    "#添加元素到tuple\n",
    "new_tup = this_tup + ('hello',)\n",
    "\n",
    "print(f'this_tup is {this_tup}, the new one is {new_tup}')"
   ]
  },
  {
   "cell_type": "code",
   "execution_count": 20,
   "metadata": {},
   "outputs": [
    {
     "name": "stdout",
     "output_type": "stream",
     "text": [
      "The last item of list is 'nice to meet you', the last item of tup is 'cat'\n"
     ]
    }
   ],
   "source": [
    "# 负索引\n",
    "list_last_item = this_list[-1]\n",
    "tup_last_item = this_tup[-1]\n",
    "\n",
    "print(f'The last item of list is \\'{list_last_item}\\', the last item of tup is \\'{tup_last_item}\\'')"
   ]
  },
  {
   "cell_type": "code",
   "execution_count": 64,
   "metadata": {},
   "outputs": [
    {
     "name": "stdout",
     "output_type": "stream",
     "text": [
      "The third and fourth item in this_list is ['you', 20]\n",
      "this_list is ['hello', 'nice to meet you', 'you', 20, 1]\n",
      "The seconde and third item in slice_tup is (2, 'cat')\n",
      "this_tup is (1, 2, 'cat')\n"
     ]
    }
   ],
   "source": [
    "# 切片\n",
    "slice_list = this_list[2:4]\n",
    "print(f'The third and fourth item in this_list is {slice_list}')\n",
    "print(f'this_list is {this_list}')\n",
    "\n",
    "\n",
    "slice_tup = this_tup[1:3]\n",
    "print(f'The seconde and third item in slice_tup is {slice_tup}')\n",
    "print(f'this_tup is {this_tup}')"
   ]
  },
  {
   "cell_type": "code",
   "execution_count": 26,
   "metadata": {},
   "outputs": [
    {
     "name": "stdout",
     "output_type": "stream",
     "text": [
      "The multiple list and tuple is [[1, 20, 'hello', 'you', 'nice to meet you'], (1, 2, 'cat'), 0, 'dog', {9: 'dock'}] ,\n",
      "([1, 20, 'hello', 'you', 'nice to meet you'], (1, 2, 'cat'), 0, 'dog', {9: 'dock'})\n"
     ]
    }
   ],
   "source": [
    "#多种嵌套\n",
    "multiple_list = [this_list, this_tup, 0, 'dog', {9:'dock'}]\n",
    "multiple_tup = (this_list, this_tup, 0, 'dog', {9:'dock'})\n",
    "\n",
    "print(f'The multiple list and tuple is {multiple_list} ,\\n{multiple_tup}')"
   ]
  },
  {
   "cell_type": "code",
   "execution_count": 28,
   "metadata": {},
   "outputs": [
    {
     "name": "stdout",
     "output_type": "stream",
     "text": [
      "The translated tuple and list is (1, 20, 'hello', 'you', 'nice to meet you'),[1, 2, 'cat']\n"
     ]
    }
   ],
   "source": [
    "#类型转换\n",
    "translate_to_tup = tuple(this_list)\n",
    "translate_to_list = list(this_tup)\n",
    "\n",
    "print(f'The translated tuple and list is {translate_to_tup},{translate_to_list}')"
   ]
  },
  {
   "cell_type": "code",
   "execution_count": 59,
   "metadata": {},
   "outputs": [
    {
     "name": "stdout",
     "output_type": "stream",
     "text": [
      "'you' is in this_list 1 times\n",
      "'you' is in this_tup 0 times\n",
      "'you' is the 3th item in this_list\n",
      "There is no 'you' in this_tup\n",
      "After using reverse() method, this_list is ['hello', 'nice to meet you', 'you', 20, 1]\n",
      "'<' not supported between instances of 'int' and 'str'\n",
      "reversed_list is <class 'list_reverseiterator'> type\n",
      "reversed_tup is <class 'reversed'> type\n"
     ]
    },
    {
     "ename": "TypeError",
     "evalue": "'<' not supported between instances of 'int' and 'str'",
     "output_type": "error",
     "traceback": [
      "\u001b[1;31m---------------------------------------------------------------------------\u001b[0m",
      "\u001b[1;31mTypeError\u001b[0m                                 Traceback (most recent call last)",
      "\u001b[1;32me:\\git\\learning\\python\\Data sctructure of Python.ipynb Cell 9\u001b[0m line \u001b[0;36m3\n\u001b[0;32m     <a href='vscode-notebook-cell:/e%3A/git/learning/python/Data%20sctructure%20of%20Python.ipynb#X13sZmlsZQ%3D%3D?line=30'>31</a>\u001b[0m reversed_tup \u001b[39m=\u001b[39m \u001b[39mreversed\u001b[39m(this_tup)\n\u001b[0;32m     <a href='vscode-notebook-cell:/e%3A/git/learning/python/Data%20sctructure%20of%20Python.ipynb#X13sZmlsZQ%3D%3D?line=31'>32</a>\u001b[0m \u001b[39mprint\u001b[39m(\u001b[39mf\u001b[39m\u001b[39m'\u001b[39m\u001b[39mreversed_tup is \u001b[39m\u001b[39m{\u001b[39;00m\u001b[39mtype\u001b[39m(reversed_tup)\u001b[39m}\u001b[39;00m\u001b[39m type\u001b[39m\u001b[39m'\u001b[39m)\n\u001b[1;32m---> <a href='vscode-notebook-cell:/e%3A/git/learning/python/Data%20sctructure%20of%20Python.ipynb#X13sZmlsZQ%3D%3D?line=34'>35</a>\u001b[0m sorted_list \u001b[39m=\u001b[39m \u001b[39msorted\u001b[39;49m(this_list)\n\u001b[0;32m     <a href='vscode-notebook-cell:/e%3A/git/learning/python/Data%20sctructure%20of%20Python.ipynb#X13sZmlsZQ%3D%3D?line=35'>36</a>\u001b[0m \u001b[39mprint\u001b[39m(\u001b[39mf\u001b[39m\u001b[39m'\u001b[39m\u001b[39msorted_list is \u001b[39m\u001b[39m{\u001b[39;00m\u001b[39mtype\u001b[39m(sorted_list)\u001b[39m}\u001b[39;00m\u001b[39m type\u001b[39m\u001b[39m'\u001b[39m)\n\u001b[0;32m     <a href='vscode-notebook-cell:/e%3A/git/learning/python/Data%20sctructure%20of%20Python.ipynb#X13sZmlsZQ%3D%3D?line=36'>37</a>\u001b[0m sorted_tup \u001b[39m=\u001b[39m \u001b[39mreversed\u001b[39m(this_tup)\n",
      "\u001b[1;31mTypeError\u001b[0m: '<' not supported between instances of 'int' and 'str'"
     ]
    }
   ],
   "source": [
    "#内置函数\n",
    "count_list = this_list.count('you')\n",
    "count_tup = this_tup.count('you')\n",
    "print(f'\\'you\\' is in this_list {count_list} times')\n",
    "print(f'\\'you\\' is in this_tup {count_tup} times')\n",
    "\n",
    "\n",
    "where_is_you = this_list.index('you')\n",
    "print(f'\\'you\\' is the {where_is_you + 1}th item in this_list')\n",
    "try:\n",
    "    where_is_you = this_tup.index('you')\n",
    "except ValueError:\n",
    "    print('There is no \\'you\\' in this_tup')\n",
    "else:\n",
    "    print(f'\\'you\\' is the {where_is_you + 1}th item in this_tup')\n",
    "\n",
    "\n",
    "this_list.reverse()  #tuple没有该函数\n",
    "print(f'After using reverse() method, this_list is {this_list}')\n",
    "\n",
    "try:\n",
    "    this_list.sort()  #tuple没有该函数\n",
    "except TypeError as msg:\n",
    "    print(msg)\n",
    "else:\n",
    "    print(f'After using sort() method, this_list is {this_list}')\n",
    "\n",
    "\n",
    "reversed_list = reversed(this_list)\n",
    "print(f'reversed_list is {type(reversed_list)} type')\n",
    "reversed_tup = reversed(this_tup)\n",
    "print(f'reversed_tup is {type(reversed_tup)} type')\n",
    "\n",
    "\n",
    "sorted_list = sorted(this_list)\n",
    "print(f'sorted_list is {type(sorted_list)} type')\n",
    "sorted_tup = reversed(this_tup)\n",
    "print(f'sorted_tup is {type(sorted_tup)} type')"
   ]
  },
  {
   "cell_type": "code",
   "execution_count": 67,
   "metadata": {},
   "outputs": [
    {
     "name": "stdout",
     "output_type": "stream",
     "text": [
      "The length of list is 72\n",
      "The length of list is 48\n",
      "The list has 24 items more than the tuple\n"
     ]
    }
   ],
   "source": [
    "# 存储方式的测试\n",
    "# 对于 int 型，8 字节\n",
    "l = [1,2,3]\n",
    "t = (1,2,3)\n",
    "\n",
    "list_size = l.__sizeof__()\n",
    "tup_size = t.__sizeof__()\n",
    "print(f'The length of list is {list_size}')\n",
    "print(f'The length of list is {tup_size}')\n",
    "print(f'The list has {list_size - tup_size} items more than the tuple')"
   ]
  },
  {
   "cell_type": "code",
   "execution_count": 68,
   "metadata": {},
   "outputs": [
    {
     "data": {
      "text/plain": [
       "40"
      ]
     },
     "execution_count": 68,
     "metadata": {},
     "output_type": "execute_result"
    }
   ],
   "source": [
    "l = []\n",
    "l.__sizeof__() # 空列表的存储空间为40字节\n"
   ]
  },
  {
   "cell_type": "code",
   "execution_count": 69,
   "metadata": {},
   "outputs": [
    {
     "data": {
      "text/plain": [
       "72"
      ]
     },
     "execution_count": 69,
     "metadata": {},
     "output_type": "execute_result"
    }
   ],
   "source": [
    "l.append(1)  #加入了元素1之后，列表为其分配了可以存储4个元素的空间 (72 - 40)/8 = 4\n",
    "l.__sizeof__() "
   ]
  },
  {
   "cell_type": "code",
   "execution_count": 70,
   "metadata": {},
   "outputs": [
    {
     "data": {
      "text/plain": [
       "72"
      ]
     },
     "execution_count": 70,
     "metadata": {},
     "output_type": "execute_result"
    }
   ],
   "source": [
    "l.append(2)  #由于之前分配了空间，所以加入元素2，列表空间不变\n",
    "l.__sizeof__()"
   ]
  },
  {
   "cell_type": "code",
   "execution_count": 71,
   "metadata": {},
   "outputs": [
    {
     "data": {
      "text/plain": [
       "72"
      ]
     },
     "execution_count": 71,
     "metadata": {},
     "output_type": "execute_result"
    }
   ],
   "source": [
    "l.append(3) "
   ]
  },
  {
   "cell_type": "code",
   "execution_count": 72,
   "metadata": {},
   "outputs": [
    {
     "data": {
      "text/plain": [
       "72"
      ]
     },
     "execution_count": 72,
     "metadata": {},
     "output_type": "execute_result"
    }
   ],
   "source": [
    "l.append(4) #由于之前分配了空间，所以加入元素2，列表空间不变\n",
    "l.__sizeof__() \n"
   ]
  },
  {
   "cell_type": "code",
   "execution_count": 73,
   "metadata": {},
   "outputs": [
    {
     "data": {
      "text/plain": [
       "104"
      ]
     },
     "execution_count": 73,
     "metadata": {},
     "output_type": "execute_result"
    }
   ],
   "source": [
    "l.append(5)  #加入元素5之后，列表的空间不足，所以又额外分配了可以存储4个元素的空间\n",
    "l.__sizeof__() "
   ]
  },
  {
   "cell_type": "code",
   "execution_count": 74,
   "metadata": {},
   "outputs": [
    {
     "data": {
      "text/plain": [
       "24"
      ]
     },
     "execution_count": 74,
     "metadata": {},
     "output_type": "execute_result"
    }
   ],
   "source": [
    "t = ()\n",
    "t.__sizeof__() # 空元组的存储空间为24字节"
   ]
  },
  {
   "cell_type": "code",
   "execution_count": 75,
   "metadata": {},
   "outputs": [
    {
     "data": {
      "text/plain": [
       "28"
      ]
     },
     "execution_count": 75,
     "metadata": {},
     "output_type": "execute_result"
    }
   ],
   "source": [
    "t = (1)\n",
    "t.__sizeof__()  #一个int 4字节"
   ]
  },
  {
   "cell_type": "code",
   "execution_count": 76,
   "metadata": {},
   "outputs": [
    {
     "data": {
      "text/plain": [
       "40"
      ]
     },
     "execution_count": 76,
     "metadata": {},
     "output_type": "execute_result"
    }
   ],
   "source": [
    "t = (1,2)\n",
    "t.__sizeof__()  "
   ]
  },
  {
   "cell_type": "code",
   "execution_count": 77,
   "metadata": {},
   "outputs": [
    {
     "data": {
      "text/plain": [
       "48"
      ]
     },
     "execution_count": 77,
     "metadata": {},
     "output_type": "execute_result"
    }
   ],
   "source": [
    "t = (1,2,3)\n",
    "t.__sizeof__() "
   ]
  },
  {
   "cell_type": "code",
   "execution_count": 80,
   "metadata": {},
   "outputs": [
    {
     "data": {
      "text/plain": [
       "56"
      ]
     },
     "execution_count": 80,
     "metadata": {},
     "output_type": "execute_result"
    }
   ],
   "source": [
    "t = (1,2,3,4)\n",
    "t.__sizeof__()  "
   ]
  },
  {
   "cell_type": "code",
   "execution_count": 81,
   "metadata": {},
   "outputs": [
    {
     "data": {
      "text/plain": [
       "64"
      ]
     },
     "execution_count": 81,
     "metadata": {},
     "output_type": "execute_result"
    }
   ],
   "source": [
    "t = (1,2,3,4,5)\n",
    "t.__sizeof__()  "
   ]
  },
  {
   "cell_type": "code",
   "execution_count": null,
   "metadata": {},
   "outputs": [],
   "source": []
  },
  {
   "cell_type": "markdown",
   "metadata": {},
   "source": [
    "# 待深入了解\n",
    "1. 想创建一个空的列表，我们可以用下面的 A、B 两种方式，请问它们在效率上有什么区别吗？我们应该优先考虑使用哪种呢？可以说说你的理由。\n",
    "   ```python\n",
    "   # 创建空列表\n",
    "   # option A\n",
    "   empty_list = list()\n",
    "\n",
    "   # option B\n",
    "   empty_list = []\n",
    "   ```\n",
    "2. 详细比较一下sort()和reverse()的区别\n",
    "3. 了解列表和元组在创建过程中的具体流程\n"
   ]
  },
  {
   "cell_type": "markdown",
   "metadata": {},
   "source": []
  }
 ],
 "metadata": {
  "kernelspec": {
   "display_name": "Python 3",
   "language": "python",
   "name": "python3"
  },
  "language_info": {
   "codemirror_mode": {
    "name": "ipython",
    "version": 3
   },
   "file_extension": ".py",
   "mimetype": "text/x-python",
   "name": "python",
   "nbconvert_exporter": "python",
   "pygments_lexer": "ipython3",
   "version": "3.11.4"
  },
  "orig_nbformat": 4
 },
 "nbformat": 4,
 "nbformat_minor": 2
}
