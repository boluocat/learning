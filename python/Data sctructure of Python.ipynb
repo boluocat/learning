{
 "cells": [
  {
   "cell_type": "markdown",
   "metadata": {},
   "source": [
    "# 列表和元组\n",
    "## 基础概念\n",
    "1. 列表和元组，都是一个可以放置任意数据类型的有序集合\n",
    "2. Python的列表和元组不要求集合内的数据类型必须一致\n",
    "3. 列表是动态的，长度大小不固定，可以随意地增加、删除或者改变元素（mutable）\n",
    "4. 元组是静态的，长度大小固定，无法增加删除或者修改元素(immutable)\n",
    "5. Python中的列表和元组都支持负索引，即倒序索引\n",
    "6. 两者都支持切片操作\n",
    "7. 列表和元组可以随意嵌套\n",
    "8. 两者的类型可以相互转换，通过`list()` 和 `tuple()`\n",
    "\n",
    "**如果需要对已有的元组进行修改，只能重新创建一个元组**\n",
    "## 简单内置函数介绍\n",
    "1. `count(item)` 表示统计列表 / 元组中 item 出现的次数。 \n",
    "2. `index(item)` 表示返回列表 / 元组中 item **第一次出现的索引**。 \n",
    "3. `list.reverse()` 和 `list.sort()` 分别表示原地倒转列表和排序,**元组没有内置的这两个函数**。 \n",
    "4. `reversed()` 和 `sorted()` 同样表示对列表 / 元组进行倒转和排序，**reversed() 返回一个倒转后的迭代器（list() 函数再将其转换为列表）；sorted() 返回排好序的新列表**。\n",
    "\n",
    "## 存储方式的差异\n",
    "**列表是动态的，所以它需要存储指针，来指向对应的元素。**\n",
    "\n",
    "另外，由于列表可变，所以需要额外存储已经分配的长度大小，这样才可以实时追踪列表空间的使用情况，当空间不足时，及时分配额外空间。\n",
    "\n",
    "为了减小每次增加 / 删减操作时空间分配的开销，Python 每次分配空间时都会额外多分配一些，这样的机制（over-allocating）保证了其操作的高效性：增加 / 删除的时间复杂度均为 O(1)。 但是对于元组，情况就不同了。元组长度大小固定，元素不可变，所以存储空间固定。 看了前面的分析，你也许会觉得，这样的差异可以忽略不计。但是想象一下，如果列表和元组存储元素的个数是一亿，十亿甚至更大数量级时，你还能忽略这样的差异吗？\n",
    "\n",
    "## 元组和列表的性能对比\n",
    "\n",
    "通过学习列表和元组存储方式的差异，我们可以得出结论：**元组要比列表更加轻量级一些，所以总体上来说，元组的性能速度要略优于列表。** 另外，**Python 会在后台，对静态数据做一些资源缓存（resource caching）。通常来说，因为垃圾回收机制的存在，如果一些变量不被使用了，Python 就会回收它们所占用的内存，返还给操作系统**，以便其他变量或其他应用使用。 但是**对于一些静态变量，比如元组，如果它不被使用并且占用空间不大时，Python 会暂时缓存这部分内存**。这样，下次我们再创建同样大小的元组时，Python 就可以不用再向操作系统发出请求，去寻找内存，而是可以直接分配之前缓存的内存空间，这样就能大大加快程序的运行速度。\n",
    "\n",
    "下面的例子，是计算初始化一个相同元素的列表和元组分别所需的时间。我们可以看到，元组的初始化速度，要比列表快 5 倍。\n",
    "\n",
    "```linux\n",
    "python3 -m timeit 'x=(1,2,3,4,5,6)'\n",
    "20000000 loops, best of 5: 9.97 nsec per loop\n",
    "python3 -m timeit 'x=[1,2,3,4,5,6]'\n",
    "5000000 loops, best of 5: 50.1 nsec per loop\n",
    "\n",
    "```\n",
    "但如果是索引操作的话，两者的速度差别非常小，几乎可以忽略不计\n",
    "```linux\n",
    "python3 -m timeit -s 'x=[1,2,3,4,5,6]' 'y=x[3]'\n",
    "10000000 loops, best of 5: 22.2 nsec per loop\n",
    "python3 -m timeit -s 'x=(1,2,3,4,5,6)' 'y=x[3]'\n",
    "10000000 loops, best of 5: 21.9 nsec per loop\n",
    "```\n",
    "## 适合的使用场景\n",
    "1. 如果**存储的数据和数量不变**，比如你有一个函数，需要返回的是一个地点的经纬度，然后直接传给前端渲染，那么肯定选用**元组更合适**。\n",
    "2. 如果**存储的数据或数量是可变的**，比如社交平台上的一个日志功能，是统计一个用户在一周之内看了哪些用户的帖子，那么则用**列表更合适**。"
   ]
  },
  {
   "cell_type": "code",
   "execution_count": 12,
   "metadata": {},
   "outputs": [
    {
     "name": "stdout",
     "output_type": "stream",
     "text": [
      "The type of this_list is:<class 'list'>, and the value is [1, 2, 'hello', 'you']\n",
      "The type of this_tup is:<class 'tuple'>, and the value is (1, 2, 'cat')\n"
     ]
    }
   ],
   "source": [
    "# 多种类型的元素\n",
    "this_list = [1, 2, 'hello', 'you']  \n",
    "this_tup = (1, 2, 'cat') \n",
    "\n",
    "print(f'The type of this_list is:{type(this_list)}, and the value is {this_list}')\n",
    "print(f'The type of this_tup is:{type(this_tup)}, and the value is {this_tup}')"
   ]
  },
  {
   "cell_type": "code",
   "execution_count": 13,
   "metadata": {},
   "outputs": [
    {
     "name": "stdout",
     "output_type": "stream",
     "text": [
      "After added new item, this_list is: [1, 2, 'hello', 'you', 'nice to meet you']\n",
      "After changed the item, this_list is: [1, 20, 'hello', 'you', 'nice to meet you']\n"
     ]
    }
   ],
   "source": [
    "#添加元素到list\n",
    "this_list.append('nice to meet you')\n",
    "print(f'After added new item, this_list is: {this_list}')\n",
    "\n",
    "#修改元素\n",
    "this_list[1] = 20\n",
    "print(f'After changed the item, this_list is: {this_list}')"
   ]
  },
  {
   "cell_type": "code",
   "execution_count": 16,
   "metadata": {},
   "outputs": [
    {
     "ename": "TypeError",
     "evalue": "'tuple' object does not support item assignment",
     "output_type": "error",
     "traceback": [
      "\u001b[1;31m---------------------------------------------------------------------------\u001b[0m",
      "\u001b[1;31mTypeError\u001b[0m                                 Traceback (most recent call last)",
      "\u001b[1;32me:\\git\\learning\\python\\Data sctructure of Python.ipynb Cell 4\u001b[0m line \u001b[0;36m2\n\u001b[0;32m      <a href='vscode-notebook-cell:/e%3A/git/learning/python/Data%20sctructure%20of%20Python.ipynb#W5sZmlsZQ%3D%3D?line=0'>1</a>\u001b[0m \u001b[39m#修改元素\u001b[39;00m\n\u001b[1;32m----> <a href='vscode-notebook-cell:/e%3A/git/learning/python/Data%20sctructure%20of%20Python.ipynb#W5sZmlsZQ%3D%3D?line=1'>2</a>\u001b[0m this_tup[\u001b[39m1\u001b[39;49m] \u001b[39m=\u001b[39m \u001b[39m'\u001b[39m\u001b[39mhello\u001b[39m\u001b[39m'\u001b[39m\n",
      "\u001b[1;31mTypeError\u001b[0m: 'tuple' object does not support item assignment"
     ]
    }
   ],
   "source": [
    "#修改元素\n",
    "this_tup[1] = 'hello'"
   ]
  },
  {
   "cell_type": "code",
   "execution_count": 18,
   "metadata": {},
   "outputs": [
    {
     "name": "stdout",
     "output_type": "stream",
     "text": [
      "this_tup is (1, 2, 'cat'), the new one is (1, 2, 'cat', 'hello')\n"
     ]
    }
   ],
   "source": [
    "#添加元素到tuple\n",
    "new_tup = this_tup + ('hello',)\n",
    "\n",
    "print(f'this_tup is {this_tup}, the new one is {new_tup}')"
   ]
  },
  {
   "cell_type": "code",
   "execution_count": 20,
   "metadata": {},
   "outputs": [
    {
     "name": "stdout",
     "output_type": "stream",
     "text": [
      "The last item of list is 'nice to meet you', the last item of tup is 'cat'\n"
     ]
    }
   ],
   "source": [
    "# 负索引\n",
    "list_last_item = this_list[-1]\n",
    "tup_last_item = this_tup[-1]\n",
    "\n",
    "print(f'The last item of list is \\'{list_last_item}\\', the last item of tup is \\'{tup_last_item}\\'')"
   ]
  },
  {
   "cell_type": "code",
   "execution_count": 64,
   "metadata": {},
   "outputs": [
    {
     "name": "stdout",
     "output_type": "stream",
     "text": [
      "The third and fourth item in this_list is ['you', 20]\n",
      "this_list is ['hello', 'nice to meet you', 'you', 20, 1]\n",
      "The seconde and third item in slice_tup is (2, 'cat')\n",
      "this_tup is (1, 2, 'cat')\n"
     ]
    }
   ],
   "source": [
    "# 切片\n",
    "slice_list = this_list[2:4]\n",
    "print(f'The third and fourth item in this_list is {slice_list}')\n",
    "print(f'this_list is {this_list}')\n",
    "\n",
    "\n",
    "slice_tup = this_tup[1:3]\n",
    "print(f'The seconde and third item in slice_tup is {slice_tup}')\n",
    "print(f'this_tup is {this_tup}')"
   ]
  },
  {
   "cell_type": "code",
   "execution_count": 26,
   "metadata": {},
   "outputs": [
    {
     "name": "stdout",
     "output_type": "stream",
     "text": [
      "The multiple list and tuple is [[1, 20, 'hello', 'you', 'nice to meet you'], (1, 2, 'cat'), 0, 'dog', {9: 'dock'}] ,\n",
      "([1, 20, 'hello', 'you', 'nice to meet you'], (1, 2, 'cat'), 0, 'dog', {9: 'dock'})\n"
     ]
    }
   ],
   "source": [
    "#多种嵌套\n",
    "multiple_list = [this_list, this_tup, 0, 'dog', {9:'dock'}]\n",
    "multiple_tup = (this_list, this_tup, 0, 'dog', {9:'dock'})\n",
    "\n",
    "print(f'The multiple list and tuple is {multiple_list} ,\\n{multiple_tup}')"
   ]
  },
  {
   "cell_type": "code",
   "execution_count": 28,
   "metadata": {},
   "outputs": [
    {
     "name": "stdout",
     "output_type": "stream",
     "text": [
      "The translated tuple and list is (1, 20, 'hello', 'you', 'nice to meet you'),[1, 2, 'cat']\n"
     ]
    }
   ],
   "source": [
    "#类型转换\n",
    "translate_to_tup = tuple(this_list)\n",
    "translate_to_list = list(this_tup)\n",
    "\n",
    "print(f'The translated tuple and list is {translate_to_tup},{translate_to_list}')"
   ]
  },
  {
   "cell_type": "code",
   "execution_count": 59,
   "metadata": {},
   "outputs": [
    {
     "name": "stdout",
     "output_type": "stream",
     "text": [
      "'you' is in this_list 1 times\n",
      "'you' is in this_tup 0 times\n",
      "'you' is the 3th item in this_list\n",
      "There is no 'you' in this_tup\n",
      "After using reverse() method, this_list is ['hello', 'nice to meet you', 'you', 20, 1]\n",
      "'<' not supported between instances of 'int' and 'str'\n",
      "reversed_list is <class 'list_reverseiterator'> type\n",
      "reversed_tup is <class 'reversed'> type\n"
     ]
    },
    {
     "ename": "TypeError",
     "evalue": "'<' not supported between instances of 'int' and 'str'",
     "output_type": "error",
     "traceback": [
      "\u001b[1;31m---------------------------------------------------------------------------\u001b[0m",
      "\u001b[1;31mTypeError\u001b[0m                                 Traceback (most recent call last)",
      "\u001b[1;32me:\\git\\learning\\python\\Data sctructure of Python.ipynb Cell 9\u001b[0m line \u001b[0;36m3\n\u001b[0;32m     <a href='vscode-notebook-cell:/e%3A/git/learning/python/Data%20sctructure%20of%20Python.ipynb#X13sZmlsZQ%3D%3D?line=30'>31</a>\u001b[0m reversed_tup \u001b[39m=\u001b[39m \u001b[39mreversed\u001b[39m(this_tup)\n\u001b[0;32m     <a href='vscode-notebook-cell:/e%3A/git/learning/python/Data%20sctructure%20of%20Python.ipynb#X13sZmlsZQ%3D%3D?line=31'>32</a>\u001b[0m \u001b[39mprint\u001b[39m(\u001b[39mf\u001b[39m\u001b[39m'\u001b[39m\u001b[39mreversed_tup is \u001b[39m\u001b[39m{\u001b[39;00m\u001b[39mtype\u001b[39m(reversed_tup)\u001b[39m}\u001b[39;00m\u001b[39m type\u001b[39m\u001b[39m'\u001b[39m)\n\u001b[1;32m---> <a href='vscode-notebook-cell:/e%3A/git/learning/python/Data%20sctructure%20of%20Python.ipynb#X13sZmlsZQ%3D%3D?line=34'>35</a>\u001b[0m sorted_list \u001b[39m=\u001b[39m \u001b[39msorted\u001b[39;49m(this_list)\n\u001b[0;32m     <a href='vscode-notebook-cell:/e%3A/git/learning/python/Data%20sctructure%20of%20Python.ipynb#X13sZmlsZQ%3D%3D?line=35'>36</a>\u001b[0m \u001b[39mprint\u001b[39m(\u001b[39mf\u001b[39m\u001b[39m'\u001b[39m\u001b[39msorted_list is \u001b[39m\u001b[39m{\u001b[39;00m\u001b[39mtype\u001b[39m(sorted_list)\u001b[39m}\u001b[39;00m\u001b[39m type\u001b[39m\u001b[39m'\u001b[39m)\n\u001b[0;32m     <a href='vscode-notebook-cell:/e%3A/git/learning/python/Data%20sctructure%20of%20Python.ipynb#X13sZmlsZQ%3D%3D?line=36'>37</a>\u001b[0m sorted_tup \u001b[39m=\u001b[39m \u001b[39mreversed\u001b[39m(this_tup)\n",
      "\u001b[1;31mTypeError\u001b[0m: '<' not supported between instances of 'int' and 'str'"
     ]
    }
   ],
   "source": [
    "#内置函数\n",
    "count_list = this_list.count('you')\n",
    "count_tup = this_tup.count('you')\n",
    "print(f'\\'you\\' is in this_list {count_list} times')\n",
    "print(f'\\'you\\' is in this_tup {count_tup} times')\n",
    "\n",
    "\n",
    "where_is_you = this_list.index('you')\n",
    "print(f'\\'you\\' is the {where_is_you + 1}th item in this_list')\n",
    "try:\n",
    "    where_is_you = this_tup.index('you')\n",
    "except ValueError:\n",
    "    print('There is no \\'you\\' in this_tup')\n",
    "else:\n",
    "    print(f'\\'you\\' is the {where_is_you + 1}th item in this_tup')\n",
    "\n",
    "\n",
    "this_list.reverse()  #tuple没有该函数\n",
    "print(f'After using reverse() method, this_list is {this_list}')\n",
    "\n",
    "try:\n",
    "    this_list.sort()  #tuple没有该函数\n",
    "except TypeError as msg:\n",
    "    print(msg)\n",
    "else:\n",
    "    print(f'After using sort() method, this_list is {this_list}')\n",
    "\n",
    "\n",
    "reversed_list = reversed(this_list)\n",
    "print(f'reversed_list is {type(reversed_list)} type')\n",
    "reversed_tup = reversed(this_tup)\n",
    "print(f'reversed_tup is {type(reversed_tup)} type')\n",
    "\n",
    "\n",
    "sorted_list = sorted(this_list)\n",
    "print(f'sorted_list is {type(sorted_list)} type')\n",
    "sorted_tup = reversed(this_tup)\n",
    "print(f'sorted_tup is {type(sorted_tup)} type')"
   ]
  },
  {
   "cell_type": "code",
   "execution_count": 67,
   "metadata": {},
   "outputs": [
    {
     "name": "stdout",
     "output_type": "stream",
     "text": [
      "The length of list is 72\n",
      "The length of list is 48\n",
      "The list has 24 items more than the tuple\n"
     ]
    }
   ],
   "source": [
    "# 存储方式的测试\n",
    "# 对于 int 型，8 字节\n",
    "l = [1,2,3]\n",
    "t = (1,2,3)\n",
    "\n",
    "list_size = l.__sizeof__()\n",
    "tup_size = t.__sizeof__()\n",
    "print(f'The length of list is {list_size}')\n",
    "print(f'The length of list is {tup_size}')\n",
    "print(f'The list has {list_size - tup_size} items more than the tuple')"
   ]
  },
  {
   "cell_type": "code",
   "execution_count": 68,
   "metadata": {},
   "outputs": [
    {
     "data": {
      "text/plain": [
       "40"
      ]
     },
     "execution_count": 68,
     "metadata": {},
     "output_type": "execute_result"
    }
   ],
   "source": [
    "l = []\n",
    "l.__sizeof__() # 空列表的存储空间为40字节\n"
   ]
  },
  {
   "cell_type": "code",
   "execution_count": 69,
   "metadata": {},
   "outputs": [
    {
     "data": {
      "text/plain": [
       "72"
      ]
     },
     "execution_count": 69,
     "metadata": {},
     "output_type": "execute_result"
    }
   ],
   "source": [
    "l.append(1)  #加入了元素1之后，列表为其分配了可以存储4个元素的空间 (72 - 40)/8 = 4\n",
    "l.__sizeof__() "
   ]
  },
  {
   "cell_type": "code",
   "execution_count": 70,
   "metadata": {},
   "outputs": [
    {
     "data": {
      "text/plain": [
       "72"
      ]
     },
     "execution_count": 70,
     "metadata": {},
     "output_type": "execute_result"
    }
   ],
   "source": [
    "l.append(2)  #由于之前分配了空间，所以加入元素2，列表空间不变\n",
    "l.__sizeof__()"
   ]
  },
  {
   "cell_type": "code",
   "execution_count": 71,
   "metadata": {},
   "outputs": [
    {
     "data": {
      "text/plain": [
       "72"
      ]
     },
     "execution_count": 71,
     "metadata": {},
     "output_type": "execute_result"
    }
   ],
   "source": [
    "l.append(3) "
   ]
  },
  {
   "cell_type": "code",
   "execution_count": 72,
   "metadata": {},
   "outputs": [
    {
     "data": {
      "text/plain": [
       "72"
      ]
     },
     "execution_count": 72,
     "metadata": {},
     "output_type": "execute_result"
    }
   ],
   "source": [
    "l.append(4) #由于之前分配了空间，所以加入元素2，列表空间不变\n",
    "l.__sizeof__() \n"
   ]
  },
  {
   "cell_type": "code",
   "execution_count": 73,
   "metadata": {},
   "outputs": [
    {
     "data": {
      "text/plain": [
       "104"
      ]
     },
     "execution_count": 73,
     "metadata": {},
     "output_type": "execute_result"
    }
   ],
   "source": [
    "l.append(5)  #加入元素5之后，列表的空间不足，所以又额外分配了可以存储4个元素的空间\n",
    "l.__sizeof__() "
   ]
  },
  {
   "cell_type": "code",
   "execution_count": 74,
   "metadata": {},
   "outputs": [
    {
     "data": {
      "text/plain": [
       "24"
      ]
     },
     "execution_count": 74,
     "metadata": {},
     "output_type": "execute_result"
    }
   ],
   "source": [
    "t = ()\n",
    "t.__sizeof__() # 空元组的存储空间为24字节"
   ]
  },
  {
   "cell_type": "code",
   "execution_count": 75,
   "metadata": {},
   "outputs": [
    {
     "data": {
      "text/plain": [
       "28"
      ]
     },
     "execution_count": 75,
     "metadata": {},
     "output_type": "execute_result"
    }
   ],
   "source": [
    "t = (1)\n",
    "t.__sizeof__()  #一个int 4字节"
   ]
  },
  {
   "cell_type": "code",
   "execution_count": 76,
   "metadata": {},
   "outputs": [
    {
     "data": {
      "text/plain": [
       "40"
      ]
     },
     "execution_count": 76,
     "metadata": {},
     "output_type": "execute_result"
    }
   ],
   "source": [
    "t = (1,2)\n",
    "t.__sizeof__()  "
   ]
  },
  {
   "cell_type": "code",
   "execution_count": 77,
   "metadata": {},
   "outputs": [
    {
     "data": {
      "text/plain": [
       "48"
      ]
     },
     "execution_count": 77,
     "metadata": {},
     "output_type": "execute_result"
    }
   ],
   "source": [
    "t = (1,2,3)\n",
    "t.__sizeof__() "
   ]
  },
  {
   "cell_type": "code",
   "execution_count": 80,
   "metadata": {},
   "outputs": [
    {
     "data": {
      "text/plain": [
       "56"
      ]
     },
     "execution_count": 80,
     "metadata": {},
     "output_type": "execute_result"
    }
   ],
   "source": [
    "t = (1,2,3,4)\n",
    "t.__sizeof__()  "
   ]
  },
  {
   "cell_type": "code",
   "execution_count": 81,
   "metadata": {},
   "outputs": [
    {
     "data": {
      "text/plain": [
       "64"
      ]
     },
     "execution_count": 81,
     "metadata": {},
     "output_type": "execute_result"
    }
   ],
   "source": [
    "t = (1,2,3,4,5)\n",
    "t.__sizeof__()  "
   ]
  },
  {
   "cell_type": "markdown",
   "metadata": {},
   "source": [
    "# 待深入了解\n",
    "1. 想创建一个空的列表，我们可以用下面的 A、B 两种方式，请问它们在效率上有什么区别吗？我们应该优先考虑使用哪种呢？可以说说你的理由。\n",
    "   ```python\n",
    "   # 创建空列表\n",
    "   # option A\n",
    "   empty_list = list()\n",
    "\n",
    "   # option B\n",
    "   empty_list = []\n",
    "   ```\n",
    "\n",
    "   list()是一个function call，Python的function call会创建stack，并且进行一系列参数检查的操作，比较expensive，反观[]是一个内置的C函数，可以直接被调用，因此效率高。\n"
   ]
  },
  {
   "cell_type": "code",
   "execution_count": 26,
   "metadata": {},
   "outputs": [
    {
     "name": "stdout",
     "output_type": "stream",
     "text": [
      "The executing time of list() is 0.40866039996035397\n",
      "The executing time of [] is 0.20222639990970492\n"
     ]
    }
   ],
   "source": [
    "import timeit\n",
    "\n",
    "list_time = timeit.timeit(stmt = list, number = 10000000)\n",
    "print(f'The executing time of list() is {list_time}')\n",
    "\n",
    "square_braclets = timeit.timeit(stmt = '[]', number = 10000000)\n",
    "print(f'The executing time of [] is {square_braclets}')\n"
   ]
  },
  {
   "cell_type": "markdown",
   "metadata": {},
   "source": [
    "## 针对可以随意嵌套进行总结\n",
    "\n",
    "- 列表嵌套列表：本质是列表，内部列表和外部列表的内容可以进行修改元素，插入，删除元素。也就是二维数组。\n",
    "- 列表嵌套元组：本质是列表，所以可以对列表中除元组外的其他元素可以修改插入、删除。但元组中的内容不可以改变。\n",
    "- 元组嵌套列表：本质是元组，元组中的任何元素不能进行改变，但是对于元素本身是列表的情况，可以对列表中的值进行修改。这是因为：列表对象是不变的，只是的列表中的内容进行变化。列表本来就是动态的。\n",
    "- 元组嵌套元组：本质元组，元组中的元素还是元组。所以这种情况下，不能进行任何改变。也就是不可变的二维数组。\n",
    "\n",
    "**元组**\n",
    "- 使用一对圆括号来表示空元组: ()\n",
    "- 使用一个后缀的逗号来表示单元组: a, 或 (a,)\n",
    "- 使用以逗号分隔的多个项: a, b, c or (a, b, c)\n",
    "- 使用内置的 tuple(): tuple() 或 tuple(iterable)\n",
    "**决定生成元组的其实是逗号而不是圆括号, 圆括号只是可选的**\n",
    "\n",
    "In the context of tuples, a \"point\" refers to a collection of values that represent the coordinates of a point in a multidimensional space. \n",
    "元组中的指针指向的是值所在的内存地址。所以当元组中嵌套了其他非元组类型的元素，且可以修改时，这些元组内部的元素是可以被修改的。因为修改的其实是指向地址中的值。但元组本身的元素和个数是不可以修改。"
   ]
  },
  {
   "cell_type": "code",
   "execution_count": 33,
   "metadata": {},
   "outputs": [
    {
     "name": "stdout",
     "output_type": "stream",
     "text": [
      "('a',) ('a',)\n",
      "<class 'tuple'> <class 'tuple'>\n"
     ]
    }
   ],
   "source": [
    "a = ('a',)\n",
    "b = 'a',\n",
    "\n",
    "print(a,b)\n",
    "print(type(a),type(b))"
   ]
  },
  {
   "cell_type": "code",
   "execution_count": 31,
   "metadata": {},
   "outputs": [
    {
     "name": "stdout",
     "output_type": "stream",
     "text": [
      "The type of a,b,c,d is <class 'list'>,<class 'list'>,<class 'tuple'>,<class 'tuple'>\n",
      "The length of a,b,c,d is 4,4,4,4\n",
      "[1, 2, 3, [1, 2, 3, 4]] [1, 2, 3, (1, 2, 3)] (1, 2, 3, [1, 2, 3, 4]) (1, 2, 3, (1, 2, 3))\n",
      "The length of a,b,c,d is 4,4,4,4\n"
     ]
    }
   ],
   "source": [
    "baselist = [1,2,3]\n",
    "basedtuple = (1,2,3)\n",
    "\n",
    "a = [1,2,3,baselist]\n",
    "b = [1,2,3,basedtuple]\n",
    "c = (1,2,3,baselist)\n",
    "d = (1,2,3,basedtuple)\n",
    "\n",
    "print(f'The type of a,b,c,d is {type(a)},{type(b)},{type(c)},{type(d)}')\n",
    "print(f'The length of a,b,c,d is {len(a)},{len(b)},{len(c)},{len(d)}')\n",
    "\n",
    "baselist.append(4)\n",
    "print(a,b,c,d)\n",
    "print(f'The length of a,b,c,d is {len(a)},{len(b)},{len(c)},{len(d)}')"
   ]
  },
  {
   "cell_type": "markdown",
   "metadata": {},
   "source": [
    "## timeit是啥？\n",
    " 相比于使用`time()`来进行时间统计再进行时长计算，比较代码计算时长使用`timeit`更适合。因为程序中还有很多因素会影响计算的时间，比如垃圾回收机制。使用timeit会自动关掉垃圾回收机制，让程序的运行更加独立，时间计算更加准确。\n",
    " `timeit` provides a simple way to time small bits of Python code. It avoids a number of common traps for measuring execution times.\n",
    "有两种方式可以使用`timeit`:\n",
    "- command-line interface:\n",
    "  ```bash\n",
    "  $ python3 -m timeit '\"-\".join(str(n) for n in range(100))'\n",
    "  10000 loops, best of 5: 30.2 usec per loop\n",
    "  ```\n",
    "- Python interface:\n",
    "  ```python\n",
    "  import timeit\n",
    "  timeit.timeit('\"-\".join(str(n) for n in range(100))', number=10000)\n",
    "  \n",
    "  ```\n",
    "\n",
    "`timeit.timeit(stmt='pass', setup='pass', timer=<default timer>, number=1000000, globals=None)`\n",
    "- stmt: The stmt argument is the code statement or function call that you want to time. It can be a string containing a single line of code or a function object. For example, if you want to time a function call, you can pass it as a string: stmt = \"my_function()\". Alternatively, you can pass a function object directly: stmt = my_function. 要执行的代码或者方法的名字\n",
    "- setup: The setup argument is optional and is used to set up any necessary context or variables before executing the code. It can also be a string or a function object. For example, if your code requires some initialization, you can pass it as a string: setup = \"initialization()\". Alternatively, you can pass a function object directly: setup = initialize. 如果方法不是内置的，需要导入或者给定。或者给的给定参数。\n",
    "- number: how many times to execute ‘statement’\n",
    "\n",
    "```python\n",
    "timeit('sqrt(2)', 'from math import sqrt', number=10000000)\n",
    "```\n",
    "\n",
    " `python -m timeit [-n N] [-r N] [-u U] [-s S] [-h] [statement ...]`\n",
    " ```text\n",
    " -n N, --number=N\n",
    "how many times to execute ‘statement’\n",
    "\n",
    "-r N, --repeat=N\n",
    "how many times to repeat the timer (default 5)\n",
    "\n",
    "-s S, --setup=S\n",
    "statement to be executed once initially (default pass)\n",
    "\n",
    "-p, --process\n",
    "measure process time, not wallclock time, using time.process_time() instead of time.perf_counter(), which is the default\n",
    "\n",
    "New in version 3.3.\n",
    "\n",
    "-u, --unit=U\n",
    "specify a time unit for timer output; can select nsec, usec, msec, or sec\n",
    "\n",
    "New in version 3.5.\n",
    "\n",
    "-v, --verbose\n",
    "print raw timing results; repeat for more digits precision\n",
    "\n",
    "-h, --help\n",
    "print a short usage message and exit\n",
    " ```\n",
    "\n",
    "\n",
    " ```bash\n",
    " $ python311 -m timeit '\"-\".join(str(n) for n in range(100))'\n",
    "20000 loops, best of 5: 10.9 usec per loop\n",
    " ```"
   ]
  },
  {
   "cell_type": "code",
   "execution_count": 15,
   "metadata": {},
   "outputs": [
    {
     "name": "stdout",
     "output_type": "stream",
     "text": [
      "The executing time of list() is 0.41017329995520413\n",
      "The executing time of [] is 0.2014182999264449\n",
      "The executing time of math.sqrt(2) is 0.7862937999889255\n",
      "The executing time of 'char in text' is 0.3034212999045849\n"
     ]
    }
   ],
   "source": [
    "import timeit\n",
    "\n",
    "list_time = timeit.timeit(stmt = list, number = 10000000)\n",
    "print(f'The executing time of list() is {list_time}')\n",
    "\n",
    "square_braclets = timeit.timeit(stmt = '[]', number = 10000000)\n",
    "print(f'The executing time of [] is {square_braclets}')\n",
    "\n",
    "match_sqrt = timeit.timeit(stmt = 'math.sqrt(2)', setup = 'import math', number = 10000000)\n",
    "print(f'The executing time of math.sqrt(2) is {match_sqrt}')\n",
    "\n",
    "char_finder = timeit.timeit(stmt = 'char in text', setup='text = \"sample string\"; char = \"g\"', number = 10000000)\n",
    "print(f'The executing time of \\'char in text\\' is {char_finder}')"
   ]
  },
  {
   "cell_type": "code",
   "execution_count": 21,
   "metadata": {},
   "outputs": [
    {
     "data": {
      "text/plain": [
       "[0.3234731999691576,\n",
       " 0.3204743000678718,\n",
       " 0.36403630021959543,\n",
       " 0.3404941000044346,\n",
       " 0.34412430017255247,\n",
       " 0.3911933999042958,\n",
       " 0.3443132999818772,\n",
       " 0.3342212000861764,\n",
       " 0.370663900161162,\n",
       " 0.34026229986920953]"
      ]
     },
     "execution_count": 21,
     "metadata": {},
     "output_type": "execute_result"
    }
   ],
   "source": [
    "# 定义一个timer后，也可以调用timeit。\n",
    "t = timeit.Timer(stmt = 'char in text', setup='text = \"sample string\"; char = \"g\"')\n",
    "t.timeit(number = 10000000)\n",
    "t.repeat(repeat = 10, number = 10000000)"
   ]
  },
  {
   "cell_type": "markdown",
   "metadata": {},
   "source": [
    "## 详细比较一下sort()和reverse()的区别\n",
    "**`sort()`,`sorted()` 是针对对象进行大小比较，然后再排序**\n",
    "\n",
    "**`reverse()`,`reversed()` 是针对对象的指针直接进行倒序排列**\n",
    "\n",
    "`sort(*, key=None, reverse=False)`:对列表将进行原地排序，只使用 `<` 来进行各项间比较。 异常不会被屏蔽 —— 如果有任何比较操作失败，整个排序操作将失败。\n",
    "- key 指定带有一个参数的函数，用于从每个列表元素中提取比较键 (例如 key=str.lower)。 对应于列表中每一项的键会被计算一次，然后在整个排序过程中使用。 默认值 None 表示直接对列表项排序而不计算一个单独的键值。\n",
    "- reverse 为一个布尔值。 如果设为 True，则每个列表元素将按反向顺序比较进行排序。\n",
    "  \n",
    "sort() is a built-in method, and **modifies the list in-place.**\n",
    "\n",
    "`sorted(*, key=None, reverse=False)`:\n",
    "`sorted()` is also a built-in method, and **builds a new sorted list from an iterable.**\n",
    "\n",
    "**Why does `sort()` require the elements of the list to be of the same type?**\n",
    "The sort() method in Python does not convert the data to ASCII first. Instead, it uses comparison operators to compare the elements directly. When you call the sort() method on a list, it compares pairs of elements using the comparison operators (<, >, <=, >=).\n",
    "\n",
    "The comparison operators work differently depending on the data types of the elements being compared. For example, if you have a list of strings like ['apple', 'banana', 'cherry'], the sort() method will compare the strings using the comparison operators. It does not convert the strings to ASCII values before comparing them. The comparison operators for strings compare the characters of the strings based on their Unicode code points. The Unicode code point is a numerical representation of characters that includes ASCII values as a subset.\n",
    "\n",
    "`reverse(seq)`:\n",
    "Reverse the order of the items in the array. seq must be an object which has a `__reversed__()` method or supports the sequence protocol (the `__len__()` method and the `__getitem__()` method with integer arguments starting at 0).\n",
    "\n",
    "`reversed(seq)`:\n",
    "Return a reverse iterator. seq must be an object which has a `__reversed__()` method or supports the sequence protocol (the `__len__()` method and the `__getitem__()` method with integer arguments starting at 0).\n",
    "\n",
    "\n",
    "`reverse()`,`reversed()` function in Python can be used with sequences that contain elements of different types. It works with any iterable object, regardless of the types of elements it contains."
   ]
  },
  {
   "cell_type": "code",
   "execution_count": 37,
   "metadata": {},
   "outputs": [
    {
     "ename": "TypeError",
     "evalue": "'<' not supported between instances of 'str' and 'int'",
     "output_type": "error",
     "traceback": [
      "\u001b[1;31m---------------------------------------------------------------------------\u001b[0m",
      "\u001b[1;31mTypeError\u001b[0m                                 Traceback (most recent call last)",
      "\u001b[1;32me:\\git\\learning\\python\\Data sctructure of Python.ipynb Cell 33\u001b[0m line \u001b[0;36m2\n\u001b[0;32m      <a href='vscode-notebook-cell:/e%3A/git/learning/python/Data%20sctructure%20of%20Python.ipynb#X55sZmlsZQ%3D%3D?line=0'>1</a>\u001b[0m a_list \u001b[39m=\u001b[39m [\u001b[39m1\u001b[39m,\u001b[39m2\u001b[39m,\u001b[39m3\u001b[39m,\u001b[39m'\u001b[39m\u001b[39ma\u001b[39m\u001b[39m'\u001b[39m,\u001b[39m'\u001b[39m\u001b[39mb\u001b[39m\u001b[39m'\u001b[39m]\n\u001b[1;32m----> <a href='vscode-notebook-cell:/e%3A/git/learning/python/Data%20sctructure%20of%20Python.ipynb#X55sZmlsZQ%3D%3D?line=1'>2</a>\u001b[0m a_list\u001b[39m.\u001b[39;49msort()\n\u001b[0;32m      <a href='vscode-notebook-cell:/e%3A/git/learning/python/Data%20sctructure%20of%20Python.ipynb#X55sZmlsZQ%3D%3D?line=2'>3</a>\u001b[0m a_list\n",
      "\u001b[1;31mTypeError\u001b[0m: '<' not supported between instances of 'str' and 'int'"
     ]
    }
   ],
   "source": [
    "a_list = [1,2,3,'a','b']\n",
    "a_list.sort()\n",
    "a_list"
   ]
  },
  {
   "cell_type": "code",
   "execution_count": 4,
   "metadata": {},
   "outputs": [
    {
     "data": {
      "text/plain": [
       "[5, 4, 3, 2, 1]"
      ]
     },
     "execution_count": 4,
     "metadata": {},
     "output_type": "execute_result"
    }
   ],
   "source": [
    "old_list = [1,2,3,4,5]\n",
    "old_list.sort(reverse=True)\n",
    "old_list"
   ]
  },
  {
   "cell_type": "code",
   "execution_count": 7,
   "metadata": {},
   "outputs": [
    {
     "name": "stdout",
     "output_type": "stream",
     "text": [
      "old_list is [1, 2, 3, 4, 5], new_list is [5, 4, 3, 2, 1]\n"
     ]
    }
   ],
   "source": [
    "old_list = [1,2,3,4,5]\n",
    "new_list = sorted(old_list,reverse=True)\n",
    "print(f'old_list is {old_list}, new_list is {new_list}')"
   ]
  },
  {
   "cell_type": "code",
   "execution_count": 39,
   "metadata": {},
   "outputs": [
    {
     "data": {
      "text/plain": [
       "[1, 2, 3, 4, 5]"
      ]
     },
     "execution_count": 39,
     "metadata": {},
     "output_type": "execute_result"
    }
   ],
   "source": [
    "sorted({1: 'D', 2: 'B', 3: 'B', 4: 'E', 5: 'A'})"
   ]
  },
  {
   "cell_type": "code",
   "execution_count": 10,
   "metadata": {},
   "outputs": [
    {
     "data": {
      "text/plain": [
       "['a', 'Andrew', 'from', 'is', 'string', 'test', 'This']"
      ]
     },
     "execution_count": 10,
     "metadata": {},
     "output_type": "execute_result"
    }
   ],
   "source": [
    "# key = str.lower ,表示将所有元素都转为小写后再进行排序\n",
    "sorted(\"This is a test string from Andrew\".split(), key=str.lower)"
   ]
  },
  {
   "cell_type": "code",
   "execution_count": 11,
   "metadata": {},
   "outputs": [
    {
     "data": {
      "text/plain": [
       "['Andrew', 'This', 'a', 'from', 'is', 'string', 'test']"
      ]
     },
     "execution_count": 11,
     "metadata": {},
     "output_type": "execute_result"
    }
   ],
   "source": [
    "sorted(\"This is a test string from Andrew\".split())"
   ]
  },
  {
   "cell_type": "code",
   "execution_count": 12,
   "metadata": {},
   "outputs": [
    {
     "data": {
      "text/plain": [
       "[('dave', 'B', 10), ('jane', 'B', 12), ('john', 'A', 15)]"
      ]
     },
     "execution_count": 12,
     "metadata": {},
     "output_type": "execute_result"
    }
   ],
   "source": [
    "student_tuples = [\n",
    "    ('john', 'A', 15),\n",
    "    ('jane', 'B', 12),\n",
    "    ('dave', 'B', 10),\n",
    "]\n",
    "sorted(student_tuples, key=lambda student: student[2])   # sort by age"
   ]
  },
  {
   "cell_type": "code",
   "execution_count": 36,
   "metadata": {},
   "outputs": [
    {
     "data": {
      "text/plain": [
       "['b', 'a', 3, 2, 1]"
      ]
     },
     "execution_count": 36,
     "metadata": {},
     "output_type": "execute_result"
    }
   ],
   "source": [
    "a_list = [1,2,3,'a','b']\n",
    "a_list.reverse()\n",
    "a_list"
   ]
  },
  {
   "cell_type": "code",
   "execution_count": 17,
   "metadata": {},
   "outputs": [
    {
     "name": "stdout",
     "output_type": "stream",
     "text": [
      "old_list is [1, 2, 3, 'a', 'b'], new_list is <list_reverseiterator object at 0x0000024BEF575BD0>\n",
      "b\n",
      "a\n",
      "3\n",
      "2\n",
      "1\n"
     ]
    }
   ],
   "source": [
    "old_list = [1,2,3,'a','b']\n",
    "new_list = reversed(old_list)  # return a iterator\n",
    "print(f'old_list is {old_list}, new_list is {new_list}')\n",
    "\n",
    "\n",
    "for i in new_list:\n",
    "    print(i)"
   ]
  },
  {
   "cell_type": "markdown",
   "metadata": {},
   "source": [
    "## 为什么需要预留字节？\n",
    "It need to contains information about the list, like its length and the memory address of its elements.\n",
    "\n",
    "## **创建新列表的40个字节是固定的吗？在不同的操作系统中一样吗？**\n",
    "\n",
    "The specific number of initial allocations for a list in Python can vary depending on the Python implementation and version, as well as the specific operations performed on the list. The interpreter may use different strategies for memory management and initial allocation based on various factors.\n",
    "\n",
    "If you need to estimate the initial allocation size for a specific list, you can use the `sys.getsizeof()` function from the sys module to get the size of the list object itself. \n"
   ]
  },
  {
   "cell_type": "code",
   "execution_count": 18,
   "metadata": {},
   "outputs": [
    {
     "data": {
      "text/plain": [
       "56"
      ]
     },
     "execution_count": 18,
     "metadata": {},
     "output_type": "execute_result"
    }
   ],
   "source": [
    "import sys\n",
    "\n",
    "sys.getsizeof([])"
   ]
  },
  {
   "cell_type": "markdown",
   "metadata": {},
   "source": [
    "## 对于32位和64位系统，一个int分配的字节数是一样的吗？\n",
    "In Python, the memory space used by an int object is not the same in a 32-bit system and a 64-bit system.\n",
    "\n",
    "**In a 32-bit system, an int object typically uses 4 bytes (32 bits) of memory.** This means that the maximum value that can be represented by an int in a 32-bit system is 2^31 - 1.\n",
    "\n",
    "On the other hand, **in a 64-bit system, an int object typically uses 8 bytes (64 bits) of memory.** This allows for a much larger range of values that can be represented by an int, up to 2^63 - 1.\n",
    "\n",
    "\n",
    "## Why do you use 28 bytes of memory, not 8 bytes, when you create an int type object(like 5) in 64-bit system?\n",
    "When you assign the value 5 to the variable a in Python, the a variable becomes an instance of the int class. **The size of an int object in Python is not solely determined by the value it holds. Instead, it includes additional memory overhead for storing metadata and managing the object.** \n",
    "\n",
    "In a 64-bit Python interpreter, an int object typically requires 28 bytes of memory. "
   ]
  },
  {
   "cell_type": "code",
   "execution_count": 24,
   "metadata": {},
   "outputs": [
    {
     "data": {
      "text/plain": [
       "28"
      ]
     },
     "execution_count": 24,
     "metadata": {},
     "output_type": "execute_result"
    }
   ],
   "source": [
    "a = 5\n",
    "a.__sizeof__() "
   ]
  },
  {
   "cell_type": "markdown",
   "metadata": {},
   "source": [
    "## What is the memory management?\n",
    "In Python, memory management is handled automatically by the interpreter through a process known as garbage collection. The goal of memory management is to efficiently allocate and deallocate memory for objects in order to optimize performance and prevent memory leaks.\n",
    "\n",
    "Here's an overview of how memory management works in Python:\n",
    "\n",
    "- Object Creation: When you create an object in Python, such as a variable, list, or class instance, the interpreter allocates memory to store the object's data and metadata. The size of the allocated memory depends on the type and size of the object.\n",
    "\n",
    "- Reference Counting: Python uses a technique called reference counting to keep track of the number of references to an object. Each object has a reference count, which is incremented when a new reference to the object is created and decremented when a reference is deleted or goes out of scope. When the reference count reaches zero, the object is no longer accessible and its memory can be deallocated.\n",
    "\n",
    "- Garbage Collection: In addition to reference counting, Python also employs a garbage collector to handle situations where objects have circular references or when reference counting alone is not sufficient. The garbage collector periodically identifies and collects objects that are no longer reachable, freeing up their memory for reuse.\n",
    "\n",
    "- Memory Reuse: Python's memory manager includes a memory pool called the \"Python heap\" that is used to allocate and deallocate memory for objects. When an object is deallocated, its memory is returned to the heap and can be reused for future object allocations. This helps to minimize the overhead of allocating and deallocating memory.\n"
   ]
  },
  {
   "cell_type": "markdown",
   "metadata": {},
   "source": [
    " ## python中的库\n",
    " 底层可能是采用不同的语言来写的，比如numpy底层是采用C写的，相比于Python的内置库更适合于大数据量的场景。\n",
    " Python provides a number of built-in packages that are included with the standard library. **These built-in packages are developed and maintained by the Python Software Foundation and are written in Python**, just like any other Python code. Some examples of built-in packages include os for interacting with the operating system, datetime for working with dates and times, and math for mathematical operations.\n",
    "\n",
    "However, **packages are not limited to being built-in. Python allows you to create your own packages by organizing your code into directories and modules. These custom packages can be written entirely in Python or can include compiled code written in other programming languages**, such as C or C++.\n",
    "\n",
    "Third-party packages in Python can be written in a variety of programming languages, depending on the specific needs and requirements of the package. Here are a few examples:\n",
    "\n",
    "- NumPy: NumPy is a popular package for numerical computing in Python. It provides efficient array operations and mathematical functions. NumPy is primarily written in Python, but it includes performance-critical code written in C and Fortran to achieve faster execution.\n",
    "\n",
    "- pandas: pandas is a powerful data manipulation and analysis library in Python. It provides data structures like DataFrames and Series for handling structured data. pandas is primarily written in Python, but it also includes performance-critical code written in C.\n",
    "\n",
    "- scikit-learn: scikit-learn is a machine learning library in Python. It provides a wide range of algorithms and tools for tasks like classification, regression, clustering, and dimensionality reduction. scikit-learn is primarily written in Python, but it leverages other libraries like NumPy and SciPy, which are written in C and Fortran.\n",
    "\n",
    "- TensorFlow: TensorFlow is a popular open-source library for machine learning and deep learning. It provides a flexible framework for building and training neural networks. TensorFlow is primarily written in C++ for performance, but it provides Python APIs for ease of use.\n",
    "\n",
    "- PyTorch: PyTorch is another popular deep learning library in Python. It provides dynamic neural network building capabilities and efficient GPU support. PyTorch is primarily written in C++ for performance, but it also provides Python APIs.\n",
    "\n",
    "- Requests: Requests is a simple and elegant HTTP library in Python. It allows you to send HTTP requests and handle responses easily. Requests is written entirely in Python and does not rely on other languages."
   ]
  },
  {
   "cell_type": "markdown",
   "metadata": {},
   "source": [
    " ## over-allocate array是什么？\n",
    "\n",
    "An over-allocate array, also known as a dynamically resizing array or a dynamic array, is a data structure that provides a flexible way to store and manipulate a collection of elements in computer memory.\n",
    "\n",
    "Unlike a fixed-size array, where the size is determined at the time of creation and cannot be changed, an over-allocated array allows for dynamic resizing. This means that the array can grow or shrink in size as needed to accommodate the number of elements being stored.\n",
    "\n",
    "When an over-allocated array is created, it typically starts with a small initial capacity. As elements are added to the array, it checks if there is enough space to accommodate the new element. If there is not enough space, the array is resized by allocating a new, larger block of memory and copying the existing elements into the new memory block.\n"
   ]
  },
  {
   "cell_type": "markdown",
   "metadata": {},
   "source": [
    "## 了解列表和元组在创建过程中的具体流程\n",
    "\n",
    "When you create a list in Python. When you using [] to define a empty list. behind the scenes\n",
    "- This project contains information about the list, such as its length and the memory address of its elements. The initial memory allocation is small and can be adjusted dynamically as the list grows or shrinks.\n",
    "- When you add elements to a list using the append() or insert() methods, the interpreter checks if there is enough space to accommodate the new element. If not, it allocates a larger block of memory, copies the existing elements to the new memory location, and adds the new element.\n",
    "- when you remove elements from a list using the remove() or pop() methods, the interpreter deallocates the memory occupied by the removed element and adjusts the length of the list accordingly.\n",
    "\n",
    "\n",
    "When you create a tuple in Python, behind the scenes.\n",
    "- Memory Allocation: The interpreter allocates a contiguous block of memory to store the elements of the tuple. The size of the memory block is determined by the number and size of the elements in the tuple.\n",
    "- Element Storage: The elements of the tuple are stored in the allocated memory block. Each element is stored in a specific location within the block, allowing for efficient access and retrieval.\n",
    "- Immutable Nature: Unlike lists, tuples are immutable, which means their elements cannot be modified. This immutability allows the interpreter to optimize memory usage and improve performance.\n",
    "- Immutable Nature: Unlike lists, tuples are immutable, which means their elements cannot be modified. This immutability allows the interpreter to optimize memory usage and improve performance."
   ]
  },
  {
   "cell_type": "code",
   "execution_count": null,
   "metadata": {},
   "outputs": [],
   "source": []
  },
  {
   "cell_type": "code",
   "execution_count": null,
   "metadata": {},
   "outputs": [],
   "source": []
  },
  {
   "cell_type": "markdown",
   "metadata": {},
   "source": [
    "# 字典、集合"
   ]
  },
  {
   "cell_type": "markdown",
   "metadata": {},
   "source": [
    "## 字典是什么？\n",
    "字典是由一系列的键key和值value配对组成的元素的集合。其长度大小可变，元素可以任意地删减和改变。\n",
    "\n",
    "在 Python3.7+，字典被确定为有序（注意：在 3.6 中，字典有序是一个 implementation detail，在 3.7 才正式成为语言特性，因此 3.6 中无法 100% 确保其有序性），而 3.6 之前是无序的。\n",
    "\n",
    "字典中的键和值可以是混合类型，不需要保持相同的字符类型\n",
    "\n",
    "## 字典的优势\n",
    "相比于列表和元组，字典的性能更优，特别是对于查找、添加和删除操作，字典都能在常数时间复杂度内完成。\n"
   ]
  },
  {
   "cell_type": "code",
   "execution_count": 2,
   "metadata": {},
   "outputs": [
    {
     "name": "stdout",
     "output_type": "stream",
     "text": [
      "{'name': 'wawa', 'age': 18, 'gender': 'female'} {'name': 'wawa', 'age': 18, 'gender': 'female'} {'name': 'wawa', 'age': 18, 'gender': 'female'} {'name': 'wawa', 'age': 18, 'gender': 'female'}\n",
      "There are the same dictionary\n"
     ]
    }
   ],
   "source": [
    "d1 = {'name':'wawa', 'age':18, 'gender':'female'}\n",
    "d2 = dict({'name':'wawa', 'age':18, 'gender':'female'})\n",
    "d3 = dict([('name','wawa'), ('age',18), ('gender','female')])\n",
    "d4 = dict(name='wawa', age=18, gender='female')\n",
    "\n",
    "print(d1,d2,d3,d4)\n",
    "\n",
    "if d1 == d2 == d3 == d4:\n",
    "    print('There are the same dictionary')\n"
   ]
  },
  {
   "cell_type": "markdown",
   "metadata": {},
   "source": [
    "## 查找字典中的值\n",
    "可以通过key进行查找。在找不到指定的key时，会抛出异常KeyError。\n",
    "\n",
    "也可以通过`get(key,default)`函数来进行索引。如果键不存在，返回定义的默认值\n",
    "\n",
    "也可以通过`in`来判断某key是否在一个字典中存在。"
   ]
  },
  {
   "cell_type": "code",
   "execution_count": 5,
   "metadata": {},
   "outputs": [
    {
     "ename": "KeyError",
     "evalue": "'b'",
     "output_type": "error",
     "traceback": [
      "\u001b[1;31m---------------------------------------------------------------------------\u001b[0m",
      "\u001b[1;31mKeyError\u001b[0m                                  Traceback (most recent call last)",
      "\u001b[1;32me:\\git\\learning\\python\\Data sctructure of Python.ipynb Cell 56\u001b[0m line \u001b[0;36m2\n\u001b[0;32m      <a href='vscode-notebook-cell:/e%3A/git/learning/python/Data%20sctructure%20of%20Python.ipynb#Y116sZmlsZQ%3D%3D?line=0'>1</a>\u001b[0m this_dict \u001b[39m=\u001b[39m {\u001b[39m'\u001b[39m\u001b[39mM\u001b[39m\u001b[39m'\u001b[39m:\u001b[39m1\u001b[39m,\u001b[39m'\u001b[39m\u001b[39mN\u001b[39m\u001b[39m'\u001b[39m:\u001b[39m2\u001b[39m,\u001b[39m'\u001b[39m\u001b[39mL\u001b[39m\u001b[39m'\u001b[39m:\u001b[39m3\u001b[39m}\n\u001b[1;32m----> <a href='vscode-notebook-cell:/e%3A/git/learning/python/Data%20sctructure%20of%20Python.ipynb#Y116sZmlsZQ%3D%3D?line=1'>2</a>\u001b[0m this_dict[\u001b[39m'\u001b[39;49m\u001b[39mb\u001b[39;49m\u001b[39m'\u001b[39;49m]\n",
      "\u001b[1;31mKeyError\u001b[0m: 'b'"
     ]
    }
   ],
   "source": [
    "this_dict = {'M':1,'N':2,'L':3}\n",
    "this_dict['b']"
   ]
  },
  {
   "cell_type": "code",
   "execution_count": 15,
   "metadata": {},
   "outputs": [
    {
     "name": "stdout",
     "output_type": "stream",
     "text": [
      "NULL\n",
      "The value is 1\n"
     ]
    }
   ],
   "source": [
    "this_dict = {'M':1,'N':2,'L':3}\n",
    "v = this_dict.get('b','NULL')\n",
    "print(v)\n",
    "\n",
    "if 'N' in this_dict:\n",
    "    print(f'The value is {this_dict[\"M\"]}')\n",
    "else:\n",
    "    print('Not in this_dict')\n"
   ]
  },
  {
   "cell_type": "markdown",
   "metadata": {},
   "source": [
    "## 字典的增加，删除，更新操作"
   ]
  },
  {
   "cell_type": "code",
   "execution_count": 16,
   "metadata": {},
   "outputs": [
    {
     "name": "stdout",
     "output_type": "stream",
     "text": [
      "{'name': 'jason', 'age': 20, 'gender': 'male', 'dob': '1999-02-01'}\n",
      "1998-01-01 {'name': 'jason', 'age': 20, 'gender': 'male'}\n"
     ]
    }
   ],
   "source": [
    "d = {'name': 'jason', 'age': 20}\n",
    "d['gender'] = 'male' # 增加元素对'gender': 'male'\n",
    "d['dob'] = '1999-02-01' # 增加元素对'dob': '1999-02-01'\n",
    "print(d)\n",
    "\n",
    "\n",
    "d['dob'] = '1998-01-01' # 更新键'dob'对应的值 \n",
    "the_pop_one = d.pop('dob') # 删除键为'dob'的元素对\n",
    "print(the_pop_one, d)\n"
   ]
  },
  {
   "cell_type": "markdown",
   "metadata": {},
   "source": [
    "## 字典排序\n",
    "对于字典，我们通常会根据键或值，进行升序或降序排序"
   ]
  },
  {
   "cell_type": "code",
   "execution_count": 20,
   "metadata": {},
   "outputs": [
    {
     "name": "stdout",
     "output_type": "stream",
     "text": [
      "[('a', 2), ('b', 1), ('c', 10)]\n",
      "[('b', 1), ('a', 2), ('c', 10)]\n"
     ]
    }
   ],
   "source": [
    "d = {'b': 1, 'a': 2, 'c': 10}\n",
    "d_sorted_by_key = sorted(d.items(), key=lambda x: x[0]) # 根据字典键的升序排序\n",
    "d_sorted_by_value = sorted(d.items(), key=lambda x: x[1]) # 根据字典值的升序排序\n",
    "print(d_sorted_by_key)\n",
    "\n",
    "print(d_sorted_by_value)\n",
    "\n"
   ]
  },
  {
   "cell_type": "markdown",
   "metadata": {},
   "source": [
    "## 集合是什么？\n",
    "集合没有键和值的配对，是一系列无序的，唯一的元素组合。\n",
    "\n",
    "同一个集合中的值可以是任何类型的元素。\n",
    "\n",
    "集合本质是一个哈希表，所以不支持索引的操作。"
   ]
  },
  {
   "cell_type": "code",
   "execution_count": 8,
   "metadata": {},
   "outputs": [
    {
     "name": "stdout",
     "output_type": "stream",
     "text": [
      "They are the same set\n"
     ]
    },
    {
     "ename": "TypeError",
     "evalue": "'set' object is not subscriptable",
     "output_type": "error",
     "traceback": [
      "\u001b[1;31m---------------------------------------------------------------------------\u001b[0m",
      "\u001b[1;31mTypeError\u001b[0m                                 Traceback (most recent call last)",
      "\u001b[1;32me:\\git\\learning\\python\\Data sctructure of Python.ipynb Cell 59\u001b[0m line \u001b[0;36m7\n\u001b[0;32m      <a href='vscode-notebook-cell:/e%3A/git/learning/python/Data%20sctructure%20of%20Python.ipynb#Y113sZmlsZQ%3D%3D?line=3'>4</a>\u001b[0m     \u001b[39mprint\u001b[39m(\u001b[39m'\u001b[39m\u001b[39mThey are the same set\u001b[39m\u001b[39m'\u001b[39m)\n\u001b[0;32m      <a href='vscode-notebook-cell:/e%3A/git/learning/python/Data%20sctructure%20of%20Python.ipynb#Y113sZmlsZQ%3D%3D?line=5'>6</a>\u001b[0m \u001b[39m# When you use an index to find a item, then you will get an error\u001b[39;00m\n\u001b[1;32m----> <a href='vscode-notebook-cell:/e%3A/git/learning/python/Data%20sctructure%20of%20Python.ipynb#Y113sZmlsZQ%3D%3D?line=6'>7</a>\u001b[0m s1[\u001b[39m0\u001b[39;49m]\n",
      "\u001b[1;31mTypeError\u001b[0m: 'set' object is not subscriptable"
     ]
    }
   ],
   "source": [
    "s1 = {1,2,3}\n",
    "s2 = set([1,2,3])\n",
    "if s1 == s2:\n",
    "    print('They are the same set')\n",
    "    \n",
    "# When you use an index to find a item, then you will get an error\n",
    "s1[0]"
   ]
  },
  {
   "cell_type": "markdown",
   "metadata": {},
   "source": [
    "## 判断元素是否在集合中\n",
    "使用`in`的方式"
   ]
  },
  {
   "cell_type": "code",
   "execution_count": 12,
   "metadata": {},
   "outputs": [
    {
     "name": "stdout",
     "output_type": "stream",
     "text": [
      "No, it isn't in s1\n"
     ]
    }
   ],
   "source": [
    "s1 = {1,2,3}\n",
    "\n",
    "if 4 in s1:\n",
    "    print('Yes, it\\'s here')\n",
    "else:\n",
    "    print('No, it isn\\'t in s1' )"
   ]
  },
  {
   "cell_type": "markdown",
   "metadata": {},
   "source": [
    "## 集合的增删改\n",
    "集合的 pop() 操作是删除集合中最后一个元素，可是集合本身是无序的，你无法知道会删除哪个元素，因此这个操作得谨慎使用。"
   ]
  },
  {
   "cell_type": "code",
   "execution_count": 19,
   "metadata": {},
   "outputs": [
    {
     "name": "stdout",
     "output_type": "stream",
     "text": [
      "{1, 2, 3, 4}\n",
      "{1, 2, 3}\n"
     ]
    },
    {
     "data": {
      "text/plain": [
       "1"
      ]
     },
     "execution_count": 19,
     "metadata": {},
     "output_type": "execute_result"
    }
   ],
   "source": [
    "s = {1, 2, 3}\n",
    "s.add(4) # 增加元素4到集合\n",
    "print(s)\n",
    "\n",
    "s.remove(4) # 从集合中删除元素4\n",
    "print(s)\n",
    "\n",
    "s.pop()"
   ]
  },
  {
   "cell_type": "markdown",
   "metadata": {},
   "source": [
    "## 集合排序\n",
    "对于集合，其排序和前面讲过的列表、元组很类似，直接调用 sorted(set) 即可，结果会返回一个排好序的列表"
   ]
  },
  {
   "cell_type": "code",
   "execution_count": 21,
   "metadata": {},
   "outputs": [
    {
     "data": {
      "text/plain": [
       "[1, 2, 3, 4]"
      ]
     },
     "execution_count": 21,
     "metadata": {},
     "output_type": "execute_result"
    }
   ],
   "source": [
    "s = {3, 4, 2, 1}\n",
    "sorted(s) # 对集合的元素进行升序排序\n",
    "\n"
   ]
  },
  {
   "cell_type": "markdown",
   "metadata": {},
   "source": [
    "## 字典与集合的性能\n",
    "字典和集合是进行过性能高度优化的数据结构，特别是对于查找、添加和删除操作。\n",
    "\n",
    "### 查找\n",
    "集合是高度优化的哈希表，里面元素不能重复，并且其添加和查找操作只需 O(1) 的复杂度，那么，总的时间复杂度就只有 O(n)。\n",
    "字典的内部组成是一张哈希表，可以直接通过键的哈希值，找到其对应的值。只需 O(1) 的时间复杂度就可以完成。\n"
   ]
  },
  {
   "cell_type": "code",
   "execution_count": 22,
   "metadata": {},
   "outputs": [
    {
     "name": "stdout",
     "output_type": "stream",
     "text": [
      "time elapse using list: 42.751531899994006\n",
      "time elapse using set: 0.007084499986376613\n"
     ]
    }
   ],
   "source": [
    "import time\n",
    "id = [x for x in range(0, 100000)]\n",
    "price = [x for x in range(200000, 300000)]\n",
    "products = list(zip(id, price))\n",
    "\n",
    "def find_unique_price_using_list(products): \n",
    "    unique_price_list = [] \n",
    "    for _, price in products: # A \n",
    "        if price not in unique_price_list: #B \n",
    "            unique_price_list.append(price) \n",
    "    \n",
    "    return len(unique_price_list)\n",
    "\n",
    "\n",
    "def find_unique_price_using_set(products): \n",
    "    unique_price_set = set() \n",
    "    for _, price in products: \n",
    "        unique_price_set.add(price) \n",
    "        \n",
    "    return len(unique_price_set)\n",
    "\n",
    "# 计算列表版本的时间\n",
    "start_using_list = time.perf_counter()\n",
    "find_unique_price_using_list(products)\n",
    "end_using_list = time.perf_counter()\n",
    "print(\"time elapse using list: {}\".format(end_using_list - start_using_list))\n",
    "\n",
    "\n",
    "# 计算集合版本的时间\n",
    "start_using_set = time.perf_counter()\n",
    "find_unique_price_using_set(products)\n",
    "end_using_set = time.perf_counter()\n",
    "print(\"time elapse using set: {}\".format(end_using_set - start_using_set))\n",
    "\n"
   ]
  },
  {
   "cell_type": "markdown",
   "metadata": {},
   "source": [
    "## 字典、集合的工作原理\n",
    "\n",
    "字典和集合的内部结构都是一张哈希表。\n",
    "- 对于字典而言，这张表存储了哈希值（hash）、键和值这 3 个元素。 \n",
    "- 而对集合来说，区别就是哈希表内没有键和值的配对，只有单一的元素了。\n",
    "\n",
    "不难理解，哈希冲突的发生，往往会降低字典和集合操作的速度。因此，为了保证其高效性，字典和集合内的哈希表，通常会保证其至少留有 1/3 的剩余空间。随着元素的不停插入，当剩余空间小于 1/3 时，Python 会重新获取更大的内存空间，扩充哈希表。不过，这种情况下，表内所有的元素位置都会被重新排放。 \n",
    "\n",
    "虽然哈希冲突和哈希表大小的调整，都会导致速度减缓，但是这种情况发生的次数极少。所以，平均情况下，这仍能保证插入、查找和删除的时间复杂度为 O(1)。\n"
   ]
  },
  {
   "cell_type": "raw",
   "metadata": {},
   "source": [
    "老版本的结构：\n",
    "--+-------------------------------+\n",
    "  | 哈希值(hash)  键(key)  值(value)\n",
    "--+-------------------------------+\n",
    "0 |    hash0      key0    value0\n",
    "--+-------------------------------+\n",
    "1 |    hash1      key1    value1\n",
    "--+-------------------------------+\n",
    "2 |    hash2      key2    value2\n",
    "--+-------------------------------+\n",
    ". |           ...\n",
    "__+_______________________________+\n",
    "\n",
    "假如{'name': 'mike', 'dob': '1999-01-01', 'gender': 'male'}，其存储形式如下：\n",
    "\n",
    "entries = [\n",
    "['--', '--', '--']\n",
    "[-230273521, 'dob', '1999-01-01'],\n",
    "['--', '--', '--'],\n",
    "['--', '--', '--'],\n",
    "[1231236123, 'name', 'mike'],\n",
    "['--', '--', '--'],\n",
    "[9371539127, 'gender', 'male']\n",
    "]\n",
    "\n",
    "\n",
    "\n",
    "现在的哈希表除了字典本身的结构，会把索引和哈希值、键、值单独分开，也就是下面这样新的结构：\n",
    "Indices\n",
    "----------------------------------------------------\n",
    "None | index | None | None | index | None | index ...\n",
    "----------------------------------------------------\n",
    "\n",
    "Entries\n",
    "--------------------\n",
    "hash0   key0  value0\n",
    "---------------------\n",
    "hash1   key1  value1\n",
    "---------------------\n",
    "hash2   key2  value2\n",
    "---------------------\n",
    "        ...\n",
    "---------------------\n",
    "\n",
    "假如{'name': 'mike', 'dob': '1999-01-01', 'gender': 'male'}，其存储形式如下：\n",
    "\n",
    "indices = [None, 1, None, None, 0, None, 2]\n",
    "entries = [\n",
    "[1231236123, 'name', 'mike'],\n",
    "[-230273521, 'dob', '1999-01-01'],\n",
    "[9371539127, 'gender', 'male']\n",
    "]\n"
   ]
  },
  {
   "cell_type": "markdown",
   "metadata": {},
   "source": []
  },
  {
   "cell_type": "markdown",
   "metadata": {},
   "source": [
    "### 插入操作\n",
    "\n",
    "每次向字典或集合插入一个元素时，Python 会首先计算键的哈希值（hash(key)），再和 mask = PyDicMinSize - 1 做与操作，计算这个元素应该插入哈希表的位置 index = hash(key) & mask。如果哈希表中此位置是空的，那么这个元素就会被插入其中。 \n",
    "\n",
    "而如果此位置已被占用，Python 便会比较两个元素的哈希值和键是否相等。 \n",
    "- 若两者都相等，则表明这个元素已经存在，如果值不同，则更新值。 \n",
    "- 若两者中有一个不相等，这种情况我们通常称为哈希冲突（hash collision），意思是两个元素的键不相等，但是哈希值相等。这种情况下，Python 便会继续寻找表中空余的位置，直到找到位置为止。 \n",
    " \n",
    "值得一提的是，通常来说，遇到这种情况，最简单的方式是线性寻找，即从这个位置开始，挨个往后寻找空位。当然，Python 内部对此进行了优化，让这个步骤更加高效。"
   ]
  },
  {
   "cell_type": "markdown",
   "metadata": {},
   "source": [
    "### 查找操作\n",
    "和前面的插入操作类似，Python 会根据哈希值，找到其应该处于的位置；然后，比较哈希表这个位置中元素的哈希值和键，与需要查找的元素是否相等。如果相等，则直接返回；如果不等，则继续查找，直到找到空位或者抛出异常为止。"
   ]
  },
  {
   "cell_type": "markdown",
   "metadata": {},
   "source": [
    "### 删除操作\n",
    "对于删除操作，Python 会暂时对这个位置的元素，赋于一个特殊的值，等到重新调整哈希表的大小时，再将其删除。 "
   ]
  },
  {
   "cell_type": "markdown",
   "metadata": {},
   "source": [
    "## 思考\n",
    "- 下面初始化字典的方式，哪一种更高效？\n",
    "  ```python\n",
    "    # Option A\n",
    "    d = {'name': 'jason', 'age': 20, 'gender': 'male'}\n",
    "\n",
    "    # Option B\n",
    "    d = dict({'name': 'jason', 'age': 20, 'gender': 'male'})\n",
    "\n",
    "  ```\n",
    "\n",
    "  类似列表，`{}`直接创建，`dict()`是一个function call，Python的function call会创建stack，并且进行一系列参数检查的操作，比较expensive，反观[]是一个内置的C函数，可以直接被调用，因此效率高。"
   ]
  },
  {
   "cell_type": "code",
   "execution_count": 7,
   "metadata": {},
   "outputs": [
    {
     "name": "stdout",
     "output_type": "stream",
     "text": [
      "The cost time of using {} is 0.02869249999639578\n",
      "The cost time of using dict() is 0.07390509999822825\n"
     ]
    }
   ],
   "source": [
    "import timeit\n",
    "\n",
    "a = timeit.timeit(stmt = '{}' , setup= \"{'name': 'jason', 'age': 20, 'gender': 'male'}\")\n",
    "\n",
    "b = timeit.timeit(stmt = dict, setup=\"{'name': 'jason', 'age': 20, 'gender': 'male'}\")\n",
    "\n",
    "print(f'The cost time of using {{}} is {a}')\n",
    "print(f'The cost time of using dict() is {b}')"
   ]
  },
  {
   "cell_type": "markdown",
   "metadata": {},
   "source": [
    "\n",
    "- 字典的键可以是一个列表吗？下面这段代码中，字典的初始化是否正确呢？如果不正确，可以说出你的原因吗？\n",
    "  ```python\n",
    "  d = {'name': 'jason', ['education']: ['Tsinghua University', 'Stanford University']}\n",
    "  ```\n",
    "\n",
    "  字典的键不能是列表。\n",
    "  In Python, dictionary keys must be hashable, which means they need to be immutable objects. A list is a mutable object, which means it can be modified after it is created.\n",
    "\n",
    "  If you use a tuple object as dictionary keys instead of list, that's ok."
   ]
  },
  {
   "cell_type": "code",
   "execution_count": 8,
   "metadata": {},
   "outputs": [
    {
     "ename": "TypeError",
     "evalue": "unhashable type: 'list'",
     "output_type": "error",
     "traceback": [
      "\u001b[1;31m---------------------------------------------------------------------------\u001b[0m",
      "\u001b[1;31mTypeError\u001b[0m                                 Traceback (most recent call last)",
      "\u001b[1;32me:\\git\\learning\\python\\Data sctructure of Python.ipynb Cell 81\u001b[0m line \u001b[0;36m1\n\u001b[1;32m----> <a href='vscode-notebook-cell:/e%3A/git/learning/python/Data%20sctructure%20of%20Python.ipynb#Y153sZmlsZQ%3D%3D?line=0'>1</a>\u001b[0m a \u001b[39m=\u001b[39m {[\u001b[39m1\u001b[39m,\u001b[39m2\u001b[39m,\u001b[39m3\u001b[39m]:\u001b[39m1\u001b[39m}\n",
      "\u001b[1;31mTypeError\u001b[0m: unhashable type: 'list'"
     ]
    }
   ],
   "source": [
    "a = {[1,2,3]:1}"
   ]
  },
  {
   "cell_type": "code",
   "execution_count": 10,
   "metadata": {},
   "outputs": [
    {
     "data": {
      "text/plain": [
       "{(1, 2, 3): 1}"
      ]
     },
     "execution_count": 10,
     "metadata": {},
     "output_type": "execute_result"
    }
   ],
   "source": [
    "a = {(1,2,3):1}\n",
    "a"
   ]
  },
  {
   "cell_type": "markdown",
   "metadata": {},
   "source": [
    "### Python中字典、集合的新旧哈希表存储的区别\n",
    "\n",
    "旧的哈希表的寻址过程是这样的：通过key计算哈希值，然后再通过哈希值计算数组的索引，然后通过索引以O(1)时间的复杂度访问到entries里面存储的哈希值、key和value；\n",
    "但是旧的哈希表存储结构有个问题，就是为了保证通过计算所得的索引能够正确的访问到地址，需要给entries分配连续的存储空间，这样一来，中间空闲的空间就太多了，造成了空间浪费。\n",
    "\n",
    "新的哈希表的寻址：先通过key值计算出哈希值，再通过哈希值计算出数组的索引，这个索引存储在Indices中。\n",
    "再将哈希值、key和value的具体值存储在entries中。\n",
    "而indices中的索引存储的就是元素在entries中的位置，即entries中的索引。"
   ]
  },
  {
   "cell_type": "markdown",
   "metadata": {},
   "source": []
  },
  {
   "cell_type": "markdown",
   "metadata": {},
   "source": [
    "### Python 3.7 以后插入有序变为字典的特性。字典的一些方法使用\n"
   ]
  },
  {
   "cell_type": "code",
   "execution_count": 25,
   "metadata": {},
   "outputs": [
    {
     "name": "stdout",
     "output_type": "stream",
     "text": [
      "{'b': 1, 'c': 2, 'a': 0}\n",
      "{'b': 5, 'c': 2, 'a': 0}\n"
     ]
    }
   ],
   "source": [
    "# update 如果键值不存在，则添加到字典中。如果键存在，则更新对饮的值\n",
    "old_dict = {'b':1,'c':2}\n",
    "old_dict.update({'a':0})\n",
    "print(old_dict)\n",
    "old_dict.update({'b':5})\n",
    "print(old_dict)"
   ]
  },
  {
   "cell_type": "code",
   "execution_count": 19,
   "metadata": {},
   "outputs": [
    {
     "data": {
      "text/plain": [
       "{'b': 1}"
      ]
     },
     "execution_count": 19,
     "metadata": {},
     "output_type": "execute_result"
    }
   ],
   "source": [
    "# pop是指定key进行删除\n",
    "old_dict = {'b':1,'c':2}\n",
    "old_dict.pop('c')\n",
    "old_dict"
   ]
  },
  {
   "cell_type": "code",
   "execution_count": 23,
   "metadata": {},
   "outputs": [
    {
     "name": "stdout",
     "output_type": "stream",
     "text": [
      "{'b': 1}\n",
      "{}\n"
     ]
    }
   ],
   "source": [
    "# popitem是倒序删除键值对\n",
    "old_dict = {'b':1,'c':2}\n",
    "old_dict.popitem()\n",
    "print(old_dict)\n",
    "old_dict.popitem()\n",
    "print(old_dict)"
   ]
  },
  {
   "cell_type": "code",
   "execution_count": 37,
   "metadata": {},
   "outputs": [
    {
     "name": "stdout",
     "output_type": "stream",
     "text": [
      "<class 'dict_reversekeyiterator'>\n",
      "a\n",
      "c\n",
      "b\n"
     ]
    }
   ],
   "source": [
    "# the dict_reversekeyiterator is an iterator object that provides a sequence of keys in reverse order. \n",
    "old_dict = {'b': 1, 'c': 2, 'a': 0}\n",
    "b = reversed(old_dict)\n",
    "print(type(b))\n",
    "for i in b:\n",
    "    print(i)"
   ]
  },
  {
   "cell_type": "code",
   "execution_count": 43,
   "metadata": {},
   "outputs": [
    {
     "name": "stdout",
     "output_type": "stream",
     "text": [
      "b 1\n",
      "c 2\n",
      "a 0\n",
      "key is:b\n",
      "key is:c\n",
      "key is:a\n",
      "value is:1\n",
      "value is:2\n",
      "value is:0\n"
     ]
    }
   ],
   "source": [
    "old_dict = {'b': 1, 'c': 2, 'a': 0}\n",
    "for k,i in old_dict.items():\n",
    "    print(k,i)\n",
    "    \n",
    "for k in old_dict.keys():\n",
    "    print(f'key is:{k}')\n",
    "    \n",
    "for i in old_dict.values():\n",
    "    print(f'value is:{i}')"
   ]
  },
  {
   "cell_type": "code",
   "execution_count": 46,
   "metadata": {},
   "outputs": [
    {
     "data": {
      "text/plain": [
       "{'b': 1, 'c': 2, 'a': 0, 'e': 1, 'f': 2, 'g': 0}"
      ]
     },
     "execution_count": 46,
     "metadata": {},
     "output_type": "execute_result"
    }
   ],
   "source": [
    "# Create a new dictionary with the merged keys and values of d and other, which must both be dictionaries. The values of other take priority when d and other share keys.\n",
    "a_dict = {'b': 1, 'c': 2, 'a': 0}\n",
    "b_dict = {'e': 1, 'f': 2, 'g': 0}\n",
    "\n",
    "a_dict | b_dict"
   ]
  },
  {
   "cell_type": "code",
   "execution_count": 48,
   "metadata": {},
   "outputs": [
    {
     "data": {
      "text/plain": [
       "{'b': 5, 'c': 2, 'a': 0, 'f': 2, 'g': 0}"
      ]
     },
     "execution_count": 48,
     "metadata": {},
     "output_type": "execute_result"
    }
   ],
   "source": [
    "# Update the dictionary d with keys and values from other, which may be either a mapping or an iterable of key/value pairs. The values of other take priority when d and other share keys.\n",
    "a_dict = {'b': 1, 'c': 2, 'a': 0}\n",
    "b_dict = {'b': 5, 'f': 2, 'g': 0}\n",
    "\n",
    "a_dict |= b_dict\n",
    "a_dict"
   ]
  },
  {
   "cell_type": "markdown",
   "metadata": {},
   "source": [
    "a_dict = {'b': 1, 'c': 2, 'a': 0}\n",
    "len(a_dict)"
   ]
  },
  {
   "cell_type": "markdown",
   "metadata": {},
   "source": [
    "## 字符串\n",
    "### 定义\n",
    "\n",
    "字符串是由独立字符组成的一个序列，通常包含在单引号（`''`）双引号（`\"\"`）或者三引号之中（`''' '''`或`\"\"\" \"\"\"`，两者一样）。\n",
    "\n",
    "三引号字符串，则主要应用于多行字符串的情境，比如函数的注释等等。\n",
    "\n",
    "三引号字符串，则主要应用于多行字符串的情境，比如函数的注释等等。\n"
   ]
  },
  {
   "cell_type": "code",
   "execution_count": 1,
   "metadata": {},
   "outputs": [
    {
     "name": "stdout",
     "output_type": "stream",
     "text": [
      "jason\n",
      "Guangzhou\n",
      "Welcome to here\n",
      "nice to meet you\n"
     ]
    }
   ],
   "source": [
    "name = 'jason'\n",
    "city = \"Guangzhou\"\n",
    "text = '''Welcome to here\n",
    "nice to meet you'''\n",
    "\n",
    "print(name)\n",
    "print(city)\n",
    "print(text)"
   ]
  },
  {
   "cell_type": "markdown",
   "metadata": {},
   "source": [
    "### 转义字符\n",
    "\n",
    "Python 也支持转义字符。所谓的转义字符，就是用反斜杠开头的字符串，来表示一些特定意义的字符，常见的如下：\n",
    "\n",
    "`\\newline`  接下一行\n",
    "\n",
    "`\\\\`  表示\\\n",
    "\n",
    "`\\'`  表示单引号\n",
    "\n",
    "`\\\"`  表示双引号\n",
    "\n",
    "`\\n`  换行\n",
    "\n",
    "`\\t`  横向制表符\n",
    "\n",
    "`\\b`  退格\n",
    "\n",
    "`\\v`  纵向制表符\n"
   ]
  },
  {
   "cell_type": "code",
   "execution_count": 5,
   "metadata": {},
   "outputs": [
    {
     "name": "stdout",
     "output_type": "stream",
     "text": [
      "a\n",
      "b\tc\n",
      "5\n"
     ]
    }
   ],
   "source": [
    "'''这段代码中的'\\n'，表示一个字符——换行符；'\\t'也表示一个字符——横向制表符。\n",
    "所以，最后打印出来的输出，就是字符 a，换行，字符 b，然后制表符，最后打印字符 c。\n",
    "不过要注意，虽然最后打印的输出横跨了两行，但是整个字符串 s 仍然只有 5 个元素。'''\n",
    "s = 'a\\nb\\tc'\n",
    "print(s)\n",
    "print(len(s))"
   ]
  },
  {
   "cell_type": "markdown",
   "metadata": {},
   "source": [
    "### 字符串的常见操作\n",
    "\n",
    "字符串可以看成是由单个字符组成的数组，所以操作上也支持索引，切片，和遍历等操作。\n",
    "\n",
    "另外，在Python中字符串属于immutable类型，即不可变类型，所以不能直接修改字符串中的元素值，否则会触发TypeError错误。"
   ]
  },
  {
   "cell_type": "code",
   "execution_count": 7,
   "metadata": {},
   "outputs": [
    {
     "name": "stdout",
     "output_type": "stream",
     "text": [
      "s\n",
      "son\n"
     ]
    }
   ],
   "source": [
    "name = 'jason'\n",
    "print(name[2])\n",
    "print(name[2:5])"
   ]
  },
  {
   "cell_type": "code",
   "execution_count": 8,
   "metadata": {},
   "outputs": [
    {
     "ename": "TypeError",
     "evalue": "'str' object does not support item assignment",
     "output_type": "error",
     "traceback": [
      "\u001b[1;31m---------------------------------------------------------------------------\u001b[0m",
      "\u001b[1;31mTypeError\u001b[0m                                 Traceback (most recent call last)",
      "\u001b[1;32me:\\git\\learning\\python\\Data sctructure of Python.ipynb Cell 100\u001b[0m line \u001b[0;36m2\n\u001b[0;32m      <a href='vscode-notebook-cell:/e%3A/git/learning/python/Data%20sctructure%20of%20Python.ipynb#Y210sZmlsZQ%3D%3D?line=0'>1</a>\u001b[0m name \u001b[39m=\u001b[39m \u001b[39m'\u001b[39m\u001b[39mjason\u001b[39m\u001b[39m'\u001b[39m\n\u001b[1;32m----> <a href='vscode-notebook-cell:/e%3A/git/learning/python/Data%20sctructure%20of%20Python.ipynb#Y210sZmlsZQ%3D%3D?line=1'>2</a>\u001b[0m name[\u001b[39m1\u001b[39;49m] \u001b[39m=\u001b[39m \u001b[39m'\u001b[39m\u001b[39mo\u001b[39m\u001b[39m'\u001b[39m\n",
      "\u001b[1;31mTypeError\u001b[0m: 'str' object does not support item assignment"
     ]
    }
   ],
   "source": [
    "name = 'jason'\n",
    "name[1] = 'o'"
   ]
  },
  {
   "cell_type": "markdown",
   "metadata": {},
   "source": [
    "### 如何达到修改字符串内容的目的\n",
    "\n",
    "通常情况下只能通过创建新的字符串来完成。此时，可以用`replace()`方法\n",
    "\n",
    "也可以通过切片的方式，再重新的组合"
   ]
  },
  {
   "cell_type": "code",
   "execution_count": 14,
   "metadata": {},
   "outputs": [
    {
     "name": "stdout",
     "output_type": "stream",
     "text": [
      "Jason\n",
      "jason 2030346163888\n",
      "Jason 2030337866352\n"
     ]
    }
   ],
   "source": [
    "name = 'jason'\n",
    "name = 'J' + name[1:]\n",
    "print(name)\n",
    "\n",
    "# 通过id() method可以查看变量在内存中的地址。\n",
    "# 下面的代码可以看出，使用了replace方法后，虽然更改了字符的内容，通过变量名还叫作name，但实际上name是指向内存中的一个新的地址\n",
    "name = 'jason'\n",
    "print(name, id(name))\n",
    "\n",
    "name = name.replace('j','J')\n",
    "print(name, id(name))\n"
   ]
  },
  {
   "cell_type": "markdown",
   "metadata": {},
   "source": [
    "# 使用加法操作符`+=`的字符串拼接方法。\n",
    "\n",
    "name = 'jason'\n",
    "print(id(name))\n",
    "name = name + '_1'\n",
    "print(name, id(name))\n",
    "\n",
    "name = 'jason'\n",
    "print(id(name))\n",
    "name += '_1'\n",
    "print(name, id(name))"
   ]
  },
  {
   "cell_type": "markdown",
   "metadata": {},
   "source": [
    "## `id()` method\n",
    "In Python, you can use the id() function to check the memory address of an object, including a string (str). The id() function returns a unique identifier for the object, which corresponds to its memory address."
   ]
  },
  {
   "cell_type": "code",
   "execution_count": 11,
   "metadata": {},
   "outputs": [
    {
     "name": "stdout",
     "output_type": "stream",
     "text": [
      "2030346322544\n"
     ]
    }
   ],
   "source": [
    "my_str = \"Hello, world!\"\n",
    "\n",
    "address = id(my_str)\n",
    "\n",
    "print(address)"
   ]
  },
  {
   "cell_type": "markdown",
   "metadata": {},
   "source": [
    "### 字符串的切割\n",
    "`str.split()`，表示把字符串按照给定的条件进行分割，并返回一个分割后的字符串列表。\n"
   ]
  },
  {
   "cell_type": "code",
   "execution_count": 17,
   "metadata": {},
   "outputs": [
    {
     "name": "stdout",
     "output_type": "stream",
     "text": [
      "['This is a description', ' which is about explaining what split() is. You can use it to split a string based on separator', ' and then you will get a list']\n"
     ]
    }
   ],
   "source": [
    "text = 'This is a description, which is about explaining what split() is. You can use it to split a string based on separator, and then you will get a list'\n",
    "\n",
    "splited_text = text.split(',')\n",
    "print(splited_text)"
   ]
  },
  {
   "cell_type": "markdown",
   "metadata": {},
   "source": [
    "### 剔除首、尾的特定字符\n",
    "`string.strip(str)`  去掉首尾的str字符串\n",
    "`string.lstrip(str)` 去掉开头的str字符串\n",
    "`string.rstrip(str)`   去掉结尾的str字符串"
   ]
  },
  {
   "cell_type": "code",
   "execution_count": 20,
   "metadata": {},
   "outputs": [
    {
     "name": "stdout",
     "output_type": "stream",
     "text": [
      "y name is ja\n",
      "y name is jam\n",
      "my name is ja\n"
     ]
    }
   ],
   "source": [
    "s = 'my name is jam'\n",
    "print(s.strip('m'))\n",
    "\n",
    "s = 'my name is jam'\n",
    "print(s.lstrip('m'))\n",
    "\n",
    "s = 'my name is jam'\n",
    "print(s.rstrip('m'))"
   ]
  },
  {
   "cell_type": "code",
   "execution_count": 26,
   "metadata": {},
   "outputs": [
    {
     "name": "stdout",
     "output_type": "stream",
     "text": [
      "4\n",
      "12\n"
     ]
    }
   ],
   "source": [
    "\n",
    "s = 'my name is jam'\n",
    "print(s.find('a')) # 用find在字符串中出现的第一个指定字符的位置\n",
    "\n",
    "print(s.find('a',7)) # 给定开始和结束的index之后，字符串切片后在做查找"
   ]
  },
  {
   "cell_type": "markdown",
   "metadata": {},
   "source": [
    "### 字符串的格式化\n",
    " 通常，我们使用一个字符串作为模板，模板中会有格式符。这些格式符位2后续真实值 预留的位置，以呈现出真实值应该呈现的格式。\n",
    "\n",
    " \n"
   ]
  },
  {
   "cell_type": "code",
   "execution_count": 28,
   "metadata": {},
   "outputs": [
    {
     "name": "stdout",
     "output_type": "stream",
     "text": [
      "no data available for person with id: 00001, name: jason\n",
      "no data available for person with id: 00001, name: jason\n",
      "no data available for person with id: 00001, name: jason\n"
     ]
    }
   ],
   "source": [
    "id = '00001'\n",
    "name = 'jason'\n",
    "\n",
    "print('no data available for person with id: %s, name: %s' % (id, name))\n",
    "print('no data available for person with id: {}, name: {}'.format(id, name))\n",
    "print(f'no data available for person with id: {id}, name: {name}')\n"
   ]
  },
  {
   "cell_type": "code",
   "execution_count": null,
   "metadata": {},
   "outputs": [],
   "source": []
  }
 ],
 "metadata": {
  "kernelspec": {
   "display_name": "Python 3",
   "language": "python",
   "name": "python3"
  },
  "language_info": {
   "codemirror_mode": {
    "name": "ipython",
    "version": 3
   },
   "file_extension": ".py",
   "mimetype": "text/x-python",
   "name": "python",
   "nbconvert_exporter": "python",
   "pygments_lexer": "ipython3",
   "version": "3.11.4"
  },
  "orig_nbformat": 4
 },
 "nbformat": 4,
 "nbformat_minor": 2
}
