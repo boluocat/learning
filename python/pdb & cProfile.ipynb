{
 "cells": [
  {
   "cell_type": "markdown",
   "metadata": {},
   "source": [
    "在实际生产环境中，对代码进行调试和性能分析，是一个永远都逃不开的话题。调试和性能分析的主要场景，通常有这么三个： \n",
    "1. 一是代码本身有问题，需要我们找到 root cause 并修复； \n",
    "2. 二是代码效率有问题，比如过度浪费资源，增加 latency，因此需要我们 debug； \n",
    "3. 三是在开发新的 feature 时，一般都需要测试。"
   ]
  },
  {
   "cell_type": "markdown",
   "metadata": {},
   "source": [
    "# 用 pdb 进行代码调试\n",
    "\n",
    "## pdb 的必要性\n",
    "\n",
    "1. `print()`适合小一些的程序。\n",
    "2. IDE内置debug工具，设置断点，针对单一语言较好，对于混合代码不支持UI形式的断点调试功能，或者针对某个功能模块支持。另外，考虑到不少代码已经挪到了类似 Jupyter 的 Notebook 中，往往就要求开发者使用命令行的形式，来对代码进行调试。\n",
    "3. Python的`pdb`，是其自带的一个调试库。为Python提供交互式的源代码调试功能，是命令行版本的IDE断点调试器。\n"
   ]
  },
  {
   "cell_type": "markdown",
   "metadata": {},
   "source": [
    "## 如何使用 pdb\n",
    "\n",
    "首先需要启动pdb，加入“import pdb”和“pdb.set_trace()”这两行代码就行了。"
   ]
  },
  {
   "cell_type": "code",
   "execution_count": null,
   "metadata": {},
   "outputs": [],
   "source": [
    "import pdb\n",
    "\n",
    "a = 1\n",
    "b = 2\n",
    "pdb.set_trace() # 设置断点\n",
    "c = 3\n",
    "print(a + b + c)"
   ]
  },
  {
   "cell_type": "markdown",
   "metadata": {},
   "source": [
    "当我们运行这个程序时时，它的输出界面`e:\\git\\learning\\python\\test.py(66)<module>()`，表示程序已经运行到了“pdb.set_trace()”这行，并且暂停了下来，等待用户输入。\n",
    "\n",
    "这时，我们就可以执行，在 IDE 断点调试器中可以执行的一切操作，比如**打印，语法是`p <expression>`**：\n",
    "```python\n",
    "(Pdb) p a\n",
    "1\n",
    "(Pdb) p b\n",
    "2\n",
    "(Pdb) p c\n",
    "*** NameError: name 'c' is not defined\n",
    "```\n",
    "\n",
    "除了打印，常见的操作还有`n`，表示继续执行代码到下一行，用法如下：\n",
    "```python\n",
    "(Pdb) n\n",
    "-> print(a + b + c)\n",
    "```\n",
    "\n",
    "命令`l`，则表示列举出当前代码行上下的 11 行源代码，方便开发者熟悉当前断点周围的代码状态：\n",
    "```python\n",
    "(Pdb) l\n",
    " 62\n",
    " 63     a = 1\n",
    " 64     b = 2\n",
    " 65     pdb.set_trace()\n",
    " 66     c = 3\n",
    " 67  -> print(a + b + c)\n",
    "[EOF]\n",
    "```\n",
    "\n",
    "命令`s`，就是 step into 的意思，即进入相对应的代码内部。这时，命令行中会显示”--Call--“的字样，当你执行完内部的代码块后，命令行中则会出现”--Return--“的字样。\n",
    "```python\n",
    "6\n",
    "--Return--\n",
    "> e:\\git\\learning\\python\\test.py(67)<module>()->None\n",
    "-> print(a + b + c)\n",
    "```"
   ]
  },
  {
   "cell_type": "markdown",
   "metadata": {},
   "source": [
    " ### pdb 基本命令\n",
    " \n",
    " | 命令 |\t解释 |\n",
    " |-----|--------|\n",
    "|break 或 b|\t设置断点|\n",
    "|continue 或 c|\t继续执行程序|\n",
    "|list 或 l|\t查看当前行的代码段|\n",
    "|step 或 s|\t进入函数（进入 for 循环用 next 而不是用 step）|\n",
    "|return 或 r|\t执行代码直到从当前函数返回|\n",
    "|next 或 n|\t执行下一行|\n",
    "|up 或 u|\t返回到上个调用点（不是上一行）|\n",
    "|p x|\t打印变量x的值|\n",
    "|exit 或 q|\t中止调试，退出程序|\n",
    "|help|\t帮助|\n",
    "\n",
    "\n",
    "1. 与之相对应的命令”r“，表示 step out，即继续执行，直到当前的函数完成返回。 \n",
    "2. 命令”b [ ([filename:]lineno | function) [, condition] ]“可以用来设置断点。比方说，我想要在代码中的第 10 行，再加一个断点，那么在 pdb 模式下输入”b 11“即可。 \n",
    "3. 而”c“则表示一直执行程序，直到遇到下一个断点。"
   ]
  },
  {
   "cell_type": "code",
   "execution_count": null,
   "metadata": {},
   "outputs": [],
   "source": [
    "def func():\n",
    "    print('enter func()') \n",
    "a = 1\n",
    "b = 2 \n",
    "import pdb \n",
    "pdb.set_trace() \n",
    "func() \n",
    "c = 3 \n",
    "print(a + b + c)\n"
   ]
  },
  {
   "cell_type": "markdown",
   "metadata": {},
   "source": [
    "```pdb\n",
    "> e:\\git\\learning\\python\\test.py(79)<module>()\n",
    "-> func()\n",
    "(Pdb) s        #使用命令”s“进入了函数 func() 的内部，显示”--Call--“\n",
    "--Call--\n",
    "> e:\\git\\learning\\python\\test.py(73)func()\n",
    "-> def func():\n",
    "(Pdb) l\n",
    " 68     # c = 3\n",
    " 69     # print(a + b + c)\n",
    " 70  \n",
    " 71  \n",
    " 72  \n",
    " 73  -> def func():\n",
    " 74         print('enter func()')\n",
    " 75     a = 1\n",
    " 76     b = 2\n",
    " 77     import pdb\n",
    " 78     pdb.set_trace()\n",
    "(Pdb) n\n",
    "> e:\\git\\learning\\python\\test.py(74)func()\n",
    "-> print('enter func()')\n",
    "(Pdb) n        # 当我们执行完函数 func() 内部语句并跳出后，显示”--Return--“\n",
    "enter func()\n",
    "--Return--\n",
    "> e:\\git\\learning\\python\\test.py(74)func()->None\n",
    "-> print('enter func()')\n",
    "(Pdb) n\n",
    "> e:\\git\\learning\\python\\test.py(80)<module>()\n",
    "-> c = 3\n",
    "```"
   ]
  },
  {
   "cell_type": "markdown",
   "metadata": {},
   "source": [
    "# 用 cProfile 进行性能分析\n",
    "\n",
    "除了要对程序进行调试，性能分析也是每个开发者的必备技能。日常工作中，我们常常会遇到这样的问题：在线上，我发现产品的某个功能模块效率低下，延迟（latency）高，占用的资源多，但却不知道是哪里出了问题。 这时，对代码进行 profile 就显得异常重要了。\n",
    "\n",
    "这里所谓的 profile，是指对代码的每个部分进行动态的分析，比如准确计算出每个模块消耗的时间等。这样你就可以知道程序的瓶颈所在，从而对其进行修正或优化。当然，这并不需要你花费特别大的力气，在 Python 中，这些需求用 cProfile 就可以实现。\n",
    "\n",
    "比如我想计算斐波拉契数列，运用递归思想，我们很容易就能写出下面这样的代码："
   ]
  },
  {
   "cell_type": "code",
   "execution_count": 10,
   "metadata": {},
   "outputs": [
    {
     "data": {
      "text/plain": [
       "[0,\n",
       " 1,\n",
       " 1,\n",
       " 2,\n",
       " 3,\n",
       " 5,\n",
       " 8,\n",
       " 13,\n",
       " 21,\n",
       " 34,\n",
       " 55,\n",
       " 89,\n",
       " 144,\n",
       " 233,\n",
       " 377,\n",
       " 610,\n",
       " 987,\n",
       " 1597,\n",
       " 2584,\n",
       " 4181,\n",
       " 6765,\n",
       " 10946,\n",
       " 17711,\n",
       " 28657,\n",
       " 46368,\n",
       " 75025,\n",
       " 121393,\n",
       " 196418,\n",
       " 317811,\n",
       " 514229,\n",
       " 832040]"
      ]
     },
     "execution_count": 10,
     "metadata": {},
     "output_type": "execute_result"
    }
   ],
   "source": [
    "def fib(n):\n",
    "    if n == 0:\n",
    "        return 0\n",
    "    elif n == 1:\n",
    "        return 1\n",
    "    else:\n",
    "        return fib(n-1) + fib(n-2)\n",
    "\n",
    "def fib_seq(n):\n",
    "    res = []\n",
    "    if n > 0:\n",
    "        res.extend(fib_seq(n-1))\n",
    "    res.append(fib(n))\n",
    "    return res\n",
    "\n",
    "fib_seq(30)\n"
   ]
  },
  {
   "cell_type": "markdown",
   "metadata": {},
   "source": [
    "接下来，我想要测试一下这段代码总的效率以及各个部分的效率。那么，我就只需在开头导入 cProfile 这个模块，并且在最后运行 cProfile.run() 就可以了："
   ]
  },
  {
   "cell_type": "code",
   "execution_count": 11,
   "metadata": {},
   "outputs": [
    {
     "name": "stdout",
     "output_type": "stream",
     "text": [
      "         7049218 function calls (96 primitive calls) in 2.552 seconds\n",
      "\n",
      "   Ordered by: standard name\n",
      "\n",
      "   ncalls  tottime  percall  cumtime  percall filename:lineno(function)\n",
      "7049123/31    2.552    0.000    2.552    0.082 2976067564.py:1(fib)\n",
      "     31/1    0.000    0.000    2.552    2.552 2976067564.py:9(fib_seq)\n",
      "        1    0.000    0.000    2.552    2.552 <string>:1(<module>)\n",
      "        1    0.000    0.000    2.552    2.552 {built-in method builtins.exec}\n",
      "       31    0.000    0.000    0.000    0.000 {method 'append' of 'list' objects}\n",
      "        1    0.000    0.000    0.000    0.000 {method 'disable' of '_lsprof.Profiler' objects}\n",
      "       30    0.000    0.000    0.000    0.000 {method 'extend' of 'list' objects}\n",
      "\n",
      "\n"
     ]
    }
   ],
   "source": [
    "import cProfile\n",
    "# def fib(n)\n",
    "# def fib_seq(n):\n",
    "cProfile.run('fib_seq(30)')"
   ]
  },
  {
   "cell_type": "markdown",
   "metadata": {},
   "source": [
    "或者更简单一些，直接在运行脚本的命令中，加入选项“-m cProfile”也很方便：`python3 -m cProfile xxx.py`"
   ]
  },
  {
   "cell_type": "markdown",
   "metadata": {},
   "source": [
    "运行完毕后，我们可以看到下面这个输出界面：\n",
    "\n",
    "```\n",
    "         7049218 function calls (96 primitive calls) in 2.552 seconds\n",
    "\n",
    "   Ordered by: standard name\n",
    "\n",
    "   ncalls  tottime  percall  cumtime  percall filename:lineno(function)\n",
    "7049123/31    2.552    0.000    2.552    0.082 2976067564.py:1(fib)\n",
    "     31/1    0.000    0.000    2.552    2.552 2976067564.py:9(fib_seq)\n",
    "        1    0.000    0.000    2.552    2.552 <string>:1(<module>)\n",
    "        1    0.000    0.000    2.552    2.552 {built-in method builtins.exec}\n",
    "       31    0.000    0.000    0.000    0.000 {method 'append' of 'list' objects}\n",
    "        1    0.000    0.000    0.000    0.000 {method 'disable' of '_lsprof.Profiler' objects}\n",
    "       30    0.000    0.000    0.000    0.000 {method 'extend' of 'list' objects}\n",
    "```"
   ]
  },
  {
   "cell_type": "markdown",
   "metadata": {},
   "source": [
    "参数定义如下：\n",
    "1. ncalls，是指相应代码 / 函数被调用的次数； \n",
    "2. tottime，是指对应代码 / 函数总共执行所需要的时间（注意，并不包括它调用的其他代码 / 函数的执行时间）； \n",
    "3. percall，就是上述两者相除的结果，也就是 tottime / ncalls； \n",
    "4. cumtime，则是指对应代码 / 函数总共执行所需要的时间，这里包括了它调用的其他代码 / 函数的执行时间； \n",
    "5. percall，则是 cumtime 和 ncalls 相除的平均结果。\n",
    "\n",
    "这段程序执行效率的瓶颈，在于第二行的函数 fib()，它被调用了 700 多万次。"
   ]
  },
  {
   "cell_type": "markdown",
   "metadata": {},
   "source": [
    "有没有什么办法可以提高改进呢？答案是肯定的。通过观察，我们发现，程序中有很多对 fib() 的调用，其实是重复的，那我们就可以用字典来保存计算过的结果，防止重复。改进后的代码如下所示："
   ]
  },
  {
   "cell_type": "code",
   "execution_count": 12,
   "metadata": {},
   "outputs": [
    {
     "data": {
      "text/plain": [
       "[0,\n",
       " 1,\n",
       " 1,\n",
       " 2,\n",
       " 3,\n",
       " 5,\n",
       " 8,\n",
       " 13,\n",
       " 21,\n",
       " 34,\n",
       " 55,\n",
       " 89,\n",
       " 144,\n",
       " 233,\n",
       " 377,\n",
       " 610,\n",
       " 987,\n",
       " 1597,\n",
       " 2584,\n",
       " 4181,\n",
       " 6765,\n",
       " 10946,\n",
       " 17711,\n",
       " 28657,\n",
       " 46368,\n",
       " 75025,\n",
       " 121393,\n",
       " 196418,\n",
       " 317811,\n",
       " 514229,\n",
       " 832040]"
      ]
     },
     "execution_count": 12,
     "metadata": {},
     "output_type": "execute_result"
    }
   ],
   "source": [
    "def memoize(f):\n",
    "    memo = {}\n",
    "    def helper(x):\n",
    "        if x not in memo:            \n",
    "            memo[x] = f(x)\n",
    "        return memo[x]\n",
    "    return helper\n",
    "\n",
    "@memoize\n",
    "def fib(n):\n",
    "    if n == 0:\n",
    "        return 0\n",
    "    elif n == 1:\n",
    "        return 1\n",
    "    else:\n",
    "        return fib(n-1) + fib(n-2)\n",
    "\n",
    "\n",
    "def fib_seq(n):\n",
    "    res = []\n",
    "    if n > 0:\n",
    "        res.extend(fib_seq(n-1))\n",
    "    res.append(fib(n))\n",
    "    return res\n",
    "\n",
    "fib_seq(30)\n"
   ]
  },
  {
   "cell_type": "code",
   "execution_count": 13,
   "metadata": {},
   "outputs": [
    {
     "name": "stdout",
     "output_type": "stream",
     "text": [
      "         126 function calls (96 primitive calls) in 0.000 seconds\n",
      "\n",
      "   Ordered by: standard name\n",
      "\n",
      "   ncalls  tottime  percall  cumtime  percall filename:lineno(function)\n",
      "     31/1    0.000    0.000    0.000    0.000 2888787982.py:19(fib_seq)\n",
      "       31    0.000    0.000    0.000    0.000 2888787982.py:3(helper)\n",
      "        1    0.000    0.000    0.000    0.000 <string>:1(<module>)\n",
      "        1    0.000    0.000    0.000    0.000 {built-in method builtins.exec}\n",
      "       31    0.000    0.000    0.000    0.000 {method 'append' of 'list' objects}\n",
      "        1    0.000    0.000    0.000    0.000 {method 'disable' of '_lsprof.Profiler' objects}\n",
      "       30    0.000    0.000    0.000    0.000 {method 'extend' of 'list' objects}\n",
      "\n",
      "\n"
     ]
    }
   ],
   "source": [
    "import cProfile\n",
    "# def fib(n)\n",
    "# def fib_seq(n):\n",
    "cProfile.run('fib_seq(30)')"
   ]
  }
 ],
 "metadata": {
  "kernelspec": {
   "display_name": "Python 3",
   "language": "python",
   "name": "python3"
  },
  "language_info": {
   "codemirror_mode": {
    "name": "ipython",
    "version": 3
   },
   "file_extension": ".py",
   "mimetype": "text/x-python",
   "name": "python",
   "nbconvert_exporter": "python",
   "pygments_lexer": "ipython3",
   "version": "3.11.4"
  }
 },
 "nbformat": 4,
 "nbformat_minor": 2
}
