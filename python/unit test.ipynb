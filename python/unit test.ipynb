{
 "cells": [
  {
   "cell_type": "markdown",
   "metadata": {},
   "source": [
    "# 什么是单元测试\n",
    "\n",
    "单元测试，通俗易懂地讲，就是编写测试来验证某一个模块的功能正确性，一般会指定输入，验证输出是否符合预期。\n",
    "\n",
    "实际生产环境中，我们会对每一个模块的所有可能输入值进行测试。这样虽然显得繁琐，增加了额外的工作量，但是能够大大提高代码质量，减小 bug 发生的可能性，也更方便系统的维护。\n",
    "\n",
    "说起单元测试，就不得不提 Python unittest 库，它提供了我们需要的大多数工具。\n",
    "\n",
    "我们来看下面这个简单的测试，从代码中了解其使用方法："
   ]
  },
  {
   "cell_type": "code",
   "execution_count": 1,
   "metadata": {},
   "outputs": [
    {
     "name": "stderr",
     "output_type": "stream",
     "text": [
      ".\n",
      "----------------------------------------------------------------------\n",
      "Ran 1 test in 0.001s\n",
      "\n",
      "OK\n"
     ]
    }
   ],
   "source": [
    "import unittest\n",
    "\n",
    "# 将要被测试的排序函数\n",
    "def sort(arr):\n",
    "    l = len(arr)\n",
    "    for i in range(0, l):\n",
    "        for j in range(i + 1, l):\n",
    "            if arr[i] >= arr[j]:\n",
    "                tmp = arr[i]\n",
    "                arr[i] = arr[j]\n",
    "                arr[j] = tmp\n",
    "\n",
    "\n",
    "# 编写子类继承unittest.TestCase\n",
    "class TestSort(unittest.TestCase):\n",
    "\n",
    "   # 以test开头的函数将会被测试\n",
    "   def test_sort(self):\n",
    "        arr = [3, 4, 1, 5, 6]\n",
    "        sort(arr)\n",
    "        # assert 结果跟我们期待的一样\n",
    "        self.assertEqual(arr, [1, 3, 4, 5, 6])\n",
    "\n",
    "if __name__ == '__main__':\n",
    "    ## 如果在Jupyter下，请用如下方式运行单元测试\n",
    "    unittest.main(argv=['first-arg-is-ignored'], exit=False)\n",
    "    \n",
    "    ## 如果是命令行下运行，则：\n",
    "    ## unittest.main()\n",
    "    \n"
   ]
  },
  {
   "cell_type": "markdown",
   "metadata": {},
   "source": [
    "我们创建了一个排序函数的单元测试，来验证排序函数的功能是否正确。\n",
    "\n",
    "1. 首先，我们需要创建一个类TestSort，继承类‘unittest.TestCase’；\n",
    "2. 然后，在这个类中定义相应的测试函数 test_sort()，进行测试。注意，测试函数要以‘test’开头，而测试函数的内部，通常使用 assertEqual()、assertTrue()、assertFalse() 和 assertRaise() 等 assert 语句对结果进行验证。\n",
    "3. 最后运行时，如果是在 IPython 或者 Jupyter 环境下，请使用下面这行代码 `unittest.main(argv=['first-arg-is-ignored'], exit=False)`;如果用的是命令行，直接使用 unittest.main() 就可以了"
   ]
  },
  {
   "cell_type": "markdown",
   "metadata": {},
   "source": [
    "# 单元测试的几个技巧\n",
    "\n",
    "将会介绍 Python 单元测试的几个技巧，分别是 mock、side_effect 和 patch。这三者用法不一样，但都是一个核心思想，**即用虚假的实现，来替换掉被测试函数的一些依赖项，让我们能把更多的精力放在需要被测试的功能上**。"
   ]
  },
  {
   "cell_type": "markdown",
   "metadata": {},
   "source": [
    "## mock\n",
    "\n",
    "mock 是单元测试中最核心重要的一环。mock 的意思，便是通过一个虚假对象，来代替被测试函数或模块需要的对象。\n",
    "\n",
    "举个例子，比如你要测一个后端 API 逻辑的功能性，但一般后端 API 都依赖于数据库、文件系统、网络等。这样，你就需要通过 mock，来创建一些虚假的数据库层、文件系统层、网络层对象，以便可以简单地对核心后端逻辑单元进行测试。Python mock 则主要使用 mock 或者 MagicMock 对象。\n",
    "\n"
   ]
  },
  {
   "cell_type": "code",
   "execution_count": 2,
   "metadata": {},
   "outputs": [
    {
     "name": "stderr",
     "output_type": "stream",
     "text": [
      "..\n",
      "----------------------------------------------------------------------\n",
      "Ran 2 tests in 0.002s\n",
      "\n",
      "OK\n"
     ]
    }
   ],
   "source": [
    "import unittest\n",
    "from unittest.mock import MagicMock\n",
    "\n",
    "class A(unittest.TestCase):\n",
    "    def m1(self):\n",
    "        val = self.m2()\n",
    "        self.m3(val)\n",
    "\n",
    "    def m2(self):\n",
    "        pass\n",
    "\n",
    "    def m3(self, val):\n",
    "        pass\n",
    "\n",
    "    def test_m1(self):\n",
    "        a = A()\n",
    "        a.m2 = MagicMock(return_value=\"custom_val\")\n",
    "        a.m3 = MagicMock()\n",
    "        a.m1()\n",
    "        self.assertTrue(a.m2.called) #验证m2被call过\n",
    "        a.m3.assert_called_with(\"custom_val\") #验证m3被指定参数call过\n",
    "        \n",
    "if __name__ == '__main__':\n",
    "    unittest.main(argv=['first-arg-is-ignored'], exit=False)\n"
   ]
  },
  {
   "cell_type": "markdown",
   "metadata": {},
   "source": [
    "这段代码中，我们定义了一个类的三个方法 m1()、m2()、m3()。\n",
    "\n",
    "我们需要对 m1() 进行单元测试，但是 m1() 取决于 m2() 和 m3()。如果 m2() 和 m3() 的内部比较复杂, 你就不能只是简单地调用 m1() 函数来进行测试，可能需要解决很多依赖项的问题。\n",
    "\n",
    "这一听就让人头大了吧？但是，有了 mock 其实就很好办了。我们可以把 m2() 替换为一个返回具体数值的 value，把 m3() 替换为另一个 mock（空函数）。这样，测试 m1() 就很容易了，我们可以测试 m1() 调用 m2()，并且用 m2() 的返回值调用 m3()。\n",
    "\n",
    "可能你会疑惑，这样测试 m1() 不是基本上毫无意义吗？\n",
    "\n",
    "看起来只是象征性地测了一下逻辑呀？ 其实不然，真正工业化的代码，都是很多层模块相互逻辑调用的一个树形结构。单元测试需要测的是某个节点的逻辑功能，mock 掉相关的依赖项是非常重要的。这也是为什么会被叫做单元测试 unit test，而不是其他的 integration test、end to end test 这类。"
   ]
  },
  {
   "cell_type": "markdown",
   "metadata": {},
   "source": [
    "## Mock Side Effect\n",
    "\n",
    "mock的函数，属性是可以根据不同的输入，返回不同的数值，而不只是一个return_value。\n",
    "\n",
    "比如下面这个示例，测试的是输入参数是否为负数，输入小于 0 则输出为 1 ，否则输出为 2。这便是 Mock Side Effect 的用法。"
   ]
  },
  {
   "cell_type": "code",
   "execution_count": 8,
   "metadata": {},
   "outputs": [
    {
     "name": "stdout",
     "output_type": "stream",
     "text": [
      "1\n",
      "2\n"
     ]
    }
   ],
   "source": [
    "from unittest.mock import MagicMock\n",
    "\n",
    "def side_effect(arg):\n",
    "    if arg < 0:\n",
    "        return 1\n",
    "    else:\n",
    "        return 2\n",
    "    \n",
    "mock = MagicMock()\n",
    "mock.side_effect = side_effect\n",
    "\n",
    "print(mock(-1))\n",
    "print(mock(1))"
   ]
  },
  {
   "cell_type": "markdown",
   "metadata": {},
   "source": [
    "## patch\n",
    "\n",
    "至于 patch，给开发者提供了非常便利的函数 mock 方法。它可以应用 Python 的 decoration 模式或是 context manager 概念，快速自然地 mock 所需的函数。"
   ]
  },
  {
   "cell_type": "code",
   "execution_count": null,
   "metadata": {},
   "outputs": [],
   "source": [
    "from unittest.mock import patch\n",
    "\n",
    "@patch('sort')\n",
    "def test_sort(self, mock_sort):\n",
    "    ...\n",
    "    ...\n"
   ]
  },
  {
   "cell_type": "markdown",
   "metadata": {},
   "source": [
    "在这个 test 里面，mock_sort 替代 sort 函数本身的存在，所以，我们可以像开始提到的 mock object 一样，设置 return_value 和 side_effect。\n",
    "\n",
    "另一种 patch 的常见用法，是 mock 类的成员函数，这个技巧我们在工作中也经常会用到，比如说一个类的构造函数非常复杂，而测试其中一个成员函数并不依赖所有初始化的 object。它的用法如下："
   ]
  },
  {
   "cell_type": "code",
   "execution_count": null,
   "metadata": {},
   "outputs": [],
   "source": [
    "with patch.object(A, '__init__', lambda x: None):\n",
    "      …"
   ]
  },
  {
   "cell_type": "markdown",
   "metadata": {},
   "source": [
    "在 with 语句里面，我们通过 patch，将 A 类的构造函数 mock 为一个 do nothing 的函数，这样就可以很方便地避免一些复杂的初始化（initialization）。\n",
    "\n",
    "单元测试的核心还是 mock，mock 掉依赖项，测试相应的逻辑或算法的准确性。"
   ]
  },
  {
   "cell_type": "markdown",
   "metadata": {},
   "source": [
    "## 高质量单元测试的关键\n",
    "\n",
    "一个高质量的单元测试，应该特别关注下面两点。\n",
    "\n",
    "### Test Coverage\n",
    "\n",
    "它是衡量代码中语句被 cover 的百分比。可以说，提高代码模块的 Test Coverage，基本等同于提高代码的正确性。\n",
    "\n",
    "我们可以用 Python 的 coverage tool 来衡量 Test Coverage，并且显示每个模块为被 coverage 的语句。如果你想了解更多更详细的使用，可以点击这个链接来学习：https://coverage.readthedocs.io/en/v4.5.x/"
   ]
  },
  {
   "cell_type": "markdown",
   "metadata": {},
   "source": [
    "### 模块化\n",
    "\n",
    "高质量单元测试，不仅要求我们提高 Test Coverage，尽量让所写的测试能够 cover 每个模块中的每条语句；还要求我们从测试的角度审视 codebase，去思考怎么模块化代码，以便写出高质量的单元测试。\n",
    "\n",
    "下面这个函数，对一个数组进行处理，并返回新的数组："
   ]
  },
  {
   "cell_type": "code",
   "execution_count": null,
   "metadata": {},
   "outputs": [],
   "source": [
    "def work(arr):\n",
    "    # pre process\n",
    "    ...\n",
    "    ...\n",
    "    # sort\n",
    "    l = len(arr)\n",
    "    for i in range(0, l):\n",
    "        for j in range(i + 1, j):\n",
    "            if arr[i] >= arr[j]:\n",
    "                tmp = arr[i]\n",
    "                arr[i] = arr[j]\n",
    "                arr[j] = tmp\n",
    "    # post process\n",
    "    ...\n",
    "    ...\n",
    "    return arr\n"
   ]
  },
  {
   "cell_type": "markdown",
   "metadata": {},
   "source": [
    "这段代码的大概意思是，先有个预处理，再排序，最后再处理一下然后返回。如果现在要求你，给这个函数写个单元测试，你是不是会一筹莫展呢？\n",
    "\n",
    "毕竟，这个函数确实有点儿复杂，以至于你都不知道应该是怎样的输入，并要期望怎样的输出。这种代码写单元测试是非常痛苦的，更别谈 cover 每条语句的要求了。\n",
    "\n",
    "所以，正确的测试方法，应该是先模块化代码，写成下面的形式:"
   ]
  },
  {
   "cell_type": "code",
   "execution_count": null,
   "metadata": {},
   "outputs": [],
   "source": [
    "def preprocess(arr):\n",
    "    ...\n",
    "    ...\n",
    "    return arr\n",
    "\n",
    "def sort(arr):\n",
    "    ...\n",
    "    ...\n",
    "    return arr\n",
    "\n",
    "def postprocess(arr):\n",
    "    ...\n",
    "    return arr\n",
    "\n",
    "def work(self):\n",
    "    arr = preprocess(arr)\n",
    "    arr = sort(arr)\n",
    "    arr = postprocess(arr)\n",
    "    return arr\n"
   ]
  },
  {
   "cell_type": "markdown",
   "metadata": {},
   "source": [
    "接着再进行相应的测试，测试三个子函数的功能正确性；然后通过 mock 子函数，调用 work() 函数，来验证三个子函数被 call 过。"
   ]
  },
  {
   "cell_type": "code",
   "execution_count": null,
   "metadata": {},
   "outputs": [],
   "source": [
    "from unittest.mock import patch\n",
    "\n",
    "def test_preprocess(self):\n",
    "    ...\n",
    "    \n",
    "def test_sort(self):\n",
    "    ...\n",
    "    \n",
    "def test_postprocess(self):\n",
    "    ...\n",
    "    \n",
    "@patch('%s.preprocess')\n",
    "@patch('%s.sort')\n",
    "@patch('%s.postprocess')\n",
    "def test_work(self,mock_post_process, mock_sort, mock_preprocess):\n",
    "    work()\n",
    "    self.assertTrue(mock_post_process.called)\n",
    "    self.assertTrue(mock_sort.called)\n",
    "    self.assertTrue(mock_preprocess.called)\n"
   ]
  },
  {
   "cell_type": "markdown",
   "metadata": {},
   "source": [
    "这样一来，通过重构代码就可以使单元测试更加全面、精确，并且让整体架构、函数设计都美观了不少。"
   ]
  }
 ],
 "metadata": {
  "kernelspec": {
   "display_name": "Python 3",
   "language": "python",
   "name": "python3"
  },
  "language_info": {
   "codemirror_mode": {
    "name": "ipython",
    "version": 3
   },
   "file_extension": ".py",
   "mimetype": "text/x-python",
   "name": "python",
   "nbconvert_exporter": "python",
   "pygments_lexer": "ipython3",
   "version": "3.11.4"
  }
 },
 "nbformat": 4,
 "nbformat_minor": 2
}
