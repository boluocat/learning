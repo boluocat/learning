{
 "cells": [
  {
   "cell_type": "markdown",
   "metadata": {},
   "source": [
    "# container\n",
    "容器是存储某些元素的统称，最大的特性是判断一个元素是否在容器内。\n",
    "\n",
    "可以使用`in`,`not in`进行判断。 `str`,`list`,`tuple`,`set`,`dict`都可以通过这样的方式进行判断。所以他们也称为容器。\n",
    "\n",
    "之所以能实现这样的判断，是由于内部实现了`__contains__`方法。"
   ]
  },
  {
   "cell_type": "code",
   "execution_count": 1,
   "metadata": {},
   "outputs": [
    {
     "name": "stdout",
     "output_type": "stream",
     "text": [
      "True\n",
      "True\n",
      "False\n"
     ]
    }
   ],
   "source": [
    "class A:\n",
    "    \n",
    "    def __init__(self):\n",
    "        self.items = [1,2]\n",
    "        \n",
    "    def __contains__(self,item):\n",
    "        return item in self.items\n",
    "    \n",
    "a = A()\n",
    "\n",
    "print(1 in a)\n",
    "print(2 in a )\n",
    "print(3 in a )"
   ]
  },
  {
   "cell_type": "markdown",
   "metadata": {},
   "source": [
    "另外，使用容器时，还可以迭代进行容器内的元素输出。基于迭代器\n",
    "# 迭代器\n",
    "\n",
    "如果一个类实现了迭代协议，也可以被称之为迭代器。\n",
    "\n",
    "在 Python 中，实现迭代器协议就是实现以下 2 个方法：\n",
    "\n",
    "`__iter__`：这个方法返回对象本身，即 self\n",
    "\n",
    "`__next__`：这个方法每次返回迭代的值，在没有可迭代元素时，抛出 StopIteration 异常\n",
    "\n",
    "\n"
   ]
  },
  {
   "cell_type": "code",
   "execution_count": 2,
   "metadata": {},
   "outputs": [
    {
     "name": "stdout",
     "output_type": "stream",
     "text": [
      "__iter__\n",
      "0\n",
      "1\n",
      "2\n"
     ]
    }
   ],
   "source": [
    "class A:\n",
    "    \"\"\"A 实现了迭代器协议 它的实例就是一个迭代器\"\"\"\n",
    "    def __init__(self, n):\n",
    "        self.idx = 0\n",
    "        self.n = n\n",
    "\n",
    "    def __iter__(self):\n",
    "        print('__iter__')\n",
    "        return self\n",
    "\n",
    "    def __next__(self):\n",
    "        if self.idx < self.n:\n",
    "            val = self.idx\n",
    "            self.idx += 1\n",
    "            return val\n",
    "        else:\n",
    "            raise StopIteration()\n",
    "\n",
    "# 迭代元素\n",
    "a = A(3)\n",
    "for i in a:\n",
    "    print(i)"
   ]
  },
  {
   "cell_type": "markdown",
   "metadata": {},
   "source": [
    "在这个例子中，我们定义了一个类 A，它内部实现了 __iter__ 和 __next__ 方法。\n",
    "\n",
    "其中 __iter__ 方法返回了 self，__next__ 方法实现了具体的迭代细节。\n",
    "\n",
    "然后执行 a = A(3)，在执行 for i in a 时，我们看到调用了 __iter__ 方法，然后依次输出 __next__ 中的元素。\n",
    "\n",
    "其实在执行 for 循环时，实际执行流程是这样的：\n",
    "\n",
    "for i in a 相当于执行 iter(a)\n",
    "每次迭代时会执行一次 __next__ 方法，返回一个值\n",
    "如果没有可迭代的数据，抛出 StopIteration 异常，for 会停止迭代\n",
    "但是请注意，当我们迭代完 for i in a 时，如果再次执行迭代，将不会有任何数据输出。\n",
    "\n",
    "如果我们想每次执行都能迭代元素，只需每次迭代一个新对象即可："
   ]
  },
  {
   "cell_type": "markdown",
   "metadata": {},
   "source": [
    "# 可迭代对象\n",
    "凡是可以返回一个「迭代器」的对象，都可以称之为「可迭代对象」。\n",
    "\n",
    "换句话说：__iter__ 方法返回一个迭代器，那么这个对象就是「可迭代对象」。\n",
    "\n",
    "听起来不太好理解，我们来看一个例子。\n"
   ]
  },
  {
   "cell_type": "code",
   "execution_count": 3,
   "metadata": {},
   "outputs": [
    {
     "name": "stdout",
     "output_type": "stream",
     "text": [
      "0\n",
      "1\n",
      "2\n",
      "<__main__.A object at 0x0000019E8DB17990>\n",
      "0\n",
      "1\n",
      "2\n",
      "<__main__.A object at 0x0000019E8DB17790>\n"
     ]
    }
   ],
   "source": [
    "class A:\n",
    "    # A是迭代器 因为它实现了 __iter__ 和__next__方法\n",
    "    def __init__(self, n):\n",
    "        self.idx = 0\n",
    "        self.n = n\n",
    "\n",
    "    def __iter__(self):\n",
    "        return self\n",
    "\n",
    "    def __next__(self):\n",
    "        if self.idx < self.n:\n",
    "            val = self.idx\n",
    "            self.idx += 1\n",
    "            return val\n",
    "        else:\n",
    "            raise StopIteration()\n",
    "\n",
    "class B:\n",
    "    # B不是迭代器 但B的实例是一个可迭代对象\n",
    "    # 因为它只实现了 __iter__\n",
    "    # __iter__返回了A的实例 迭代细节交给了A\n",
    "    def __init__(self, n):\n",
    "        self.n = n\n",
    "\n",
    "    def __iter__(self):\n",
    "        return A(self.n)\n",
    "\n",
    "# a是一个迭代器 同时也是一个可迭代对象\n",
    "a = A(3)\n",
    "for i in a:\n",
    "    print(i)\n",
    "# <__main__.A object at 0x10eb95550>\n",
    "print(iter(a))\n",
    "\n",
    "# b不是迭代器 但它是可迭代对象 因为它把迭代细节交给了A\n",
    "b = B(3)\n",
    "for i in b:\n",
    "    print(i)\n",
    "# <__main__.A object at 0x10eb95450>\n",
    "print(iter(b))"
   ]
  },
  {
   "cell_type": "markdown",
   "metadata": {},
   "source": [
    "仔细看这个例子，我们定义了 2 个类 A 和 B，A 实现了 __iter__ 和 __next__ 方法。\n",
    "\n",
    "而 B 只实现了 __iter__，并没有实现 __next__，而且它的 __iter__ 返回值是一个 A 的实例。\n",
    "\n",
    "对于 A 来说：\n",
    "\n",
    "A 是一个「迭代器」，因为其实现了迭代器协议 __iter__ 和 __next__\n",
    "同时 A 的 __iter__ 方法返回了实例本身 self，也就是说返回了一个迭代器，所以 A 的实例 a 也是一个「可迭代对象」\n",
    "对于B 来说：\n",
    "\n",
    "B 不是一个「迭代器」，因为它只了实现 __iter__，没有实现 __next__\n",
    "由于 B 的 __iter__ 返回了 A 的实例，而 A 是一个迭代器，所以 B 的实例 b 是一个「可迭代对象」，换句话说，B 把迭代细节交给了 A\n",
    "总之，一个类的迭代细节，是可以交给另一个类的，就像这个例子的 B 这样，所以 B 的实例只能是「可迭代对象」，而不是「迭代器」。\n",
    "\n",
    "其实，这种情况我们见的非常多，我们使用最多的 list、tuple、set、dict 类型，都只是「可迭代对象」，但不是「迭代器」，因为它们都是把迭代细节交给了另外一个类，这个类才是真正的迭代器。\n",
    "\n",
    "```python\n",
    "\n",
    "# list 是可迭代对象\n",
    ">>> l = [1, 2]\n",
    "# list 的迭代器是 list_iterator\n",
    ">>> iter(l)\n",
    "<list_iterator object at 0x1009c1c18>\n",
    "# 执行的是 list_iterator 的 __next__\n",
    ">>> iter(l).__next__()\n",
    ">>> 1\n",
    "\n",
    "# tuple 是可迭代对象\n",
    ">>> t = ('a', 'b')\n",
    "# tuple 的迭代器是 tuple_iterator\n",
    ">>> iter(t)\n",
    "<tuple_iterator object at 0x1009c1b00>\n",
    "# 执行的是 tuple_iterator 的 __next__\n",
    ">>> iter(t).__next__()\n",
    ">>> a\n",
    "\n",
    "# set 是可迭代对象\n",
    ">>> s = {1, 2}\n",
    "# set 的迭代器是 set_iterator\n",
    ">>> iter(s)\n",
    "<set_iterator object at 0x1009c70d8>\n",
    "# 执行的是 set_iterator 的 __next__\n",
    ">>> iter(s).__next__()\n",
    ">>> 1\n",
    "\n",
    "# dict 是可迭代对象\n",
    ">>> d = {'a': 1, 'b': 2}\n",
    "# dict 的迭代器是 dict_keyiterator\n",
    ">>> iter(d)\n",
    "# 执行的是 dict_keyiterator 的 __next__\n",
    "<dict_keyiterator object at 0x1009c34f8>\n",
    ">>> iter(d).next()\n",
    ">>> a\n",
    "```\n",
    "\n",
    "由此我们可以得出一个结论：**迭代器一定是个可迭代对象，但可迭代对象不一定是迭代器。**"
   ]
  },
  {
   "cell_type": "markdown",
   "metadata": {},
   "source": []
  },
  {
   "cell_type": "markdown",
   "metadata": {},
   "source": [
    "# 生成器\n",
    "\n",
    "「生成器」是一个特殊的「迭代器」，并且它也是一个「可迭代对象」。\n",
    "\n",
    "有 2 种方式可以创建一个生成器：\n",
    "\n",
    ".. 生成器表达式\n",
    "\n",
    ".. 生成器函数\n"
   ]
  },
  {
   "cell_type": "code",
   "execution_count": 4,
   "metadata": {},
   "outputs": [
    {
     "data": {
      "text/plain": [
       "<generator object <genexpr> at 0x0000019E8DA39CB0>"
      ]
     },
     "execution_count": 4,
     "metadata": {},
     "output_type": "execute_result"
    }
   ],
   "source": [
    "g = (i for i in range(5))\n",
    "g"
   ]
  },
  {
   "cell_type": "code",
   "execution_count": 6,
   "metadata": {},
   "outputs": [
    {
     "data": {
      "text/plain": [
       "<generator object <genexpr> at 0x0000019E8DA39CB0>"
      ]
     },
     "execution_count": 6,
     "metadata": {},
     "output_type": "execute_result"
    }
   ],
   "source": [
    "iter(g)"
   ]
  },
  {
   "cell_type": "code",
   "execution_count": 5,
   "metadata": {},
   "outputs": [
    {
     "name": "stdout",
     "output_type": "stream",
     "text": [
      "0\n",
      "1\n",
      "2\n",
      "3\n",
      "4\n"
     ]
    }
   ],
   "source": [
    "for i in g:\n",
    "    print(i)"
   ]
  },
  {
   "cell_type": "markdown",
   "metadata": {},
   "source": [
    "我们使用 g = (i for i in range(5)) 创建了一个生成器，它的类型是 generator，同时调用 iter(g) 可以得知 __iter__ 返回的是实例本身，即生成器也是一个迭代器，并且它也是一个可迭代对象。"
   ]
  },
  {
   "cell_type": "code",
   "execution_count": 7,
   "metadata": {},
   "outputs": [
    {
     "name": "stdout",
     "output_type": "stream",
     "text": [
      "<generator object gen at 0x0000019E8DB206C0>\n",
      "<class 'generator'>\n",
      "0\n",
      "1\n",
      "2\n",
      "3\n",
      "4\n"
     ]
    }
   ],
   "source": [
    "def gen(n):\n",
    "    for i in range(n):\n",
    "        yield i\n",
    "\n",
    "# 创建一个生成器\n",
    "g = gen(5)\n",
    "# <generator object gen at 0x10bb46f50>\n",
    "print(g)\n",
    "# <type 'generator'>\n",
    "print(type(g))\n",
    "\n",
    "# 迭代这个生成器\n",
    "for i in g:\n",
    "    print(i)"
   ]
  },
  {
   "cell_type": "markdown",
   "metadata": {},
   "source": [
    "我们在函数中使用 yield 关键字。其实，包含 yield 关键字的函数，不再是一个普通的函数，而返回的是一个生成器。它在功能上与上面的例子一样，可以迭代生成器中的所有数据。\n",
    "\n",
    "通常情况下，我们习惯在函数内使用 yield 的方式来创建一个生成器。\n"
   ]
  },
  {
   "cell_type": "markdown",
   "metadata": {},
   "source": [
    "# 使用生成器迭代数据相比于普通方式迭代数据，有什么优势呢\n",
    "\n",
    "使用 yield 的函数与使用 return 的函数，在执行时的差别在于：\n",
    "\n",
    "1. 包含 return 的方法会以 return 关键字为最终返回，每次执行都返回相同的结果\n",
    "2. 包含 yield 的方法一般用于迭代，每次执行时遇到 yield 就返回 yield 后的结果，但内部会保留上次执行的状态，下次继续迭代时，会继续执行 yield 之后的代码，直到再次遇到 yield 后返回\n",
    "\n",
    "当我们想得到一个集合时，如果使用普通方法，只能一次性创建出这个集合，然后 return 返回："
   ]
  },
  {
   "cell_type": "code",
   "execution_count": 11,
   "metadata": {},
   "outputs": [
    {
     "data": {
      "text/plain": [
       "[0, 1, 2, 3, 4, 5, 6, 7, 8, 9]"
      ]
     },
     "execution_count": 11,
     "metadata": {},
     "output_type": "execute_result"
    }
   ],
   "source": [
    "def gen_data(n):\n",
    "    # 创建一个集合\n",
    "    return [i for i in range(n)]\n",
    "\n",
    "gen_data(10)"
   ]
  },
  {
   "cell_type": "markdown",
   "metadata": {},
   "source": [
    "但如果此时这个集合中的数据非常多，我们就需要在内存中一次性申请非常大的内存空间来存储。\n",
    "\n",
    "如果我们使用 yield 生成器的方式迭代这个集合，就能解决内存占用大的问题："
   ]
  },
  {
   "cell_type": "code",
   "execution_count": 15,
   "metadata": {},
   "outputs": [
    {
     "data": {
      "text/plain": [
       "<generator object gen_data at 0x0000019E8DA3B920>"
      ]
     },
     "execution_count": 15,
     "metadata": {},
     "output_type": "execute_result"
    }
   ],
   "source": [
    "def gen_data(n):\n",
    "    for i in range(n):\n",
    "        # 每次只返回一个元素\n",
    "        yield i\n",
    "        \n",
    "gen_data(10)"
   ]
  },
  {
   "cell_type": "code",
   "execution_count": 22,
   "metadata": {},
   "outputs": [],
   "source": [
    "import pandas as pd\n",
    "from openpyxl import Workbook\n",
    "from openpyxl.utils.dataframe import dataframe_to_rows\n",
    "from openpyxl import load_workbook\n",
    "\n",
    "data1 = [\n",
    "    ['Name', 'Category', 'Amount'],\n",
    "    ['John', 'Food', 100],\n",
    "    ['Jane', 'Food', 150],\n",
    "    ['John', 'Clothes', 200],\n",
    "    ['Jane', 'Clothes', 250],\n",
    "    ['John', 'Food', 120],\n",
    "]\n",
    "\n",
    "data = {'Column1': [1, 2, 3], 'Column2': ['A', 'B', 'C']}\n",
    "df = pd.DataFrame(data)\n",
    "\n",
    "file = r'C:/Users/Lenovo/Desktop/test1.xlsx'\n",
    "\n",
    "# Create an openpyxl Workbook object\n",
    "workbook = Workbook()\n",
    "\n",
    "# Get the active sheet\n",
    "worksheet1 = workbook.active\n",
    "# Write data to the sheet\n",
    "for row in dataframe_to_rows(df, index=False, header=True):\n",
    "    worksheet1.append(row)\n",
    "\n",
    "# Add a new sheet in the file\n",
    "worksheet2 = workbook.create_sheet('data')\n",
    "for row_data in data1:\n",
    "    worksheet2.append(row_data)\n",
    "\n",
    "# worksheet3 = workbook.create_sheet('this is newest')\n",
    "# for row in dataframe_to_rows(df, index=False, header=True):\n",
    "#     worksheet3.append(row)\n",
    "    \n",
    "# Save the workbook\n",
    "workbook.save(file)"
   ]
  },
  {
   "cell_type": "code",
   "execution_count": 2,
   "metadata": {},
   "outputs": [],
   "source": [
    "from openpyxl.utils.dataframe import dataframe_to_rows\n",
    "from openpyxl import load_workbook\n",
    "\n",
    "data1 = [\n",
    "    ['Name', 'Category', 'Amount'],\n",
    "    ['John', 'Food', 100],\n",
    "    ['Jane', 'Food', 150],\n",
    "    ['John', 'Clothes', 200],\n",
    "    ['Jane', 'Clothes', 250],\n",
    "    ['John', 'Food', 120],\n",
    "]\n",
    "\n",
    "# data = {'Column1': [1, 2, 3], 'Column2': ['A', 'B', 'C']}\n",
    "# df = pd.DataFrame(data)\n",
    "\n",
    "file = r'C:/Users/Lenovo/Desktop/test1.xlsx'\n",
    "\n",
    "# Create an openpyxl Workbook object\n",
    "workbook = load_workbook(file)\n",
    "\n",
    "# Get the active sheet\n",
    "# worksheet1 = workbook[\"summary\"]\n",
    "# pivot = worksheet1._pivots[0]\n",
    "# pivot.cache.refreshOnLoad = True\n",
    "\n",
    "# worksheet1 = workbook.active\n",
    "# # Write data to the sheet\n",
    "# for row in dataframe_to_rows(df, index=False, header=True):\n",
    "#     worksheet1.append(row)\n",
    "\n",
    "# Add a new sheet in the file\n",
    "worksheet2 = workbook.create_sheet('data')\n",
    "for row_data in data1:\n",
    "    worksheet2.append(row_data)\n",
    "\n",
    "# worksheet3 = workbook.create_sheet('this is newest')\n",
    "# for row in dataframe_to_rows(df, index=False, header=True):\n",
    "#     worksheet3.append(row)\n",
    "    \n",
    "# Save the workbook\n",
    "workbook.save(file)"
   ]
  },
  {
   "cell_type": "markdown",
   "metadata": {},
   "source": []
  },
  {
   "cell_type": "code",
   "execution_count": 48,
   "metadata": {},
   "outputs": [
    {
     "ename": "BadZipFile",
     "evalue": "File is not a zip file",
     "output_type": "error",
     "traceback": [
      "\u001b[1;31m---------------------------------------------------------------------------\u001b[0m",
      "\u001b[1;31mBadZipFile\u001b[0m                                Traceback (most recent call last)",
      "Cell \u001b[1;32mIn[48], line 24\u001b[0m\n\u001b[0;32m     21\u001b[0m df \u001b[38;5;241m=\u001b[39m pd\u001b[38;5;241m.\u001b[39mconcat([data1,data2\u001b[38;5;241m.\u001b[39mloc[\u001b[38;5;241m1\u001b[39m:,]], axis \u001b[38;5;241m=\u001b[39m \u001b[38;5;241m0\u001b[39m)\n\u001b[0;32m     23\u001b[0m file \u001b[38;5;241m=\u001b[39m \u001b[38;5;124mr\u001b[39m\u001b[38;5;124m'\u001b[39m\u001b[38;5;124mC:/Users/Lenovo/Desktop/test.xlsx\u001b[39m\u001b[38;5;124m'\u001b[39m\n\u001b[1;32m---> 24\u001b[0m df \u001b[38;5;241m=\u001b[39m \u001b[43mpd\u001b[49m\u001b[38;5;241;43m.\u001b[39;49m\u001b[43mread_excel\u001b[49m\u001b[43m(\u001b[49m\u001b[43mfile\u001b[49m\u001b[43m,\u001b[49m\u001b[43m \u001b[49m\u001b[43msheet_name\u001b[49m\u001b[38;5;241;43m=\u001b[39;49m\u001b[38;5;124;43m'\u001b[39;49m\u001b[38;5;124;43mdata\u001b[39;49m\u001b[38;5;124;43m'\u001b[39;49m\u001b[43m)\u001b[49m\n\u001b[0;32m     27\u001b[0m writer \u001b[38;5;241m=\u001b[39m pd\u001b[38;5;241m.\u001b[39mExcelWriter(file, engine\u001b[38;5;241m=\u001b[39m\u001b[38;5;124m'\u001b[39m\u001b[38;5;124mxlsxwriter\u001b[39m\u001b[38;5;124m'\u001b[39m)\n\u001b[0;32m     28\u001b[0m writer\u001b[38;5;241m.\u001b[39mbook \u001b[38;5;241m=\u001b[39m load_workbook(file)\n",
      "File \u001b[1;32mg:\\Python311\\Lib\\site-packages\\pandas\\io\\excel\\_base.py:478\u001b[0m, in \u001b[0;36mread_excel\u001b[1;34m(io, sheet_name, header, names, index_col, usecols, dtype, engine, converters, true_values, false_values, skiprows, nrows, na_values, keep_default_na, na_filter, verbose, parse_dates, date_parser, date_format, thousands, decimal, comment, skipfooter, storage_options, dtype_backend)\u001b[0m\n\u001b[0;32m    476\u001b[0m \u001b[38;5;28;01mif\u001b[39;00m \u001b[38;5;129;01mnot\u001b[39;00m \u001b[38;5;28misinstance\u001b[39m(io, ExcelFile):\n\u001b[0;32m    477\u001b[0m     should_close \u001b[38;5;241m=\u001b[39m \u001b[38;5;28;01mTrue\u001b[39;00m\n\u001b[1;32m--> 478\u001b[0m     io \u001b[38;5;241m=\u001b[39m \u001b[43mExcelFile\u001b[49m\u001b[43m(\u001b[49m\u001b[43mio\u001b[49m\u001b[43m,\u001b[49m\u001b[43m \u001b[49m\u001b[43mstorage_options\u001b[49m\u001b[38;5;241;43m=\u001b[39;49m\u001b[43mstorage_options\u001b[49m\u001b[43m,\u001b[49m\u001b[43m \u001b[49m\u001b[43mengine\u001b[49m\u001b[38;5;241;43m=\u001b[39;49m\u001b[43mengine\u001b[49m\u001b[43m)\u001b[49m\n\u001b[0;32m    479\u001b[0m \u001b[38;5;28;01melif\u001b[39;00m engine \u001b[38;5;129;01mand\u001b[39;00m engine \u001b[38;5;241m!=\u001b[39m io\u001b[38;5;241m.\u001b[39mengine:\n\u001b[0;32m    480\u001b[0m     \u001b[38;5;28;01mraise\u001b[39;00m \u001b[38;5;167;01mValueError\u001b[39;00m(\n\u001b[0;32m    481\u001b[0m         \u001b[38;5;124m\"\u001b[39m\u001b[38;5;124mEngine should not be specified when passing \u001b[39m\u001b[38;5;124m\"\u001b[39m\n\u001b[0;32m    482\u001b[0m         \u001b[38;5;124m\"\u001b[39m\u001b[38;5;124man ExcelFile - ExcelFile already has the engine set\u001b[39m\u001b[38;5;124m\"\u001b[39m\n\u001b[0;32m    483\u001b[0m     )\n",
      "File \u001b[1;32mg:\\Python311\\Lib\\site-packages\\pandas\\io\\excel\\_base.py:1496\u001b[0m, in \u001b[0;36mExcelFile.__init__\u001b[1;34m(self, path_or_buffer, engine, storage_options)\u001b[0m\n\u001b[0;32m   1494\u001b[0m     ext \u001b[38;5;241m=\u001b[39m \u001b[38;5;124m\"\u001b[39m\u001b[38;5;124mxls\u001b[39m\u001b[38;5;124m\"\u001b[39m\n\u001b[0;32m   1495\u001b[0m \u001b[38;5;28;01melse\u001b[39;00m:\n\u001b[1;32m-> 1496\u001b[0m     ext \u001b[38;5;241m=\u001b[39m \u001b[43minspect_excel_format\u001b[49m\u001b[43m(\u001b[49m\n\u001b[0;32m   1497\u001b[0m \u001b[43m        \u001b[49m\u001b[43mcontent_or_path\u001b[49m\u001b[38;5;241;43m=\u001b[39;49m\u001b[43mpath_or_buffer\u001b[49m\u001b[43m,\u001b[49m\u001b[43m \u001b[49m\u001b[43mstorage_options\u001b[49m\u001b[38;5;241;43m=\u001b[39;49m\u001b[43mstorage_options\u001b[49m\n\u001b[0;32m   1498\u001b[0m \u001b[43m    \u001b[49m\u001b[43m)\u001b[49m\n\u001b[0;32m   1499\u001b[0m     \u001b[38;5;28;01mif\u001b[39;00m ext \u001b[38;5;129;01mis\u001b[39;00m \u001b[38;5;28;01mNone\u001b[39;00m:\n\u001b[0;32m   1500\u001b[0m         \u001b[38;5;28;01mraise\u001b[39;00m \u001b[38;5;167;01mValueError\u001b[39;00m(\n\u001b[0;32m   1501\u001b[0m             \u001b[38;5;124m\"\u001b[39m\u001b[38;5;124mExcel file format cannot be determined, you must specify \u001b[39m\u001b[38;5;124m\"\u001b[39m\n\u001b[0;32m   1502\u001b[0m             \u001b[38;5;124m\"\u001b[39m\u001b[38;5;124man engine manually.\u001b[39m\u001b[38;5;124m\"\u001b[39m\n\u001b[0;32m   1503\u001b[0m         )\n",
      "File \u001b[1;32mg:\\Python311\\Lib\\site-packages\\pandas\\io\\excel\\_base.py:1388\u001b[0m, in \u001b[0;36minspect_excel_format\u001b[1;34m(content_or_path, storage_options)\u001b[0m\n\u001b[0;32m   1385\u001b[0m \u001b[38;5;28;01melif\u001b[39;00m \u001b[38;5;129;01mnot\u001b[39;00m peek\u001b[38;5;241m.\u001b[39mstartswith(ZIP_SIGNATURE):\n\u001b[0;32m   1386\u001b[0m     \u001b[38;5;28;01mreturn\u001b[39;00m \u001b[38;5;28;01mNone\u001b[39;00m\n\u001b[1;32m-> 1388\u001b[0m \u001b[38;5;28;01mwith\u001b[39;00m \u001b[43mzipfile\u001b[49m\u001b[38;5;241;43m.\u001b[39;49m\u001b[43mZipFile\u001b[49m\u001b[43m(\u001b[49m\u001b[43mstream\u001b[49m\u001b[43m)\u001b[49m \u001b[38;5;28;01mas\u001b[39;00m zf:\n\u001b[0;32m   1389\u001b[0m     \u001b[38;5;66;03m# Workaround for some third party files that use forward slashes and\u001b[39;00m\n\u001b[0;32m   1390\u001b[0m     \u001b[38;5;66;03m# lower case names.\u001b[39;00m\n\u001b[0;32m   1391\u001b[0m     component_names \u001b[38;5;241m=\u001b[39m [\n\u001b[0;32m   1392\u001b[0m         name\u001b[38;5;241m.\u001b[39mreplace(\u001b[38;5;124m\"\u001b[39m\u001b[38;5;130;01m\\\\\u001b[39;00m\u001b[38;5;124m\"\u001b[39m, \u001b[38;5;124m\"\u001b[39m\u001b[38;5;124m/\u001b[39m\u001b[38;5;124m\"\u001b[39m)\u001b[38;5;241m.\u001b[39mlower() \u001b[38;5;28;01mfor\u001b[39;00m name \u001b[38;5;129;01min\u001b[39;00m zf\u001b[38;5;241m.\u001b[39mnamelist()\n\u001b[0;32m   1393\u001b[0m     ]\n\u001b[0;32m   1395\u001b[0m \u001b[38;5;28;01mif\u001b[39;00m \u001b[38;5;124m\"\u001b[39m\u001b[38;5;124mxl/workbook.xml\u001b[39m\u001b[38;5;124m\"\u001b[39m \u001b[38;5;129;01min\u001b[39;00m component_names:\n",
      "File \u001b[1;32mg:\\Python311\\Lib\\zipfile.py:1302\u001b[0m, in \u001b[0;36mZipFile.__init__\u001b[1;34m(self, file, mode, compression, allowZip64, compresslevel, strict_timestamps, metadata_encoding)\u001b[0m\n\u001b[0;32m   1300\u001b[0m \u001b[38;5;28;01mtry\u001b[39;00m:\n\u001b[0;32m   1301\u001b[0m     \u001b[38;5;28;01mif\u001b[39;00m mode \u001b[38;5;241m==\u001b[39m \u001b[38;5;124m'\u001b[39m\u001b[38;5;124mr\u001b[39m\u001b[38;5;124m'\u001b[39m:\n\u001b[1;32m-> 1302\u001b[0m         \u001b[38;5;28;43mself\u001b[39;49m\u001b[38;5;241;43m.\u001b[39;49m\u001b[43m_RealGetContents\u001b[49m\u001b[43m(\u001b[49m\u001b[43m)\u001b[49m\n\u001b[0;32m   1303\u001b[0m     \u001b[38;5;28;01melif\u001b[39;00m mode \u001b[38;5;129;01min\u001b[39;00m (\u001b[38;5;124m'\u001b[39m\u001b[38;5;124mw\u001b[39m\u001b[38;5;124m'\u001b[39m, \u001b[38;5;124m'\u001b[39m\u001b[38;5;124mx\u001b[39m\u001b[38;5;124m'\u001b[39m):\n\u001b[0;32m   1304\u001b[0m         \u001b[38;5;66;03m# set the modified flag so central directory gets written\u001b[39;00m\n\u001b[0;32m   1305\u001b[0m         \u001b[38;5;66;03m# even if no files are added to the archive\u001b[39;00m\n\u001b[0;32m   1306\u001b[0m         \u001b[38;5;28mself\u001b[39m\u001b[38;5;241m.\u001b[39m_didModify \u001b[38;5;241m=\u001b[39m \u001b[38;5;28;01mTrue\u001b[39;00m\n",
      "File \u001b[1;32mg:\\Python311\\Lib\\zipfile.py:1369\u001b[0m, in \u001b[0;36mZipFile._RealGetContents\u001b[1;34m(self)\u001b[0m\n\u001b[0;32m   1367\u001b[0m     \u001b[38;5;28;01mraise\u001b[39;00m BadZipFile(\u001b[38;5;124m\"\u001b[39m\u001b[38;5;124mFile is not a zip file\u001b[39m\u001b[38;5;124m\"\u001b[39m)\n\u001b[0;32m   1368\u001b[0m \u001b[38;5;28;01mif\u001b[39;00m \u001b[38;5;129;01mnot\u001b[39;00m endrec:\n\u001b[1;32m-> 1369\u001b[0m     \u001b[38;5;28;01mraise\u001b[39;00m BadZipFile(\u001b[38;5;124m\"\u001b[39m\u001b[38;5;124mFile is not a zip file\u001b[39m\u001b[38;5;124m\"\u001b[39m)\n\u001b[0;32m   1370\u001b[0m \u001b[38;5;28;01mif\u001b[39;00m \u001b[38;5;28mself\u001b[39m\u001b[38;5;241m.\u001b[39mdebug \u001b[38;5;241m>\u001b[39m \u001b[38;5;241m1\u001b[39m:\n\u001b[0;32m   1371\u001b[0m     \u001b[38;5;28mprint\u001b[39m(endrec)\n",
      "\u001b[1;31mBadZipFile\u001b[0m: File is not a zip file"
     ]
    }
   ],
   "source": [
    "from openpyxl import load_workbook\n",
    "import pandas as pd\n",
    "\n",
    "data1 = pd.DataFrame([\n",
    "    ['Name', 'Category', 'Amount'],\n",
    "    ['John', 'Food', 100],\n",
    "    ['Jane', 'Food', 150],\n",
    "    ['John', 'Clothes', 200],\n",
    "    ['Jane', 'Clothes', 250],\n",
    "    ['John', 'Food', 120],\n",
    "])\n",
    "\n",
    "data2 = pd.DataFrame([    ['Name', 'Category', 'Amount'],\n",
    "    ['Sohn', 'Food', 100],\n",
    "    ['Sane', 'Food', 150],\n",
    "    ['Sohn', 'Clothes', 200],\n",
    "    ['Sane', 'Clothes', 250],\n",
    "    ['Sohn', 'Food', 120]])\n",
    "\n",
    "\n",
    "df = pd.concat([data1,data2.loc[1:,]], axis = 0)\n",
    "\n",
    "file = r'C:/Users/Lenovo/Desktop/test.xlsx'\n",
    "df = pd.read_excel(file, sheet_name='data')\n",
    "\n",
    "\n",
    "writer = pd.ExcelWriter(file, engine='xlsxwriter')\n",
    "writer.book = load_workbook(file)\n",
    "df.to_excel(writer, sheet_name= 'data',index = False)\n",
    "writer.close()\n"
   ]
  },
  {
   "cell_type": "code",
   "execution_count": 49,
   "metadata": {},
   "outputs": [
    {
     "ename": "IndexError",
     "evalue": "At least one sheet must be visible",
     "output_type": "error",
     "traceback": [
      "\u001b[1;31m---------------------------------------------------------------------------\u001b[0m",
      "\u001b[1;31mIndexError\u001b[0m                                Traceback (most recent call last)",
      "Cell \u001b[1;32mIn[49], line 1\u001b[0m\n\u001b[1;32m----> 1\u001b[0m \u001b[43mwriter\u001b[49m\u001b[38;5;241;43m.\u001b[39;49m\u001b[43mclose\u001b[49m\u001b[43m(\u001b[49m\u001b[43m)\u001b[49m\n",
      "File \u001b[1;32mg:\\Python311\\Lib\\site-packages\\pandas\\io\\excel\\_base.py:1326\u001b[0m, in \u001b[0;36mExcelWriter.close\u001b[1;34m(self)\u001b[0m\n\u001b[0;32m   1324\u001b[0m \u001b[38;5;28;01mdef\u001b[39;00m \u001b[38;5;21mclose\u001b[39m(\u001b[38;5;28mself\u001b[39m) \u001b[38;5;241m-\u001b[39m\u001b[38;5;241m>\u001b[39m \u001b[38;5;28;01mNone\u001b[39;00m:\n\u001b[0;32m   1325\u001b[0m \u001b[38;5;250m    \u001b[39m\u001b[38;5;124;03m\"\"\"synonym for save, to make it more file-like\"\"\"\u001b[39;00m\n\u001b[1;32m-> 1326\u001b[0m     \u001b[38;5;28;43mself\u001b[39;49m\u001b[38;5;241;43m.\u001b[39;49m\u001b[43m_save\u001b[49m\u001b[43m(\u001b[49m\u001b[43m)\u001b[49m\n\u001b[0;32m   1327\u001b[0m     \u001b[38;5;28mself\u001b[39m\u001b[38;5;241m.\u001b[39m_handles\u001b[38;5;241m.\u001b[39mclose()\n",
      "File \u001b[1;32mg:\\Python311\\Lib\\site-packages\\pandas\\io\\excel\\_openpyxl.py:109\u001b[0m, in \u001b[0;36mOpenpyxlWriter._save\u001b[1;34m(self)\u001b[0m\n\u001b[0;32m    105\u001b[0m \u001b[38;5;28;01mdef\u001b[39;00m \u001b[38;5;21m_save\u001b[39m(\u001b[38;5;28mself\u001b[39m) \u001b[38;5;241m-\u001b[39m\u001b[38;5;241m>\u001b[39m \u001b[38;5;28;01mNone\u001b[39;00m:\n\u001b[0;32m    106\u001b[0m \u001b[38;5;250m    \u001b[39m\u001b[38;5;124;03m\"\"\"\u001b[39;00m\n\u001b[0;32m    107\u001b[0m \u001b[38;5;124;03m    Save workbook to disk.\u001b[39;00m\n\u001b[0;32m    108\u001b[0m \u001b[38;5;124;03m    \"\"\"\u001b[39;00m\n\u001b[1;32m--> 109\u001b[0m     \u001b[38;5;28;43mself\u001b[39;49m\u001b[38;5;241;43m.\u001b[39;49m\u001b[43mbook\u001b[49m\u001b[38;5;241;43m.\u001b[39;49m\u001b[43msave\u001b[49m\u001b[43m(\u001b[49m\u001b[38;5;28;43mself\u001b[39;49m\u001b[38;5;241;43m.\u001b[39;49m\u001b[43m_handles\u001b[49m\u001b[38;5;241;43m.\u001b[39;49m\u001b[43mhandle\u001b[49m\u001b[43m)\u001b[49m\n\u001b[0;32m    110\u001b[0m     \u001b[38;5;28;01mif\u001b[39;00m \u001b[38;5;124m\"\u001b[39m\u001b[38;5;124mr+\u001b[39m\u001b[38;5;124m\"\u001b[39m \u001b[38;5;129;01min\u001b[39;00m \u001b[38;5;28mself\u001b[39m\u001b[38;5;241m.\u001b[39m_mode \u001b[38;5;129;01mand\u001b[39;00m \u001b[38;5;129;01mnot\u001b[39;00m \u001b[38;5;28misinstance\u001b[39m(\u001b[38;5;28mself\u001b[39m\u001b[38;5;241m.\u001b[39m_handles\u001b[38;5;241m.\u001b[39mhandle, mmap\u001b[38;5;241m.\u001b[39mmmap):\n\u001b[0;32m    111\u001b[0m         \u001b[38;5;66;03m# truncate file to the written content\u001b[39;00m\n\u001b[0;32m    112\u001b[0m         \u001b[38;5;28mself\u001b[39m\u001b[38;5;241m.\u001b[39m_handles\u001b[38;5;241m.\u001b[39mhandle\u001b[38;5;241m.\u001b[39mtruncate()\n",
      "File \u001b[1;32mg:\\Python311\\Lib\\site-packages\\openpyxl\\workbook\\workbook.py:386\u001b[0m, in \u001b[0;36mWorkbook.save\u001b[1;34m(self, filename)\u001b[0m\n\u001b[0;32m    384\u001b[0m \u001b[38;5;28;01mif\u001b[39;00m \u001b[38;5;28mself\u001b[39m\u001b[38;5;241m.\u001b[39mwrite_only \u001b[38;5;129;01mand\u001b[39;00m \u001b[38;5;129;01mnot\u001b[39;00m \u001b[38;5;28mself\u001b[39m\u001b[38;5;241m.\u001b[39mworksheets:\n\u001b[0;32m    385\u001b[0m     \u001b[38;5;28mself\u001b[39m\u001b[38;5;241m.\u001b[39mcreate_sheet()\n\u001b[1;32m--> 386\u001b[0m \u001b[43msave_workbook\u001b[49m\u001b[43m(\u001b[49m\u001b[38;5;28;43mself\u001b[39;49m\u001b[43m,\u001b[49m\u001b[43m \u001b[49m\u001b[43mfilename\u001b[49m\u001b[43m)\u001b[49m\n",
      "File \u001b[1;32mg:\\Python311\\Lib\\site-packages\\openpyxl\\writer\\excel.py:294\u001b[0m, in \u001b[0;36msave_workbook\u001b[1;34m(workbook, filename)\u001b[0m\n\u001b[0;32m    292\u001b[0m workbook\u001b[38;5;241m.\u001b[39mproperties\u001b[38;5;241m.\u001b[39mmodified \u001b[38;5;241m=\u001b[39m datetime\u001b[38;5;241m.\u001b[39mdatetime\u001b[38;5;241m.\u001b[39mutcnow()\n\u001b[0;32m    293\u001b[0m writer \u001b[38;5;241m=\u001b[39m ExcelWriter(workbook, archive)\n\u001b[1;32m--> 294\u001b[0m \u001b[43mwriter\u001b[49m\u001b[38;5;241;43m.\u001b[39;49m\u001b[43msave\u001b[49m\u001b[43m(\u001b[49m\u001b[43m)\u001b[49m\n\u001b[0;32m    295\u001b[0m \u001b[38;5;28;01mreturn\u001b[39;00m \u001b[38;5;28;01mTrue\u001b[39;00m\n",
      "File \u001b[1;32mg:\\Python311\\Lib\\site-packages\\openpyxl\\writer\\excel.py:275\u001b[0m, in \u001b[0;36mExcelWriter.save\u001b[1;34m(self)\u001b[0m\n\u001b[0;32m    273\u001b[0m \u001b[38;5;28;01mdef\u001b[39;00m \u001b[38;5;21msave\u001b[39m(\u001b[38;5;28mself\u001b[39m):\n\u001b[0;32m    274\u001b[0m \u001b[38;5;250m    \u001b[39m\u001b[38;5;124;03m\"\"\"Write data into the archive.\"\"\"\u001b[39;00m\n\u001b[1;32m--> 275\u001b[0m     \u001b[38;5;28;43mself\u001b[39;49m\u001b[38;5;241;43m.\u001b[39;49m\u001b[43mwrite_data\u001b[49m\u001b[43m(\u001b[49m\u001b[43m)\u001b[49m\n\u001b[0;32m    276\u001b[0m     \u001b[38;5;28mself\u001b[39m\u001b[38;5;241m.\u001b[39m_archive\u001b[38;5;241m.\u001b[39mclose()\n",
      "File \u001b[1;32mg:\\Python311\\Lib\\site-packages\\openpyxl\\writer\\excel.py:89\u001b[0m, in \u001b[0;36mExcelWriter.write_data\u001b[1;34m(self)\u001b[0m\n\u001b[0;32m     87\u001b[0m writer \u001b[38;5;241m=\u001b[39m WorkbookWriter(\u001b[38;5;28mself\u001b[39m\u001b[38;5;241m.\u001b[39mworkbook)\n\u001b[0;32m     88\u001b[0m archive\u001b[38;5;241m.\u001b[39mwritestr(ARC_ROOT_RELS, writer\u001b[38;5;241m.\u001b[39mwrite_root_rels())\n\u001b[1;32m---> 89\u001b[0m archive\u001b[38;5;241m.\u001b[39mwritestr(ARC_WORKBOOK, \u001b[43mwriter\u001b[49m\u001b[38;5;241;43m.\u001b[39;49m\u001b[43mwrite\u001b[49m\u001b[43m(\u001b[49m\u001b[43m)\u001b[49m)\n\u001b[0;32m     90\u001b[0m archive\u001b[38;5;241m.\u001b[39mwritestr(ARC_WORKBOOK_RELS, writer\u001b[38;5;241m.\u001b[39mwrite_rels())\n\u001b[0;32m     92\u001b[0m \u001b[38;5;28mself\u001b[39m\u001b[38;5;241m.\u001b[39m_merge_vba()\n",
      "File \u001b[1;32mg:\\Python311\\Lib\\site-packages\\openpyxl\\workbook\\_writer.py:150\u001b[0m, in \u001b[0;36mWorkbookWriter.write\u001b[1;34m(self)\u001b[0m\n\u001b[0;32m    148\u001b[0m \u001b[38;5;28mself\u001b[39m\u001b[38;5;241m.\u001b[39mwrite_names()\n\u001b[0;32m    149\u001b[0m \u001b[38;5;28mself\u001b[39m\u001b[38;5;241m.\u001b[39mwrite_pivots()\n\u001b[1;32m--> 150\u001b[0m \u001b[38;5;28;43mself\u001b[39;49m\u001b[38;5;241;43m.\u001b[39;49m\u001b[43mwrite_views\u001b[49m\u001b[43m(\u001b[49m\u001b[43m)\u001b[49m\n\u001b[0;32m    151\u001b[0m \u001b[38;5;28mself\u001b[39m\u001b[38;5;241m.\u001b[39mwrite_refs()\n\u001b[0;32m    153\u001b[0m \u001b[38;5;28;01mreturn\u001b[39;00m tostring(\u001b[38;5;28mself\u001b[39m\u001b[38;5;241m.\u001b[39mpackage\u001b[38;5;241m.\u001b[39mto_tree())\n",
      "File \u001b[1;32mg:\\Python311\\Lib\\site-packages\\openpyxl\\workbook\\_writer.py:137\u001b[0m, in \u001b[0;36mWorkbookWriter.write_views\u001b[1;34m(self)\u001b[0m\n\u001b[0;32m    136\u001b[0m \u001b[38;5;28;01mdef\u001b[39;00m \u001b[38;5;21mwrite_views\u001b[39m(\u001b[38;5;28mself\u001b[39m):\n\u001b[1;32m--> 137\u001b[0m     active \u001b[38;5;241m=\u001b[39m \u001b[43mget_active_sheet\u001b[49m\u001b[43m(\u001b[49m\u001b[38;5;28;43mself\u001b[39;49m\u001b[38;5;241;43m.\u001b[39;49m\u001b[43mwb\u001b[49m\u001b[43m)\u001b[49m\n\u001b[0;32m    138\u001b[0m     \u001b[38;5;28;01mif\u001b[39;00m \u001b[38;5;28mself\u001b[39m\u001b[38;5;241m.\u001b[39mwb\u001b[38;5;241m.\u001b[39mviews:\n\u001b[0;32m    139\u001b[0m         \u001b[38;5;28mself\u001b[39m\u001b[38;5;241m.\u001b[39mwb\u001b[38;5;241m.\u001b[39mviews[\u001b[38;5;241m0\u001b[39m]\u001b[38;5;241m.\u001b[39mactiveTab \u001b[38;5;241m=\u001b[39m active\n",
      "File \u001b[1;32mg:\\Python311\\Lib\\site-packages\\openpyxl\\workbook\\_writer.py:35\u001b[0m, in \u001b[0;36mget_active_sheet\u001b[1;34m(wb)\u001b[0m\n\u001b[0;32m     33\u001b[0m visible_sheets \u001b[38;5;241m=\u001b[39m [idx \u001b[38;5;28;01mfor\u001b[39;00m idx, sheet \u001b[38;5;129;01min\u001b[39;00m \u001b[38;5;28menumerate\u001b[39m(wb\u001b[38;5;241m.\u001b[39m_sheets) \u001b[38;5;28;01mif\u001b[39;00m sheet\u001b[38;5;241m.\u001b[39msheet_state \u001b[38;5;241m==\u001b[39m \u001b[38;5;124m\"\u001b[39m\u001b[38;5;124mvisible\u001b[39m\u001b[38;5;124m\"\u001b[39m]\n\u001b[0;32m     34\u001b[0m \u001b[38;5;28;01mif\u001b[39;00m \u001b[38;5;129;01mnot\u001b[39;00m visible_sheets:\n\u001b[1;32m---> 35\u001b[0m     \u001b[38;5;28;01mraise\u001b[39;00m \u001b[38;5;167;01mIndexError\u001b[39;00m(\u001b[38;5;124m\"\u001b[39m\u001b[38;5;124mAt least one sheet must be visible\u001b[39m\u001b[38;5;124m\"\u001b[39m)\n\u001b[0;32m     37\u001b[0m idx \u001b[38;5;241m=\u001b[39m wb\u001b[38;5;241m.\u001b[39m_active_sheet_index\n\u001b[0;32m     38\u001b[0m sheet \u001b[38;5;241m=\u001b[39m wb\u001b[38;5;241m.\u001b[39mactive\n",
      "\u001b[1;31mIndexError\u001b[0m: At least one sheet must be visible"
     ]
    }
   ],
   "source": [
    "writer.close()"
   ]
  },
  {
   "cell_type": "code",
   "execution_count": null,
   "metadata": {},
   "outputs": [],
   "source": []
  },
  {
   "cell_type": "code",
   "execution_count": 7,
   "metadata": {},
   "outputs": [
    {
     "data": {
      "text/plain": [
       "'  a b c   , '"
      ]
     },
     "execution_count": 7,
     "metadata": {},
     "output_type": "execute_result"
    }
   ],
   "source": [
    "a = '  a b c   , '\n",
    "a_new = a.rstrip(\",\")\n",
    "a_new"
   ]
  },
  {
   "cell_type": "code",
   "execution_count": 8,
   "metadata": {},
   "outputs": [
    {
     "data": {
      "text/plain": [
       "False"
      ]
     },
     "execution_count": 8,
     "metadata": {},
     "output_type": "execute_result"
    }
   ],
   "source": [
    "\"12mn\".isascii()"
   ]
  },
  {
   "cell_type": "code",
   "execution_count": 9,
   "metadata": {},
   "outputs": [
    {
     "data": {
      "text/plain": [
       "True"
      ]
     },
     "execution_count": 9,
     "metadata": {},
     "output_type": "execute_result"
    }
   ],
   "source": [
    "\"nmn\".islower()"
   ]
  },
  {
   "cell_type": "code",
   "execution_count": 13,
   "metadata": {},
   "outputs": [
    {
     "data": {
      "text/plain": [
       "{'shirt': ['red', 'blue', 'white'],\n",
       " 'jeans': ['white'],\n",
       " 'scarf': ['yellow'],\n",
       " 'socks': ['black', 'brown']}"
      ]
     },
     "execution_count": 13,
     "metadata": {},
     "output_type": "execute_result"
    }
   ],
   "source": [
    "wardrobe = {'shirt': ['red', 'blue', 'white'], 'jeans': ['blue', 'black']}\n",
    "new_items = {'jeans': ['white'], 'scarf': ['yellow'], 'socks': ['black', 'brown']}\n",
    "wardrobe.update(new_items)\n",
    "wardrobe"
   ]
  },
  {
   "cell_type": "code",
   "execution_count": 14,
   "metadata": {},
   "outputs": [
    {
     "name": "stdout",
     "output_type": "stream",
     "text": [
      "[1, 2, 4, 6, 7]\n"
     ]
    }
   ],
   "source": [
    "numbers = [ 4, 6, 2, 7, 1 ]\n",
    "\n",
    "numbers.sort()\n",
    "\n",
    "print(numbers)\n"
   ]
  },
  {
   "cell_type": "code",
   "execution_count": 2,
   "metadata": {},
   "outputs": [
    {
     "data": {
      "text/plain": [
       "'e:\\\\git\\\\learning\\\\python\\\\test.html'"
      ]
     },
     "execution_count": 2,
     "metadata": {},
     "output_type": "execute_result"
    }
   ],
   "source": [
    "from pyecharts import options as opts\n",
    "from pyecharts.charts import Tree\n",
    "\n",
    "data = [\n",
    "    {\n",
    "        \"name\": \"python变量\",\n",
    "        \"children\": [\n",
    "            {\"name\": \"字符串\",\n",
    "            \"children\": [{\"name\": \"实例1：'abc'\"}, {\"name\": \"实例2：'123abc'\"}]},\n",
    "            {\"name\": \"列表\",\n",
    "            \"children\": [{\"name\": \"实例1：[a,b,c]\"}, {\"name\": \"实例2：'[1,2,3]\"}]},\n",
    "            {\"name\": \"字典\",\n",
    "            \"children\": [{\"name\": \"实例1：{1:'a','2':'b'}}\"}, {\"name\": \"实例2：'{a:[1,2,3],'2':(1,2))}\"}]},\n",
    "            {\"name\": \"元组\",\n",
    "             \"children\": [{\"name\": \"实例1：(1,2,3)}\"}, {\"name\": \"实例2：(a,b,c)\"}]}\n",
    "]}\n",
    "]\n",
    "\n",
    "c = (\n",
    "    Tree()\n",
    "    .add(\"\", data)\n",
    ")\n",
    "# c.render_notebook()\n",
    "c.render('test.html')\n"
   ]
  },
  {
   "cell_type": "code",
   "execution_count": 2,
   "metadata": {},
   "outputs": [
    {
     "data": {
      "text/plain": [
       "[('bananas', 7), ('apples', 5), ('oranges', 3), ('pears', 2)]"
      ]
     },
     "execution_count": 2,
     "metadata": {},
     "output_type": "execute_result"
    }
   ],
   "source": [
    "fruit = {\"oranges\": 3, \"apples\": 5, \"bananas\": 7, \"pears\": 2}\n",
    "\n",
    "import operator\n",
    "\n",
    "sorted(fruit.items(), key = operator.itemgetter(1), reverse = True)"
   ]
  },
  {
   "cell_type": "code",
   "execution_count": 5,
   "metadata": {},
   "outputs": [
    {
     "data": {
      "text/plain": [
       "[('pears', 2), ('oranges', 3), ('bananas', 7), ('apples', 5)]"
      ]
     },
     "execution_count": 5,
     "metadata": {},
     "output_type": "execute_result"
    }
   ],
   "source": [
    "sorted(fruit.items(), key = operator.itemgetter(0), reverse = True)"
   ]
  },
  {
   "cell_type": "code",
   "execution_count": 18,
   "metadata": {},
   "outputs": [],
   "source": [
    "a = {'cat':[1,0]}\n",
    "\n"
   ]
  },
  {
   "cell_type": "code",
   "execution_count": 19,
   "metadata": {},
   "outputs": [
    {
     "data": {
      "text/plain": [
       "{'cat': [2, 0], 'dog': [1, 0]}"
      ]
     },
     "execution_count": 19,
     "metadata": {},
     "output_type": "execute_result"
    }
   ],
   "source": [
    "a['dog'] = a.get('dog',[0,0])\n",
    "a['cat'] = a.get('cat',[0,0])     \n",
    "a['cat'] = [a.get('cat',[0,0])[0]+1,a['cat'][1]]\n",
    "a['dog'] = [a.get('dog',[0,0])[0]+1,a['dog'][1]]\n",
    "a"
   ]
  },
  {
   "cell_type": "code",
   "execution_count": 20,
   "metadata": {},
   "outputs": [],
   "source": [
    "error_count = {'Timeout while retrieving information':15,'The ticket was modified while updating':3,'Connection to DB failed':5,'Tried to add information to a closed ticket':10,'Permission denied while closing ticket':22,'Ticket doesn\\'t exist':9}\n",
    "\n",
    "with open('error_message.csv','w') as f:\n",
    "  f.write('Error,Count\\n')\n",
    "  for key in error_count.keys():\n",
    "    f.write(f'{key},{error_count[key]}\\n')\n"
   ]
  },
  {
   "cell_type": "code",
   "execution_count": 22,
   "metadata": {},
   "outputs": [],
   "source": [
    "per_user_count = {'mdouglas':[1,4],'noel':[5,4],'breee':[5,4],'ac':[13,9],'blossom':[9,8],'rr.robinson':[8,0],'oren':[9,2]}\n",
    "\n",
    "with open('user_statistics.csv','w') as f:\n",
    "    f.write(f'Username,INFO,ERROR\\n')\n",
    "    for key in per_user_count.keys():\n",
    "        f.write(f'{key},{per_user_count[key][0]},{per_user_count[key][1]}\\n')\n",
    "        "
   ]
  },
  {
   "cell_type": "code",
   "execution_count": 23,
   "metadata": {},
   "outputs": [],
   "source": [
    "a = [('Timeout while retrieving information', 15), ('Connection to DB failed', 13), ('Tried to add information to closed ticket', 12), ('Permission denied while closing ticket', 10), ('The ticket was modified while updating', 9), (\"Ticket doesn't exist\", 7)]\n",
    "\n",
    "\n",
    "with open('test.csv','w') as f:\n",
    "    f.write('Error,Count\\n')\n",
    "    for i in a:\n",
    "        f.write(f'{i[0]},{i[1]}\\n')"
   ]
  },
  {
   "cell_type": "code",
   "execution_count": null,
   "metadata": {},
   "outputs": [],
   "source": [
    "b = [('ac', [2, 2]), ('ahmed.miller', [2, 4]), ('blossom', [2, 6]), ('bpacheco', [0, 2]), ('breee', [1, 5]), ('britanni', [1, 1]), ('enim.non', [2, 3]), ('flavia', [0, 5]), ('jackowens', [2, 4]), ('kirknixon', [2, 1]), ('mai.hendrix', [0, 3]), ('mcintosh', [4, 3]), ('mdouglas', [2, 3]), ('montanap', [0, 4]), ('noel', [6, 3]), ('nonummy', [2, 3]), ('oren', [2, 7]), ('rr.robinson', [2, 1]), ('sri', [2, 2]), ('xlg', [0, 4])]\n",
    "\n",
    "\n"
   ]
  }
 ],
 "metadata": {
  "kernelspec": {
   "display_name": "Python 3",
   "language": "python",
   "name": "python3"
  },
  "language_info": {
   "codemirror_mode": {
    "name": "ipython",
    "version": 3
   },
   "file_extension": ".py",
   "mimetype": "text/x-python",
   "name": "python",
   "nbconvert_exporter": "python",
   "pygments_lexer": "ipython3",
   "version": "3.11.4"
  }
 },
 "nbformat": 4,
 "nbformat_minor": 2
}
