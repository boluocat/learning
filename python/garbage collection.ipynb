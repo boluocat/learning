{
 "cells": [
  {
   "cell_type": "markdown",
   "metadata": {},
   "source": [
    "Python 程序在运行的时候，需要在内存中开辟出一块空间，用于存放运行时产生的临时变量；计算完成后，再将结果输出到永久性存储器中。如果数据量过大，内存空间管理不善就很容易出现 OOM（out of memory），俗称爆内存，程序可能被操作系统中止。\n",
    "\n",
    "而对于服务器，这种设计为永不中断的系统来说，内存管理则显得更为重要，不然很容易引发内存泄漏。什么是内存泄漏呢？ \n",
    "1. 这里的泄漏，并不是说你的内存出现了信息安全问题，被恶意程序利用了，而是指程序本身没有设计好，导致程序未能释放已不再使用的内存。 \n",
    "2. 内存泄漏也不是指你的内存在物理上消失了，而是意味着代码在分配了某段内存后，因为设计错误，失去了对这段内存的控制，从而造成了内存的浪费。\n"
   ]
  },
  {
   "cell_type": "markdown",
   "metadata": {},
   "source": [
    "# Python 是通过什么机制来回收这些空间的呢\n",
    "\n",
    "## 计数引用\n",
    "\n",
    "由于Python中一切皆为对象，所以我们定义的变量，本质上都是对象的一个指针。\n",
    "\n",
    "当对象被引用的时候，对象的引用计数不为。反之，如果一个对象的引用计数为0，则表示该对象不会被调用，即需要被回收。\n"
   ]
  },
  {
   "cell_type": "code",
   "execution_count": 1,
   "metadata": {},
   "outputs": [],
   "source": [
    "import os\n",
    "import psutil\n",
    "\n",
    "# 显示当前 python 程序占用的内存大小\n",
    "def show_memory_info(hint):\n",
    "    pid = os.getpid()\n",
    "    p = psutil.Process(pid)\n",
    "    \n",
    "    info = p.memory_full_info()\n",
    "    memory = info.uss / 1024. / 1024\n",
    "    print('{} memory used: {} MB'.format(hint, memory))\n"
   ]
  },
  {
   "cell_type": "code",
   "execution_count": 2,
   "metadata": {},
   "outputs": [
    {
     "name": "stdout",
     "output_type": "stream",
     "text": [
      "initial memory used: 54.51953125 MB\n",
      "after a created memory used: 439.125 MB\n",
      "finished memory used: 56.80859375 MB\n"
     ]
    }
   ],
   "source": [
    "def func():\n",
    "    show_memory_info('initial')\n",
    "    a = [i for i in range(10000000)]\n",
    "    show_memory_info('after a created')\n",
    "\n",
    "func()\n",
    "show_memory_info('finished')\n"
   ]
  },
  {
   "cell_type": "markdown",
   "metadata": {},
   "source": [
    "通过这个示例，你可以看到，调用函数 func()，在列表 a 被创建之后，内存占用迅速增加到了 443 MB：而在函数调用结束后，内存则返回正常。\n",
    "\n",
    "这是因为，**函数内部声明的列表 a 是局部变量，在函数返回后，局部变量的引用会注销掉**；此时，列表 a 所指代对象的引用数为 0，Python 便会执行垃圾回收，因此之前占用的大量内存就又回来了。"
   ]
  },
  {
   "cell_type": "code",
   "execution_count": 3,
   "metadata": {},
   "outputs": [
    {
     "name": "stdout",
     "output_type": "stream",
     "text": [
      "initial memory used: 56.85546875 MB\n",
      "after a created memory used: 439.1875 MB\n",
      "finished memory used: 439.1875 MB\n"
     ]
    }
   ],
   "source": [
    "def func():\n",
    "    show_memory_info('initial')\n",
    "    global a\n",
    "    a = [i for i in range(10000000)]\n",
    "    show_memory_info('after a created')\n",
    "    \n",
    "    \n",
    "func()\n",
    "show_memory_info('finished')\n"
   ]
  },
  {
   "cell_type": "markdown",
   "metadata": {},
   "source": [
    "新的这段代码中，**global a 表示将 a 声明为全局变量。那么，即使函数返回后，列表的引用依然存在，于是对象就不会被垃圾回收掉，依然占用大量内存**。\n",
    "\n",
    "同样，如果我们**把生成的列表返回，然后在主程序中接收，那么引用依然存在，垃圾回收就不会被触发**，大量内存仍然被占用着："
   ]
  },
  {
   "cell_type": "code",
   "execution_count": 2,
   "metadata": {},
   "outputs": [
    {
     "name": "stdout",
     "output_type": "stream",
     "text": [
      "initial memory used: 54.3359375 MB\n",
      "after a created memory used: 438.91796875 MB\n",
      "finished memory used: 438.91796875 MB\n"
     ]
    }
   ],
   "source": [
    "def func():\n",
    "    show_memory_info('initial')\n",
    "    a = [i for i in range(10000000)]\n",
    "    show_memory_info('after a created')\n",
    "    return a\n",
    "\n",
    "a = func()\n",
    "show_memory_info('finished')"
   ]
  },
  {
   "cell_type": "markdown",
   "metadata": {},
   "source": [
    "## Python 内部的引用计数机制\n",
    "\n",
    "`sys.getrefcount()`这个函数，可以查看一个变量的引用次数。`getrefcount` 本身也会引入一次计数。\n",
    "\n",
    "另一个要注意的是，在函数调用发生的时候，会产生额外的两次引用，一次来自函数栈，另一个是函数参数。"
   ]
  },
  {
   "cell_type": "code",
   "execution_count": 3,
   "metadata": {},
   "outputs": [
    {
     "name": "stdout",
     "output_type": "stream",
     "text": [
      "2\n",
      "3\n",
      "2\n"
     ]
    }
   ],
   "source": [
    "import sys\n",
    "\n",
    "\n",
    "# 两次引用，一次来自 a，一次来自 getrefcount\n",
    "a = []\n",
    "print(sys.getrefcount(a))\n",
    "\n",
    "\n",
    "\n",
    "# 四次引用，a，python 的函数调用栈，函数参数，和 getrefcount\n",
    "def func(a):\n",
    "    print(sys.getrefcount(a))\n",
    "\n",
    "func(a)\n",
    "\n",
    "\n",
    "\n",
    "# 两次引用，一次来自 a，一次来自 getrefcount，函数 func 调用已经不存在\n",
    "print(sys.getrefcount(a))\n"
   ]
  },
  {
   "cell_type": "markdown",
   "metadata": {},
   "source": [
    "下面的代码，需要稍微注意一下，a、b、c、d、e、f、g 这些变量全部指代的是同一个对象，而 `sys.getrefcount()` 函数并不是统计一个指针，而是要统计一个对象被引用的次数，所以最后一共会有八次引用。       "
   ]
  },
  {
   "cell_type": "code",
   "execution_count": 4,
   "metadata": {},
   "outputs": [
    {
     "name": "stdout",
     "output_type": "stream",
     "text": [
      "2\n",
      "3\n",
      "8\n"
     ]
    }
   ],
   "source": [
    "import sys\n",
    "\n",
    "a = []\n",
    "\n",
    "print(sys.getrefcount(a)) # 两次, a, getrefcount\n",
    "\n",
    "b = a\n",
    "\n",
    "print(sys.getrefcount(a)) # 三次, a, b, getrefcount\n",
    "\n",
    "c = b\n",
    "d = b\n",
    "e = c\n",
    "f = e\n",
    "g = d\n",
    "\n",
    "print(sys.getrefcount(a)) # 八次, a, b, c, d, e, f, g ,getrefcount\n",
    "\n"
   ]
  },
  {
   "cell_type": "markdown",
   "metadata": {},
   "source": [
    "理解引用这个概念后，引用释放是一种非常自然和清晰的思想。相比 C 语言里，你需要使用 free 去手动释放内存，Python 的垃圾回收在这里可以说是省心省力了。 \n",
    "\n",
    "不过，如果我偏偏想手动释放内存，应该怎么做呢？ \n",
    "\n",
    "方法同样很简单。你只需要先调用 `del a` 来删除对象的引用；然后强制调用 `gc.collect()`，清除没有引用的对象，即可手动启动垃圾回收。"
   ]
  },
  {
   "cell_type": "code",
   "execution_count": 5,
   "metadata": {},
   "outputs": [
    {
     "name": "stdout",
     "output_type": "stream",
     "text": [
      "initial memory used: 56.5546875 MB\n",
      "after a created memory used: 439.85546875 MB\n",
      "finish memory used: 57.5390625 MB\n"
     ]
    },
    {
     "ename": "NameError",
     "evalue": "name 'a' is not defined",
     "output_type": "error",
     "traceback": [
      "\u001b[1;31m---------------------------------------------------------------------------\u001b[0m",
      "\u001b[1;31mNameError\u001b[0m                                 Traceback (most recent call last)",
      "Cell \u001b[1;32mIn[5], line 13\u001b[0m\n\u001b[0;32m     10\u001b[0m gc\u001b[38;5;241m.\u001b[39mcollect()\n\u001b[0;32m     12\u001b[0m show_memory_info(\u001b[38;5;124m'\u001b[39m\u001b[38;5;124mfinish\u001b[39m\u001b[38;5;124m'\u001b[39m)\n\u001b[1;32m---> 13\u001b[0m \u001b[38;5;28mprint\u001b[39m(\u001b[43ma\u001b[49m)\n",
      "\u001b[1;31mNameError\u001b[0m: name 'a' is not defined"
     ]
    }
   ],
   "source": [
    "import gc\n",
    "\n",
    "show_memory_info('initial')\n",
    "\n",
    "a = [i for i in range(10000000)]\n",
    "\n",
    "show_memory_info('after a created')\n",
    "\n",
    "del a\n",
    "gc.collect()\n",
    "\n",
    "show_memory_info('finish')\n",
    "print(a)\n"
   ]
  },
  {
   "cell_type": "markdown",
   "metadata": {},
   "source": [
    "## 循环引用\n",
    "\n",
    "如果有两个对象，它们互相引用，并且不再被别的对象所引用，那么它们应该被垃圾回收吗？\n",
    "\n",
    "这里，a 和 b 互相引用，并且，作为局部变量，在函数 func 调用结束后，a 和 b 这两个指针从程序意义上已经不存在了。但是，很明显，依然有内存占用！为什么呢？因为互相引用，导致它们的引用数都不为 0。"
   ]
  },
  {
   "cell_type": "code",
   "execution_count": 6,
   "metadata": {},
   "outputs": [
    {
     "name": "stdout",
     "output_type": "stream",
     "text": [
      "initial memory used: 61.2109375 MB\n",
      "after a, b created memory used: 831.81640625 MB\n",
      "finished memory used: 831.81640625 MB\n"
     ]
    }
   ],
   "source": [
    "def func():\n",
    "    show_memory_info('initial')\n",
    "    a = [i for i in range(10000000)]\n",
    "    b = [i for i in range(10000000)]\n",
    "    show_memory_info('after a, b created')\n",
    "    a.append(b)\n",
    "    b.append(a)\n",
    "\n",
    "func()\n",
    "show_memory_info('finished')\n"
   ]
  },
  {
   "cell_type": "markdown",
   "metadata": {},
   "source": [
    "\n",
    "试想一下，如果这段代码出现在生产环境中，哪怕 a 和 b 一开始占用的空间不是很大，但经过长时间运行后，Python 所占用的内存一定会变得越来越大，最终撑爆服务器，后果不堪设想。\n",
    "\n",
    "当然，有人可能会说，互相引用还是很容易被发现的呀，问题不大。可是，更隐蔽的情况是出现一个引用环，在工程代码比较复杂的情况下，引用环还真不一定能被轻易发现。 那么，我们应该怎么做呢？"
   ]
  },
  {
   "cell_type": "code",
   "execution_count": 7,
   "metadata": {},
   "outputs": [
    {
     "name": "stdout",
     "output_type": "stream",
     "text": [
      "initial memory used: 831.82421875 MB\n",
      "after a, b created memory used: 1599.56640625 MB\n",
      "finished memory used: 67.26953125 MB\n"
     ]
    }
   ],
   "source": [
    "import gc\n",
    "\n",
    "def func():\n",
    "    show_memory_info('initial')\n",
    "    a = [i for i in range(10000000)]\n",
    "    b = [i for i in range(10000000)]\n",
    "    show_memory_info('after a, b created')\n",
    "    a.append(b)\n",
    "    b.append(a)\n",
    "\n",
    "func()\n",
    "gc.collect()\n",
    "show_memory_info('finished')\n"
   ]
  },
  {
   "cell_type": "markdown",
   "metadata": {},
   "source": [
    "Python 使用标记清除（mark-sweep）算法和分代收集（generational），来启用针对循环引用的自动垃圾回收。需要理解：\n",
    "\n",
    "1. 不可达节点： 对于一个有向图，如果从一个节点出发进行遍历，并标记其经过的所有节点。那么，在遍历结束后，所有没有被标记的节点，称之为不可达节点。  --由于这些节点没有任何的意义，所以在垃圾回收中需要被回收。\n",
    "2. mark-sweep: 由于每次豆遍历全图的性能消耗太大，所以在垃圾回收机制中，使用双向链表维护一个数据结构，并且只考虑容器类的对象（只有容器内的对象才会产生循环引用）\n",
    "3. 分代收集：Python将所有对象分为三代。刚创建的对象为第0代，经过一次回收后仍然存在的对象，便会依次从上一代挪到下一代。而每一代启动垃圾回收的阈值，则是可以单独指定的。当垃圾回收器中新增对象减去删除对象达到相应的阈值时，就会对这一代对象启动垃圾回收。\n",
    "\n",
    "事实上，分代收集基于的思想是，新生的对象更有可能被垃圾回收，而存活更久的对象也有更高的概率继续存活。因此，通过这种做法，可以节约不少计算量，从而提高 Python 的性能。\n",
    "\n",
    "引用计数是其中最简单的实现，不过切记，引用计数并非充要条件，它只能算作充分非必要条件；至于其他的可能性，我们所讲的循环引用正是其中一种。"
   ]
  },
  {
   "cell_type": "markdown",
   "metadata": {},
   "source": [
    "## 调试内存泄漏\n",
    "\n",
    "虽然有了自动回收机制，但这也不是万能的，难免还是会有漏网之鱼。内存泄漏是我们不想见到的，而且还会严重影响性能。\n",
    "\n",
    "使用`objgraph`，可以将关系图可视化。主要推荐两个函数：\n",
    "\n",
    "1. `show_refs()`，可以生成清晰的引用关系图。\n",
    "2. `show_backrefs()`，更加复杂一点的关系图。\n",
    "\n",
    "这个 API 有很多有用的参数，比如层数限制（max_depth）、宽度限制（too_many）、输出格式控制（filename output）、节点过滤（filter, extra_ignore）等。\n",
    "\n",
    "可以阅读一下参考文档：https://mg.pov.lt/objgraph/"
   ]
  },
  {
   "cell_type": "code",
   "execution_count": 1,
   "metadata": {},
   "outputs": [
    {
     "data": {
      "image/svg+xml": [
       "<?xml version=\"1.0\" encoding=\"UTF-8\" standalone=\"no\"?>\n",
       "<!DOCTYPE svg PUBLIC \"-//W3C//DTD SVG 1.1//EN\"\n",
       " \"http://www.w3.org/Graphics/SVG/1.1/DTD/svg11.dtd\">\n",
       "<!-- Generated by graphviz version 12.0.0 (20240704.0754)\n",
       " -->\n",
       "<!-- Title: ObjectGraph Pages: 1 -->\n",
       "<svg width=\"351pt\" height=\"199pt\"\n",
       " viewBox=\"0.00 0.00 351.00 198.50\" xmlns=\"http://www.w3.org/2000/svg\" xmlns:xlink=\"http://www.w3.org/1999/xlink\">\n",
       "<g id=\"graph0\" class=\"graph\" transform=\"scale(1 1) rotate(0) translate(4 194.5)\">\n",
       "<title>ObjectGraph</title>\n",
       "<polygon fill=\"white\" stroke=\"none\" points=\"-4,4 -4,-194.5 347,-194.5 347,4 -4,4\"/>\n",
       "<!-- o1260938621824 -->\n",
       "<g id=\"node1\" class=\"node\">\n",
       "<title>o1260938621824</title>\n",
       "<polygon fill=\"#ffffff\" stroke=\"black\" points=\"199.88,-190.5 144.12,-190.5 144.12,-151 199.88,-151 199.88,-190.5\"/>\n",
       "<text text-anchor=\"middle\" x=\"172\" y=\"-173.2\" font-family=\"Times New Roman,serif\" font-size=\"14.00\" fill=\"red\">list</text>\n",
       "<text text-anchor=\"middle\" x=\"172\" y=\"-157.45\" font-family=\"Times New Roman,serif\" font-size=\"14.00\" fill=\"red\">4 items</text>\n",
       "</g>\n",
       "<!-- o1260938712768 -->\n",
       "<g id=\"node2\" class=\"node\">\n",
       "<title>o1260938712768</title>\n",
       "<polygon fill=\"#c3c3c3\" stroke=\"black\" points=\"126.88,-115 71.12,-115 71.12,-75.5 126.88,-75.5 126.88,-115\"/>\n",
       "<text text-anchor=\"middle\" x=\"99\" y=\"-97.7\" font-family=\"Times New Roman,serif\" font-size=\"14.00\">list</text>\n",
       "<text text-anchor=\"middle\" x=\"99\" y=\"-81.95\" font-family=\"Times New Roman,serif\" font-size=\"14.00\">4 items</text>\n",
       "</g>\n",
       "<!-- o1260938621824&#45;&gt;o1260938712768 -->\n",
       "<g id=\"edge1\" class=\"edge\">\n",
       "<title>o1260938621824&#45;&gt;o1260938712768</title>\n",
       "<path fill=\"none\" stroke=\"black\" d=\"M147.21,-150.82C138.25,-142.57 128.3,-132.74 119.71,-123.71\"/>\n",
       "<polygon fill=\"black\" stroke=\"black\" points=\"122.38,-121.43 113.01,-116.48 117.25,-126.19 122.38,-121.43\"/>\n",
       "</g>\n",
       "<!-- o140727934837608 -->\n",
       "<g id=\"node3\" class=\"node\">\n",
       "<title>o140727934837608</title>\n",
       "<polygon fill=\"#c3c3c3\" stroke=\"black\" points=\"199,-115 145,-115 145,-75.5 199,-75.5 199,-115\"/>\n",
       "<text text-anchor=\"middle\" x=\"172\" y=\"-97.7\" font-family=\"Times New Roman,serif\" font-size=\"14.00\">int</text>\n",
       "<text text-anchor=\"middle\" x=\"172\" y=\"-81.95\" font-family=\"Times New Roman,serif\" font-size=\"14.00\">3</text>\n",
       "</g>\n",
       "<!-- o1260938621824&#45;&gt;o140727934837608 -->\n",
       "<g id=\"edge2\" class=\"edge\">\n",
       "<title>o1260938621824&#45;&gt;o140727934837608</title>\n",
       "<path fill=\"none\" stroke=\"black\" d=\"M172,-150.82C172,-143.51 172,-134.95 172,-126.81\"/>\n",
       "<polygon fill=\"black\" stroke=\"black\" points=\"175.5,-126.88 172,-116.88 168.5,-126.88 175.5,-126.88\"/>\n",
       "</g>\n",
       "<!-- o140727934837576 -->\n",
       "<g id=\"node4\" class=\"node\">\n",
       "<title>o140727934837576</title>\n",
       "<polygon fill=\"#c3c3c3\" stroke=\"black\" points=\"271,-115 217,-115 217,-75.5 271,-75.5 271,-115\"/>\n",
       "<text text-anchor=\"middle\" x=\"244\" y=\"-97.7\" font-family=\"Times New Roman,serif\" font-size=\"14.00\">int</text>\n",
       "<text text-anchor=\"middle\" x=\"244\" y=\"-81.95\" font-family=\"Times New Roman,serif\" font-size=\"14.00\">2</text>\n",
       "</g>\n",
       "<!-- o1260938621824&#45;&gt;o140727934837576 -->\n",
       "<g id=\"edge3\" class=\"edge\">\n",
       "<title>o1260938621824&#45;&gt;o140727934837576</title>\n",
       "<path fill=\"none\" stroke=\"black\" d=\"M190.54,-150.82C198.71,-142.49 208.46,-132.53 217.38,-123.43\"/>\n",
       "<polygon fill=\"black\" stroke=\"black\" points=\"219.71,-126.04 224.21,-116.45 214.71,-121.14 219.71,-126.04\"/>\n",
       "</g>\n",
       "<!-- o140727934837544 -->\n",
       "<g id=\"node5\" class=\"node\">\n",
       "<title>o140727934837544</title>\n",
       "<polygon fill=\"#c3c3c3\" stroke=\"black\" points=\"343,-115 289,-115 289,-75.5 343,-75.5 343,-115\"/>\n",
       "<text text-anchor=\"middle\" x=\"316\" y=\"-97.7\" font-family=\"Times New Roman,serif\" font-size=\"14.00\">int</text>\n",
       "<text text-anchor=\"middle\" x=\"316\" y=\"-81.95\" font-family=\"Times New Roman,serif\" font-size=\"14.00\">1</text>\n",
       "</g>\n",
       "<!-- o1260938621824&#45;&gt;o140727934837544 -->\n",
       "<g id=\"edge4\" class=\"edge\">\n",
       "<title>o1260938621824&#45;&gt;o140727934837544</title>\n",
       "<path fill=\"none\" stroke=\"black\" d=\"M200.01,-155.65C219.79,-145.68 247.15,-131.84 278.9,-115.54\"/>\n",
       "<polygon fill=\"black\" stroke=\"black\" points=\"280.25,-118.79 287.54,-111.1 277.05,-112.56 280.25,-118.79\"/>\n",
       "</g>\n",
       "<!-- o1260938712768&#45;&gt;o1260938621824 -->\n",
       "<g id=\"edge5\" class=\"edge\">\n",
       "<title>o1260938712768&#45;&gt;o1260938621824</title>\n",
       "<path fill=\"none\" stroke=\"black\" d=\"M124,-115.37C132.97,-123.65 142.92,-133.48 151.48,-142.5\"/>\n",
       "<polygon fill=\"black\" stroke=\"black\" points=\"148.8,-144.75 158.16,-149.71 153.93,-140 148.8,-144.75\"/>\n",
       "</g>\n",
       "<!-- o140727934837704 -->\n",
       "<g id=\"node6\" class=\"node\">\n",
       "<title>o140727934837704</title>\n",
       "<polygon fill=\"#878787\" stroke=\"black\" points=\"54,-39.5 0,-39.5 0,0 54,0 54,-39.5\"/>\n",
       "<text text-anchor=\"middle\" x=\"27\" y=\"-22.2\" font-family=\"Times New Roman,serif\" font-size=\"14.00\">int</text>\n",
       "<text text-anchor=\"middle\" x=\"27\" y=\"-6.45\" font-family=\"Times New Roman,serif\" font-size=\"14.00\">6</text>\n",
       "</g>\n",
       "<!-- o1260938712768&#45;&gt;o140727934837704 -->\n",
       "<g id=\"edge6\" class=\"edge\">\n",
       "<title>o1260938712768&#45;&gt;o140727934837704</title>\n",
       "<path fill=\"none\" stroke=\"black\" d=\"M80.46,-75.32C72.29,-66.99 62.54,-57.03 53.62,-47.93\"/>\n",
       "<polygon fill=\"black\" stroke=\"black\" points=\"56.29,-45.64 46.79,-40.95 51.29,-50.54 56.29,-45.64\"/>\n",
       "</g>\n",
       "<!-- o140727934837672 -->\n",
       "<g id=\"node7\" class=\"node\">\n",
       "<title>o140727934837672</title>\n",
       "<polygon fill=\"#878787\" stroke=\"black\" points=\"126,-39.5 72,-39.5 72,0 126,0 126,-39.5\"/>\n",
       "<text text-anchor=\"middle\" x=\"99\" y=\"-22.2\" font-family=\"Times New Roman,serif\" font-size=\"14.00\">int</text>\n",
       "<text text-anchor=\"middle\" x=\"99\" y=\"-6.45\" font-family=\"Times New Roman,serif\" font-size=\"14.00\">5</text>\n",
       "</g>\n",
       "<!-- o1260938712768&#45;&gt;o140727934837672 -->\n",
       "<g id=\"edge7\" class=\"edge\">\n",
       "<title>o1260938712768&#45;&gt;o140727934837672</title>\n",
       "<path fill=\"none\" stroke=\"black\" d=\"M99,-75.32C99,-68.01 99,-59.45 99,-51.31\"/>\n",
       "<polygon fill=\"black\" stroke=\"black\" points=\"102.5,-51.38 99,-41.38 95.5,-51.38 102.5,-51.38\"/>\n",
       "</g>\n",
       "<!-- o140727934837640 -->\n",
       "<g id=\"node8\" class=\"node\">\n",
       "<title>o140727934837640</title>\n",
       "<polygon fill=\"#878787\" stroke=\"black\" points=\"198,-39.5 144,-39.5 144,0 198,0 198,-39.5\"/>\n",
       "<text text-anchor=\"middle\" x=\"171\" y=\"-22.2\" font-family=\"Times New Roman,serif\" font-size=\"14.00\">int</text>\n",
       "<text text-anchor=\"middle\" x=\"171\" y=\"-6.45\" font-family=\"Times New Roman,serif\" font-size=\"14.00\">4</text>\n",
       "</g>\n",
       "<!-- o1260938712768&#45;&gt;o140727934837640 -->\n",
       "<g id=\"edge8\" class=\"edge\">\n",
       "<title>o1260938712768&#45;&gt;o140727934837640</title>\n",
       "<path fill=\"none\" stroke=\"black\" d=\"M117.54,-75.32C125.71,-66.99 135.46,-57.03 144.38,-47.93\"/>\n",
       "<polygon fill=\"black\" stroke=\"black\" points=\"146.71,-50.54 151.21,-40.95 141.71,-45.64 146.71,-50.54\"/>\n",
       "</g>\n",
       "</g>\n",
       "</svg>\n"
      ],
      "text/plain": [
       "<graphviz.sources.Source at 0x12595cc3ad0>"
      ]
     },
     "execution_count": 1,
     "metadata": {},
     "output_type": "execute_result"
    }
   ],
   "source": [
    "import objgraph\n",
    "\n",
    "a = [1, 2, 3]\n",
    "b = [4, 5, 6]\n",
    "\n",
    "a.append(b)\n",
    "b.append(a)\n",
    "\n",
    "objgraph.show_refs([a])\n"
   ]
  },
  {
   "cell_type": "code",
   "execution_count": 2,
   "metadata": {},
   "outputs": [
    {
     "data": {
      "image/svg+xml": [
       "<?xml version=\"1.0\" encoding=\"UTF-8\" standalone=\"no\"?>\n",
       "<!DOCTYPE svg PUBLIC \"-//W3C//DTD SVG 1.1//EN\"\n",
       " \"http://www.w3.org/Graphics/SVG/1.1/DTD/svg11.dtd\">\n",
       "<!-- Generated by graphviz version 12.0.0 (20240704.0754)\n",
       " -->\n",
       "<!-- Title: ObjectGraph Pages: 1 -->\n",
       "<svg width=\"1517pt\" height=\"489pt\"\n",
       " viewBox=\"0.00 0.00 1517.12 489.00\" xmlns=\"http://www.w3.org/2000/svg\" xmlns:xlink=\"http://www.w3.org/1999/xlink\">\n",
       "<g id=\"graph0\" class=\"graph\" transform=\"scale(1 1) rotate(0) translate(4 485)\">\n",
       "<title>ObjectGraph</title>\n",
       "<polygon fill=\"white\" stroke=\"none\" points=\"-4,4 -4,-485 1513.12,-485 1513.12,4 -4,4\"/>\n",
       "<!-- o1260937537344 -->\n",
       "<g id=\"node1\" class=\"node\">\n",
       "<title>o1260937537344</title>\n",
       "<polygon fill=\"#ffffff\" stroke=\"black\" points=\"779.88,-116 724.12,-116 724.12,-76.5 779.88,-76.5 779.88,-116\"/>\n",
       "<text text-anchor=\"middle\" x=\"752\" y=\"-98.7\" font-family=\"Times New Roman,serif\" font-size=\"14.00\" fill=\"red\">list</text>\n",
       "<text text-anchor=\"middle\" x=\"752\" y=\"-82.95\" font-family=\"Times New Roman,serif\" font-size=\"14.00\" fill=\"red\">4 items</text>\n",
       "</g>\n",
       "<!-- o1260938684224 -->\n",
       "<g id=\"node3\" class=\"node\">\n",
       "<title>o1260938684224</title>\n",
       "<polygon fill=\"#c3c3c3\" stroke=\"black\" points=\"811.88,-39.5 756.12,-39.5 756.12,0 811.88,0 811.88,-39.5\"/>\n",
       "<text text-anchor=\"middle\" x=\"784\" y=\"-22.2\" font-family=\"Times New Roman,serif\" font-size=\"14.00\">list</text>\n",
       "<text text-anchor=\"middle\" x=\"784\" y=\"-6.45\" font-family=\"Times New Roman,serif\" font-size=\"14.00\">4 items</text>\n",
       "</g>\n",
       "<!-- o1260937537344&#45;&gt;o1260938684224 -->\n",
       "<g id=\"edge12\" class=\"edge\">\n",
       "<title>o1260937537344&#45;&gt;o1260938684224</title>\n",
       "<path fill=\"none\" stroke=\"black\" d=\"M754.25,-76.06C756.93,-68.16 760.73,-58.82 764.79,-50.08\"/>\n",
       "<polygon fill=\"black\" stroke=\"black\" points=\"767.87,-51.75 769.14,-41.23 761.59,-48.66 767.87,-51.75\"/>\n",
       "</g>\n",
       "<!-- o1260936929088 -->\n",
       "<g id=\"node2\" class=\"node\">\n",
       "<title>o1260936929088</title>\n",
       "<polygon fill=\"#c3c3c3\" stroke=\"black\" points=\"815.25,-207.25 752.75,-207.25 752.75,-167.75 815.25,-167.75 815.25,-207.25\"/>\n",
       "<text text-anchor=\"middle\" x=\"784\" y=\"-189.95\" font-family=\"Times New Roman,serif\" font-size=\"14.00\">dict</text>\n",
       "<text text-anchor=\"middle\" x=\"784\" y=\"-174.2\" font-family=\"Times New Roman,serif\" font-size=\"14.00\">29 items</text>\n",
       "</g>\n",
       "<!-- o1260936929088&#45;&gt;o1260937537344 -->\n",
       "<g id=\"edge1\" class=\"edge\">\n",
       "<title>o1260936929088&#45;&gt;o1260937537344</title>\n",
       "<path fill=\"none\" stroke=\"black\" d=\"M777.21,-167.57C773,-155.82 767.49,-140.46 762.7,-127.09\"/>\n",
       "<polygon fill=\"black\" stroke=\"black\" points=\"766.07,-126.11 759.4,-117.88 759.48,-128.48 766.07,-126.11\"/>\n",
       "<text text-anchor=\"middle\" x=\"773\" y=\"-136.45\" font-family=\"Times New Roman,serif\" font-size=\"14.00\">a</text>\n",
       "</g>\n",
       "<!-- o1260936929088&#45;&gt;o1260938684224 -->\n",
       "<g id=\"edge11\" class=\"edge\">\n",
       "<title>o1260936929088&#45;&gt;o1260938684224</title>\n",
       "<path fill=\"none\" stroke=\"black\" d=\"M786.77,-167.67C790.06,-142.51 794.69,-96.58 791,-57.5 790.79,-55.32 790.52,-53.07 790.2,-50.82\"/>\n",
       "<polygon fill=\"black\" stroke=\"black\" points=\"793.7,-50.49 788.57,-41.22 786.79,-51.66 793.7,-50.49\"/>\n",
       "<text text-anchor=\"middle\" x=\"796.75\" y=\"-90.83\" font-family=\"Times New Roman,serif\" font-size=\"14.00\">b</text>\n",
       "</g>\n",
       "<!-- o1260938684224&#45;&gt;o1260937537344 -->\n",
       "<g id=\"edge2\" class=\"edge\">\n",
       "<title>o1260938684224&#45;&gt;o1260937537344</title>\n",
       "<path fill=\"none\" stroke=\"black\" d=\"M781.77,-39.87C779.1,-47.77 775.3,-57.11 771.25,-65.85\"/>\n",
       "<polygon fill=\"black\" stroke=\"black\" points=\"768.16,-64.19 766.9,-74.71 774.44,-67.27 768.16,-64.19\"/>\n",
       "</g>\n",
       "<!-- o1260936954880 -->\n",
       "<g id=\"node4\" class=\"node\">\n",
       "<title>o1260936954880</title>\n",
       "<polygon fill=\"#1b8700\" stroke=\"black\" points=\"101.12,-298.5 28.88,-298.5 28.88,-259 101.12,-259 101.12,-298.5\"/>\n",
       "<text text-anchor=\"middle\" x=\"65\" y=\"-281.2\" font-family=\"Times New Roman,serif\" font-size=\"14.00\">module</text>\n",
       "<text text-anchor=\"middle\" x=\"65\" y=\"-265.45\" font-family=\"Times New Roman,serif\" font-size=\"14.00\">__main__</text>\n",
       "</g>\n",
       "<!-- o1260936954880&#45;&gt;o1260936929088 -->\n",
       "<g id=\"edge3\" class=\"edge\">\n",
       "<title>o1260936954880&#45;&gt;o1260936929088</title>\n",
       "<path fill=\"none\" stroke=\"black\" d=\"M65.2,-258.73C66.42,-247.17 70.06,-233.16 80,-225.25 105.93,-204.61 592.11,-192.59 741.02,-189.38\"/>\n",
       "<polygon fill=\"black\" stroke=\"black\" points=\"740.92,-192.88 750.84,-189.17 740.77,-185.88 740.92,-192.88\"/>\n",
       "<text text-anchor=\"middle\" x=\"105.5\" y=\"-227.7\" font-family=\"Times New Roman,serif\" font-size=\"14.00\">__dict__</text>\n",
       "</g>\n",
       "<!-- o1260936931136 -->\n",
       "<g id=\"node5\" class=\"node\">\n",
       "<title>o1260936931136</title>\n",
       "<polygon fill=\"#878787\" stroke=\"black\" points=\"156.25,-389.75 93.75,-389.75 93.75,-350.25 156.25,-350.25 156.25,-389.75\"/>\n",
       "<text text-anchor=\"middle\" x=\"125\" y=\"-372.45\" font-family=\"Times New Roman,serif\" font-size=\"14.00\">dict</text>\n",
       "<text text-anchor=\"middle\" x=\"125\" y=\"-356.7\" font-family=\"Times New Roman,serif\" font-size=\"14.00\">46 items</text>\n",
       "</g>\n",
       "<!-- o1260936931136&#45;&gt;o1260936929088 -->\n",
       "<g id=\"edge4\" class=\"edge\">\n",
       "<title>o1260936931136&#45;&gt;o1260936929088</title>\n",
       "<path fill=\"none\" stroke=\"black\" d=\"M156.52,-352.96C169.71,-345.78 183.1,-337.72 188,-332.25 211.76,-305.71 192.45,-280.94 220.5,-259 301.4,-195.72 623.85,-188.74 741.1,-188.34\"/>\n",
       "<polygon fill=\"black\" stroke=\"black\" points=\"740.93,-191.84 750.92,-188.32 740.91,-184.84 740.93,-191.84\"/>\n",
       "<text text-anchor=\"middle\" x=\"242.75\" y=\"-273.32\" font-family=\"Times New Roman,serif\" font-size=\"14.00\">user_ns</text>\n",
       "</g>\n",
       "<!-- o1260936625920 -->\n",
       "<g id=\"node6\" class=\"node\">\n",
       "<title>o1260936625920</title>\n",
       "<polygon fill=\"#878787\" stroke=\"black\" points=\"174.88,-298.5 119.12,-298.5 119.12,-259 174.88,-259 174.88,-298.5\"/>\n",
       "<text text-anchor=\"middle\" x=\"147\" y=\"-281.2\" font-family=\"Times New Roman,serif\" font-size=\"14.00\">dict</text>\n",
       "<text text-anchor=\"middle\" x=\"147\" y=\"-265.45\" font-family=\"Times New Roman,serif\" font-size=\"14.00\">3 items</text>\n",
       "</g>\n",
       "<!-- o1260936931136&#45;&gt;o1260936625920 -->\n",
       "<g id=\"edge14\" class=\"edge\">\n",
       "<title>o1260936931136&#45;&gt;o1260936625920</title>\n",
       "<path fill=\"none\" stroke=\"black\" d=\"M129.67,-350.07C132.53,-338.44 136.27,-323.27 139.54,-309.99\"/>\n",
       "<polygon fill=\"black\" stroke=\"black\" points=\"142.91,-310.97 141.9,-300.43 136.11,-309.3 142.91,-310.97\"/>\n",
       "<text text-anchor=\"middle\" x=\"161.25\" y=\"-318.95\" font-family=\"Times New Roman,serif\" font-size=\"14.00\">ns_table</text>\n",
       "</g>\n",
       "<!-- o1260936625920&#45;&gt;o1260936929088 -->\n",
       "<g id=\"edge5\" class=\"edge\">\n",
       "<title>o1260936625920&#45;&gt;o1260936929088</title>\n",
       "<path fill=\"none\" stroke=\"black\" d=\"M137.96,-258.68C134.13,-247.54 132.24,-234 140.5,-225.25 161.15,-203.39 600.82,-192.33 741.27,-189.35\"/>\n",
       "<polygon fill=\"black\" stroke=\"black\" points=\"740.96,-192.85 750.88,-189.14 740.81,-185.85 740.96,-192.85\"/>\n",
       "<text text-anchor=\"middle\" x=\"173.25\" y=\"-227.7\" font-family=\"Times New Roman,serif\" font-size=\"14.00\">user_global</text>\n",
       "</g>\n",
       "<!-- o1260937482496 -->\n",
       "<g id=\"node7\" class=\"node\">\n",
       "<title>o1260937482496</title>\n",
       "<polygon fill=\"#878787\" stroke=\"black\" points=\"335.25,-298.5 272.75,-298.5 272.75,-259 335.25,-259 335.25,-298.5\"/>\n",
       "<text text-anchor=\"middle\" x=\"304\" y=\"-281.2\" font-family=\"Times New Roman,serif\" font-size=\"14.00\">dict</text>\n",
       "<text text-anchor=\"middle\" x=\"304\" y=\"-265.45\" font-family=\"Times New Roman,serif\" font-size=\"14.00\">24 items</text>\n",
       "</g>\n",
       "<!-- o1260937482496&#45;&gt;o1260936929088 -->\n",
       "<g id=\"edge6\" class=\"edge\">\n",
       "<title>o1260937482496&#45;&gt;o1260936929088</title>\n",
       "<path fill=\"none\" stroke=\"black\" d=\"M335.46,-262.35C338.64,-261.1 341.85,-259.95 345,-259 486.52,-216.1 662.08,-197.93 741.48,-191.5\"/>\n",
       "<polygon fill=\"black\" stroke=\"black\" points=\"741.27,-195.02 750.97,-190.75 740.73,-188.04 741.27,-195.02\"/>\n",
       "<text text-anchor=\"middle\" x=\"506.75\" y=\"-227.7\" font-family=\"Times New Roman,serif\" font-size=\"14.00\">namespace</text>\n",
       "</g>\n",
       "<!-- o1260887893760 -->\n",
       "<g id=\"node8\" class=\"node\">\n",
       "<title>o1260887893760</title>\n",
       "<polygon fill=\"#878787\" stroke=\"black\" points=\"1214.38,-298.5 939.62,-298.5 939.62,-259 1214.38,-259 1214.38,-298.5\"/>\n",
       "<text text-anchor=\"middle\" x=\"1077\" y=\"-281.2\" font-family=\"Times New Roman,serif\" font-size=\"14.00\">function</text>\n",
       "<text text-anchor=\"middle\" x=\"1077\" y=\"-265.45\" font-family=\"Times New Roman,serif\" font-size=\"14.00\">&lt;function __VSCODE_inject_module.&lt;locals</text>\n",
       "</g>\n",
       "<!-- o1260887893760&#45;&gt;o1260936929088 -->\n",
       "<g id=\"edge7\" class=\"edge\">\n",
       "<title>o1260887893760&#45;&gt;o1260936929088</title>\n",
       "<path fill=\"none\" stroke=\"black\" d=\"M1014.14,-258.6C957.52,-241.35 875.81,-216.47 826.52,-201.45\"/>\n",
       "<polygon fill=\"black\" stroke=\"black\" points=\"827.65,-198.14 817.07,-198.57 825.61,-204.83 827.65,-198.14\"/>\n",
       "<text text-anchor=\"middle\" x=\"982.88\" y=\"-227.7\" font-family=\"Times New Roman,serif\" font-size=\"14.00\">__globals__</text>\n",
       "</g>\n",
       "<!-- o1260936887360 -->\n",
       "<g id=\"node9\" class=\"node\">\n",
       "<title>o1260936887360</title>\n",
       "<polygon fill=\"#878787\" stroke=\"black\" points=\"628.38,-298.5 353.62,-298.5 353.62,-259 628.38,-259 628.38,-298.5\"/>\n",
       "<text text-anchor=\"middle\" x=\"491\" y=\"-281.2\" font-family=\"Times New Roman,serif\" font-size=\"14.00\">function</text>\n",
       "<text text-anchor=\"middle\" x=\"491\" y=\"-265.45\" font-family=\"Times New Roman,serif\" font-size=\"14.00\">&lt;function __VSCODE_inject_module.&lt;locals</text>\n",
       "</g>\n",
       "<!-- o1260936887360&#45;&gt;o1260936929088 -->\n",
       "<g id=\"edge8\" class=\"edge\">\n",
       "<title>o1260936887360&#45;&gt;o1260936929088</title>\n",
       "<path fill=\"none\" stroke=\"black\" d=\"M553.86,-258.6C610.48,-241.35 692.19,-216.47 741.48,-201.45\"/>\n",
       "<polygon fill=\"black\" stroke=\"black\" points=\"742.39,-204.83 750.93,-198.57 740.35,-198.14 742.39,-204.83\"/>\n",
       "<text text-anchor=\"middle\" x=\"690.88\" y=\"-227.7\" font-family=\"Times New Roman,serif\" font-size=\"14.00\">__globals__</text>\n",
       "</g>\n",
       "<!-- o1260938467328 -->\n",
       "<g id=\"node10\" class=\"node\">\n",
       "<title>o1260938467328</title>\n",
       "<polygon fill=\"#878787\" stroke=\"black\" points=\"921.38,-298.5 646.62,-298.5 646.62,-259 921.38,-259 921.38,-298.5\"/>\n",
       "<text text-anchor=\"middle\" x=\"784\" y=\"-281.2\" font-family=\"Times New Roman,serif\" font-size=\"14.00\">function</text>\n",
       "<text text-anchor=\"middle\" x=\"784\" y=\"-265.45\" font-family=\"Times New Roman,serif\" font-size=\"14.00\">&lt;function __VSCODE_inject_module.&lt;locals</text>\n",
       "</g>\n",
       "<!-- o1260938467328&#45;&gt;o1260936929088 -->\n",
       "<g id=\"edge9\" class=\"edge\">\n",
       "<title>o1260938467328&#45;&gt;o1260936929088</title>\n",
       "<path fill=\"none\" stroke=\"black\" d=\"M784,-258.82C784,-247.3 784,-232.32 784,-219.15\"/>\n",
       "<polygon fill=\"black\" stroke=\"black\" points=\"787.5,-219.22 784,-209.22 780.5,-219.22 787.5,-219.22\"/>\n",
       "<text text-anchor=\"middle\" x=\"818.88\" y=\"-227.7\" font-family=\"Times New Roman,serif\" font-size=\"14.00\">__globals__</text>\n",
       "</g>\n",
       "<!-- o1260939016640 -->\n",
       "<g id=\"node11\" class=\"node\">\n",
       "<title>o1260939016640</title>\n",
       "<polygon fill=\"#878787\" stroke=\"black\" points=\"1509.12,-298.5 1232.88,-298.5 1232.88,-259 1509.12,-259 1509.12,-298.5\"/>\n",
       "<text text-anchor=\"middle\" x=\"1371\" y=\"-281.2\" font-family=\"Times New Roman,serif\" font-size=\"14.00\">function</text>\n",
       "<text text-anchor=\"middle\" x=\"1371\" y=\"-265.45\" font-family=\"Times New Roman,serif\" font-size=\"14.00\">&lt;function &lt;module&gt; at 0x0000012595D279C0</text>\n",
       "</g>\n",
       "<!-- o1260939016640&#45;&gt;o1260936929088 -->\n",
       "<g id=\"edge10\" class=\"edge\">\n",
       "<title>o1260939016640&#45;&gt;o1260936929088</title>\n",
       "<path fill=\"none\" stroke=\"black\" d=\"M1244.71,-258.55C1112.95,-238.52 913.73,-208.22 826.94,-195.03\"/>\n",
       "<polygon fill=\"black\" stroke=\"black\" points=\"827.61,-191.59 817.2,-193.55 826.56,-198.51 827.61,-191.59\"/>\n",
       "<text text-anchor=\"middle\" x=\"1146.88\" y=\"-227.7\" font-family=\"Times New Roman,serif\" font-size=\"14.00\">__globals__</text>\n",
       "</g>\n",
       "<!-- o1260936928464 -->\n",
       "<g id=\"node12\" class=\"node\">\n",
       "<title>o1260936928464</title>\n",
       "<polygon fill=\"#4c4c4c\" stroke=\"black\" points=\"250,-481 0,-481 0,-441.5 250,-441.5 250,-481\"/>\n",
       "<text text-anchor=\"middle\" x=\"125\" y=\"-463.7\" font-family=\"Times New Roman,serif\" font-size=\"14.00\" fill=\"white\">ZMQInteractiveShell</text>\n",
       "<text text-anchor=\"middle\" x=\"125\" y=\"-447.95\" font-family=\"Times New Roman,serif\" font-size=\"14.00\" fill=\"white\">&lt;ipykernel.zmqshell.ZMQInteractiveShell </text>\n",
       "</g>\n",
       "<!-- o1260936928464&#45;&gt;o1260936931136 -->\n",
       "<g id=\"edge13\" class=\"edge\">\n",
       "<title>o1260936928464&#45;&gt;o1260936931136</title>\n",
       "<path fill=\"none\" stroke=\"black\" d=\"M125,-441.32C125,-429.8 125,-414.82 125,-401.65\"/>\n",
       "<polygon fill=\"black\" stroke=\"black\" points=\"128.5,-401.72 125,-391.72 121.5,-401.72 128.5,-401.72\"/>\n",
       "<text text-anchor=\"middle\" x=\"150.5\" y=\"-410.2\" font-family=\"Times New Roman,serif\" font-size=\"14.00\">__dict__</text>\n",
       "</g>\n",
       "<!-- o1260936983120 -->\n",
       "<g id=\"node13\" class=\"node\">\n",
       "<title>o1260936983120</title>\n",
       "<polygon fill=\"#4c4c4c\" stroke=\"black\" points=\"433.5,-389.75 174.5,-389.75 174.5,-350.25 433.5,-350.25 433.5,-389.75\"/>\n",
       "<text text-anchor=\"middle\" x=\"304\" y=\"-372.45\" font-family=\"Times New Roman,serif\" font-size=\"14.00\" fill=\"white\">IPCompleter</text>\n",
       "<text text-anchor=\"middle\" x=\"304\" y=\"-356.7\" font-family=\"Times New Roman,serif\" font-size=\"14.00\" fill=\"white\">&lt;IPython.core.completer.IPCompleter obje</text>\n",
       "</g>\n",
       "<!-- o1260936983120&#45;&gt;o1260937482496 -->\n",
       "<g id=\"edge15\" class=\"edge\">\n",
       "<title>o1260936983120&#45;&gt;o1260937482496</title>\n",
       "<path fill=\"none\" stroke=\"black\" d=\"M304,-350.07C304,-338.55 304,-323.57 304,-310.4\"/>\n",
       "<polygon fill=\"black\" stroke=\"black\" points=\"307.5,-310.47 304,-300.47 300.5,-310.47 307.5,-310.47\"/>\n",
       "<text text-anchor=\"middle\" x=\"329.5\" y=\"-318.95\" font-family=\"Times New Roman,serif\" font-size=\"14.00\">__dict__</text>\n",
       "</g>\n",
       "<!-- o1260936696064 -->\n",
       "<g id=\"node14\" class=\"node\">\n",
       "<title>o1260936696064</title>\n",
       "<polygon fill=\"#4c4c4c\" stroke=\"black\" points=\"811.88,-389.75 756.12,-389.75 756.12,-350.25 811.88,-350.25 811.88,-389.75\"/>\n",
       "<text text-anchor=\"middle\" x=\"784\" y=\"-372.45\" font-family=\"Times New Roman,serif\" font-size=\"14.00\" fill=\"white\">dict</text>\n",
       "<text text-anchor=\"middle\" x=\"784\" y=\"-356.7\" font-family=\"Times New Roman,serif\" font-size=\"14.00\" fill=\"white\">8 items</text>\n",
       "</g>\n",
       "<!-- o1260936696064&#45;&gt;o1260887893760 -->\n",
       "<g id=\"edge16\" class=\"edge\">\n",
       "<title>o1260936696064&#45;&gt;o1260887893760</title>\n",
       "<path fill=\"none\" stroke=\"black\" d=\"M812.36,-360.36C855.99,-347.07 941,-321.18 1002.93,-302.31\"/>\n",
       "<polygon fill=\"black\" stroke=\"black\" points=\"1003.83,-305.7 1012.37,-299.44 1001.79,-299 1003.83,-305.7\"/>\n",
       "<text text-anchor=\"middle\" x=\"988.5\" y=\"-318.95\" font-family=\"Times New Roman,serif\" font-size=\"14.00\">send_message</text>\n",
       "</g>\n",
       "<!-- o1260936696064&#45;&gt;o1260936887360 -->\n",
       "<g id=\"edge18\" class=\"edge\">\n",
       "<title>o1260936696064&#45;&gt;o1260936887360</title>\n",
       "<path fill=\"none\" stroke=\"black\" d=\"M755.64,-360.36C712.01,-347.07 627,-321.18 565.07,-302.31\"/>\n",
       "<polygon fill=\"black\" stroke=\"black\" points=\"566.21,-299 555.63,-299.44 564.17,-305.7 566.21,-299\"/>\n",
       "<text text-anchor=\"middle\" x=\"692\" y=\"-318.95\" font-family=\"Times New Roman,serif\" font-size=\"14.00\">call_function</text>\n",
       "</g>\n",
       "<!-- o1260936696064&#45;&gt;o1260938467328 -->\n",
       "<g id=\"edge19\" class=\"edge\">\n",
       "<title>o1260936696064&#45;&gt;o1260938467328</title>\n",
       "<path fill=\"none\" stroke=\"black\" d=\"M784,-350.07C784,-338.55 784,-323.57 784,-310.4\"/>\n",
       "<polygon fill=\"black\" stroke=\"black\" points=\"787.5,-310.47 784,-300.47 780.5,-310.47 787.5,-310.47\"/>\n",
       "<text text-anchor=\"middle\" x=\"826\" y=\"-318.95\" font-family=\"Times New Roman,serif\" font-size=\"14.00\">__on_message</text>\n",
       "</g>\n",
       "<!-- o1260938644256 -->\n",
       "<g id=\"node15\" class=\"node\">\n",
       "<title>o1260938644256</title>\n",
       "<polygon fill=\"#4c4c4c\" stroke=\"black\" points=\"1209.12,-389.75 944.88,-389.75 944.88,-350.25 1209.12,-350.25 1209.12,-389.75\"/>\n",
       "<text text-anchor=\"middle\" x=\"1077\" y=\"-372.45\" font-family=\"Times New Roman,serif\" font-size=\"14.00\" fill=\"white\">cell</text>\n",
       "<text text-anchor=\"middle\" x=\"1077\" y=\"-356.7\" font-family=\"Times New Roman,serif\" font-size=\"14.00\" fill=\"white\">&lt;cell at 0x0000012595CCCB20: function ob</text>\n",
       "</g>\n",
       "<!-- o1260938644256&#45;&gt;o1260887893760 -->\n",
       "<g id=\"edge17\" class=\"edge\">\n",
       "<title>o1260938644256&#45;&gt;o1260887893760</title>\n",
       "<path fill=\"none\" stroke=\"black\" d=\"M1077,-350.07C1077,-338.55 1077,-323.57 1077,-310.4\"/>\n",
       "<polygon fill=\"black\" stroke=\"black\" points=\"1080.5,-310.47 1077,-300.47 1073.5,-310.47 1080.5,-310.47\"/>\n",
       "</g>\n",
       "</g>\n",
       "</svg>\n"
      ],
      "text/plain": [
       "<graphviz.sources.Source at 0x12595b9f350>"
      ]
     },
     "execution_count": 2,
     "metadata": {},
     "output_type": "execute_result"
    }
   ],
   "source": [
    "import objgraph\n",
    "\n",
    "a = [1, 2, 3]\n",
    "b = [4, 5, 6]\n",
    "\n",
    "a.append(b)\n",
    "b.append(a)\n",
    "\n",
    "objgraph.show_backrefs([a])\n"
   ]
  },
  {
   "cell_type": "markdown",
   "metadata": {},
   "source": [
    "# 总结\n",
    "\n",
    "1. 垃圾回收是 Python 自带的机制，用于自动释放不会再用到的内存空间； \n",
    "2. 引用计数是其中最简单的实现，不过切记，这只是充分非必要条件，因为循环引用需要通过不可达判定，来确定是否可以回收； \n",
    "3. Python 的自动回收算法包括标记清除和分代收集，主要针对的是循环引用的垃圾收集； \n",
    "4. 调试内存泄漏方面， objgraph 是很好的可视化分析工具。"
   ]
  }
 ],
 "metadata": {
  "kernelspec": {
   "display_name": "Python 3",
   "language": "python",
   "name": "python3"
  },
  "language_info": {
   "codemirror_mode": {
    "name": "ipython",
    "version": 3
   },
   "file_extension": ".py",
   "mimetype": "text/x-python",
   "name": "python",
   "nbconvert_exporter": "python",
   "pygments_lexer": "ipython3",
   "version": "3.11.4"
  }
 },
 "nbformat": 4,
 "nbformat_minor": 2
}
