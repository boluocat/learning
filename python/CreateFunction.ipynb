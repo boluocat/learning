{
 "cells": [
  {
   "cell_type": "markdown",
   "metadata": {},
   "source": [
    "# 自定义函数\n",
    "\n",
    "函数：为了实现某一功能的代码段，可以重复利用。\n",
    "\n",
    "```python\n",
    "def function_name(parameters):\n",
    "    # Function body\n",
    "    # Code goes here\n",
    "    # ...\n",
    "    return result\n",
    "```\n",
    "\n",
    "- def：是函数的声明\n",
    "- function_name：函数的名称\n",
    "- parameters：函数的参数\n",
    "- Function body：函数的主体，具体实现函数的功能\n",
    "- return：返回的调用结果，也可以是yield。也可以不返回任何的结果\n",
    "\n",
    "和其他需要编译的语言（比如 C 语言）不一样的是，def 是可执行语句，这意味着函数直到被调用前，都是不存在的。当程序调用函数时，def 语句才会创建一个新的函数对象，并赋予其名字。\n",
    "\n"
   ]
  },
  {
   "cell_type": "markdown",
   "metadata": {},
   "source": [
    "使用自定义函数时，如果是在函数外进行调用，则需要先创建这个函数，否则会报错。\n",
    "\n",
    "如果是在函数内部调用其他函数，函数间哪个声明在前，哪个在后，都无所谓。\n"
   ]
  },
  {
   "cell_type": "code",
   "execution_count": 1,
   "metadata": {},
   "outputs": [
    {
     "name": "stdout",
     "output_type": "stream",
     "text": [
      "Got a message: hello world\n"
     ]
    }
   ],
   "source": [
    "\n",
    "def my_func(message):\n",
    "    print('Got a message: {}'.format(message))\n",
    "my_func('hello world')"
   ]
  },
  {
   "cell_type": "code",
   "execution_count": 2,
   "metadata": {},
   "outputs": [
    {
     "name": "stdout",
     "output_type": "stream",
     "text": [
      "Got a message: hello world\n"
     ]
    }
   ],
   "source": [
    "def my_func(message):\n",
    "    my_sub_func(message) # 调用my_sub_func()在其声明之前不影响程序执行\n",
    "    \n",
    "def my_sub_func(message):\n",
    "    print('Got a message: {}'.format(message))\n",
    "\n",
    "my_func('hello world')"
   ]
  },
  {
   "cell_type": "markdown",
   "metadata": {},
   "source": [
    "函数的参数可以是每次给出的，也可以是默认存在的。如果函数没有传入该参数的话，则会用默认的参数"
   ]
  },
  {
   "cell_type": "code",
   "execution_count": 3,
   "metadata": {},
   "outputs": [
    {
     "name": "stdout",
     "output_type": "stream",
     "text": [
      "My name is GuaGua\n"
     ]
    }
   ],
   "source": [
    "def what_name(name = 'GuaGua'):\n",
    "    \n",
    "    print(f'My name is {name}')\n",
    "    \n",
    "what_name()"
   ]
  },
  {
   "cell_type": "code",
   "execution_count": 4,
   "metadata": {},
   "outputs": [
    {
     "name": "stdout",
     "output_type": "stream",
     "text": [
      "My name is cat\n"
     ]
    }
   ],
   "source": [
    "what_name('cat')"
   ]
  },
  {
   "cell_type": "markdown",
   "metadata": {},
   "source": [
    "Python函数支持嵌套，即在一个函数里面可以包含其他的函数。\n",
    "```python\n",
    "def a():\n",
    "    ...\n",
    "    def B():\n",
    "        ...\n",
    "        \n",
    "```\n",
    "\n",
    "函数嵌套的好处：\n",
    "- 函数的嵌套能够保证内部函数的隐私。内部函数只能被外部函数所调用和访问，不会暴露咋全局作用域。因此，如果你的函数内部有一些隐私数据（比如数据库的用户、密码等），不想暴露在外，那你就可以使用函数的的嵌套，将其封装在内部函数中，只通过外部函数来访问。\n",
    "- 合理的嵌套可以提高程序的运行效率。\n",
    "\n",
    "下面的例子：这里函数 f1() 的内部，又定义了函数 f2()。在调用函数 f1() 时，会先打印字符串'hello'，然后 f1() 内部再调用 f2()，打印字符串'world'。\n"
   ]
  },
  {
   "cell_type": "code",
   "execution_count": 8,
   "metadata": {},
   "outputs": [
    {
     "name": "stdout",
     "output_type": "stream",
     "text": [
      "hello\n",
      "world\n"
     ]
    }
   ],
   "source": [
    "def f1():\n",
    "    print('hello')\n",
    "    def f2():\n",
    "        print('world')\n",
    "    f2()\n",
    "f1()\n",
    "\n"
   ]
  },
  {
   "cell_type": "code",
   "execution_count": 9,
   "metadata": {},
   "outputs": [
    {
     "name": "stdout",
     "output_type": "stream",
     "text": [
      "120\n"
     ]
    }
   ],
   "source": [
    "def factorial(input):\n",
    "    # validation check\n",
    "    if not isinstance(input, int):\n",
    "        raise Exception('input must be an integer.')\n",
    "    if input < 0:\n",
    "        raise Exception('input must be greater or equal to 0' )\n",
    "    ...\n",
    "\n",
    "    def inner_factorial(input):\n",
    "        if input <= 1:\n",
    "            return 1\n",
    "        return input * inner_factorial(input-1)\n",
    "    return inner_factorial(input)\n",
    "\n",
    "\n",
    "print(factorial(5))\n",
    "\n",
    "\n",
    "'''\n",
    "因为在计算之前，需要检查输入是否合法，所以我写成了函数嵌套的形式，这样一来，输入是否合法就只用检查一次。\n",
    "而如果我们不使用函数嵌套，那么每调用一次递归便会检查一次，这是没有必要的，也会降低程序的运行效率。\n",
    "'''"
   ]
  },
  {
   "cell_type": "markdown",
   "metadata": {},
   "source": [
    "如果变量是在函数内部定义的，则是局部变量，只有在函数内部有效，一旦函数执行完毕，局部变量就会被回收，无法访问\n",
    "```python\n",
    "def read_text_from_file(file_path):\n",
    "    with open(file_path) as file:\n",
    "        ...\n",
    "\n",
    "```\n",
    "file就是一个局部变量\n",
    "\n",
    "如果变量是在整个文件层次上定义的，则为全局变量\n",
    "```python\n",
    "MIN_VALUE = 1\n",
    "MAX_VALUE = 10\n",
    "def validation_check(value):\n",
    "    if value < MIN_VALUE or value > MAX_VALUE:\n",
    "        raise Exception('validation check fails')\n",
    "\n",
    "```\n",
    "MIN_VALUE,MAX_VALUE是全局变量，可以在文件内的任何地方被访问。不过，**我们不能在函数内部随意改变全局变量的值**。\n"
   ]
  },
  {
   "cell_type": "code",
   "execution_count": 6,
   "metadata": {},
   "outputs": [
    {
     "ename": "UnboundLocalError",
     "evalue": "cannot access local variable 'MIN_VALUE' where it is not associated with a value",
     "output_type": "error",
     "traceback": [
      "\u001b[1;31m---------------------------------------------------------------------------\u001b[0m",
      "\u001b[1;31mUnboundLocalError\u001b[0m                         Traceback (most recent call last)",
      "\u001b[1;32me:\\git\\learning\\python\\CreateFunction.ipynb Cell 12\u001b[0m line \u001b[0;36m9\n\u001b[0;32m      <a href='vscode-notebook-cell:/e%3A/git/learning/python/CreateFunction.ipynb#X14sZmlsZQ%3D%3D?line=4'>5</a>\u001b[0m     MIN_VALUE \u001b[39m+\u001b[39m\u001b[39m=\u001b[39m \u001b[39m1\u001b[39m\n\u001b[0;32m      <a href='vscode-notebook-cell:/e%3A/git/learning/python/CreateFunction.ipynb#X14sZmlsZQ%3D%3D?line=6'>7</a>\u001b[0m     \u001b[39mprint\u001b[39m(MIN_VALUE)\n\u001b[1;32m----> <a href='vscode-notebook-cell:/e%3A/git/learning/python/CreateFunction.ipynb#X14sZmlsZQ%3D%3D?line=8'>9</a>\u001b[0m validation_check(\u001b[39m5\u001b[39;49m)\n",
      "\u001b[1;32me:\\git\\learning\\python\\CreateFunction.ipynb Cell 12\u001b[0m line \u001b[0;36m5\n\u001b[0;32m      <a href='vscode-notebook-cell:/e%3A/git/learning/python/CreateFunction.ipynb#X14sZmlsZQ%3D%3D?line=2'>3</a>\u001b[0m \u001b[39mdef\u001b[39;00m \u001b[39mvalidation_check\u001b[39m(value):\n\u001b[1;32m----> <a href='vscode-notebook-cell:/e%3A/git/learning/python/CreateFunction.ipynb#X14sZmlsZQ%3D%3D?line=4'>5</a>\u001b[0m     MIN_VALUE \u001b[39m+\u001b[39m\u001b[39m=\u001b[39m \u001b[39m1\u001b[39m\n\u001b[0;32m      <a href='vscode-notebook-cell:/e%3A/git/learning/python/CreateFunction.ipynb#X14sZmlsZQ%3D%3D?line=6'>7</a>\u001b[0m     \u001b[39mprint\u001b[39m(MIN_VALUE)\n",
      "\u001b[1;31mUnboundLocalError\u001b[0m: cannot access local variable 'MIN_VALUE' where it is not associated with a value"
     ]
    }
   ],
   "source": [
    "MIN_VALUE = 1\n",
    "MAX_VALUE = 10\n",
    "def validation_check(value):\n",
    "    \n",
    "    MIN_VALUE += 1\n",
    "    \n",
    "    print(MIN_VALUE)\n",
    "    \n",
    "validation_check(5)\n"
   ]
  },
  {
   "cell_type": "markdown",
   "metadata": {},
   "source": [
    "因为，Python 的解释器会默认函数内部的变量为局部变量，但是又发现局部变量 MIN_VALUE 并没有声明，因此就无法执行相关操作。所以，如果我们一定要在函数内部改变全局变量的值，就必须加上 global 这个声明。\n",
    "\n",
    "global并不代表重新创建一个全局变量MIN_VALUE，而是告诉解释器，函数的内部变量MIN_VALUE就是之前定义的全局变量。"
   ]
  },
  {
   "cell_type": "code",
   "execution_count": 7,
   "metadata": {},
   "outputs": [
    {
     "name": "stdout",
     "output_type": "stream",
     "text": [
      "2\n"
     ]
    }
   ],
   "source": [
    "MIN_VALUE = 1\n",
    "MAX_VALUE = 10\n",
    "\n",
    "def validation_check(value):\n",
    "    global MIN_VALUE\n",
    "    \n",
    "    MIN_VALUE += 1\n",
    "    \n",
    "    print(MIN_VALUE)\n",
    "    \n",
    "validation_check(5)"
   ]
  },
  {
   "cell_type": "markdown",
   "metadata": {},
   "source": [
    "如果遇到函数内部局部变量和全局变量同名的情况，那么**在函数内部**，局部变量会覆盖全局变量"
   ]
  },
  {
   "cell_type": "code",
   "execution_count": 13,
   "metadata": {},
   "outputs": [
    {
     "name": "stdout",
     "output_type": "stream",
     "text": [
      "5\n",
      "1\n"
     ]
    }
   ],
   "source": [
    "MIN_VALUE = 1\n",
    "MAX_VALUE = 10\n",
    "def validation_check(value):\n",
    "    MIN_VALUE = value\n",
    "    \n",
    "    print(MIN_VALUE)\n",
    "\n",
    "validation_check(5)\n",
    "print(MIN_VALUE)"
   ]
  },
  {
   "cell_type": "markdown",
   "metadata": {},
   "source": [
    "对于**嵌套函数**来说，内部函数可以访问外部函数定义的变量，但是无法修改"
   ]
  },
  {
   "cell_type": "code",
   "execution_count": 14,
   "metadata": {},
   "outputs": [
    {
     "name": "stdout",
     "output_type": "stream",
     "text": [
      "inner: nonlocal\n",
      "outer: local\n"
     ]
    }
   ],
   "source": [
    "def outer():\n",
    "    x = \"local\"\n",
    "    def inner():\n",
    "        x = 'nonlocal' # 这里的x是inner这个函数的局部变量\n",
    "        print(\"inner:\", x)\n",
    "    inner()\n",
    "    print(\"outer:\", x)\n",
    "outer()\n",
    "\n"
   ]
  },
  {
   "cell_type": "markdown",
   "metadata": {},
   "source": [
    "若要修改，必须加上 `nonlocal` 这个关键字。通过这个例子可以看出：\n",
    "- 不使用`nonlocal`，在嵌套的内部函数，如果改变相同名字的变量值，外部函数的变量值不会变\n",
    "- 相反，如果使用了`nonlocal`，在改变内部函数的变量值的时候，相同名字的外部变量值也被改变了"
   ]
  },
  {
   "cell_type": "code",
   "execution_count": 15,
   "metadata": {},
   "outputs": [
    {
     "name": "stdout",
     "output_type": "stream",
     "text": [
      "inner: nonlocal\n",
      "outer: nonlocal\n"
     ]
    }
   ],
   "source": [
    "def outer():\n",
    "    x = \"local\"\n",
    "    def inner():\n",
    "        nonlocal x # nonlocal关键字表示这里的x就是外部函数outer定义的变量x\n",
    "        x = 'nonlocal'\n",
    "        print(\"inner:\", x)\n",
    "    inner()\n",
    "    print(\"outer:\", x)\n",
    "outer()\n"
   ]
  },
  {
   "cell_type": "markdown",
   "metadata": {},
   "source": [
    "**闭包 closure**\n",
    "\n",
    "闭包其实和函数嵌套函数类似，不同的是，这里**外部函数返回的是一个函数**，而不是一个具体的值。**返回的函数通常赋于一个变量，这个变量可以在后面被继续执行调用**\n",
    "\n"
   ]
  },
  {
   "cell_type": "code",
   "execution_count": 16,
   "metadata": {},
   "outputs": [
    {
     "name": "stdout",
     "output_type": "stream",
     "text": [
      "<function nth_power.<locals>.exponent_of at 0x0000016099F9BCE0>\n",
      "<function nth_power.<locals>.exponent_of at 0x0000016099F9BF60>\n",
      "4\n",
      "8\n"
     ]
    }
   ],
   "source": [
    "def nth_power(exponent):\n",
    "    def exponent_of(base):\n",
    "        return base ** exponent\n",
    "    return exponent_of # 返回值是exponent_of函数\n",
    "\n",
    "square = nth_power(2) # 计算一个数的平方\n",
    "cube = nth_power(3) # 计算一个数的立方 \n",
    "\n",
    "print(square)\n",
    "print(cube)\n",
    "\n",
    "\n",
    "print(square(2))  # 计算2的平方\n",
    "print(cube(2)) # 计算2的立方\n",
    "\n",
    "'''\n",
    "计算一个数的 n 次幂，用闭包可以写成代码。\n",
    "'''\n"
   ]
  }
 ],
 "metadata": {
  "kernelspec": {
   "display_name": "Python 3",
   "language": "python",
   "name": "python3"
  },
  "language_info": {
   "codemirror_mode": {
    "name": "ipython",
    "version": 3
   },
   "file_extension": ".py",
   "mimetype": "text/x-python",
   "name": "python",
   "nbconvert_exporter": "python",
   "pygments_lexer": "ipython3",
   "version": "3.11.4"
  },
  "orig_nbformat": 4
 },
 "nbformat": 4,
 "nbformat_minor": 2
}
