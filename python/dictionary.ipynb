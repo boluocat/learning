{
 "cells": [
  {
   "cell_type": "markdown",
   "metadata": {},
   "source": [
    "# Dictionaries\n",
    "\n",
    "## create a dictionary\n",
    "\n",
    "1. Braces: `{}`\n",
    "2. The dict function: `dict()`\n"
   ]
  },
  {
   "cell_type": "code",
   "execution_count": 2,
   "metadata": {},
   "outputs": [
    {
     "name": "stdout",
     "output_type": "stream",
     "text": [
      "{'Africa': 'Seychelles', 'Asia': 'Maldives', 'Europe': 'Vatican City', 'Oceania': 'Nauru', 'North America': 'St. Kitts and Nevis', 'South America': 'Suriname'}\n"
     ]
    }
   ],
   "source": [
    "smallest_countries = {'Africa': 'Seychelles',\n",
    "                      'Asia': 'Maldives',\n",
    "                      'Europe': 'Vatican City',\n",
    "                      'Oceania': 'Nauru',\n",
    "                      'North America': 'St. Kitts and Nevis',\n",
    "                      'South America': 'Suriname'\n",
    "                      }\n",
    "print(smallest_countries)"
   ]
  },
  {
   "cell_type": "code",
   "execution_count": 3,
   "metadata": {},
   "outputs": [
    {
     "name": "stdout",
     "output_type": "stream",
     "text": [
      "{'africa': 'Seychelles', 'asia': 'Maldives', 'europe': 'Vatican City', 'oceania': 'Nauru', 'north_america': 'St. Kitts and Nevis', 'south_america': 'Suriname'}\n"
     ]
    }
   ],
   "source": [
    "smallest_countries = dict(africa='Seychelles',\n",
    "                         asia='Maldives',\n",
    "                         europe='Vatican City',\n",
    "                         oceania='Nauru',\n",
    "                         north_america='St. Kitts and Nevis',\n",
    "                         south_america ='Suriname'\n",
    ")\n",
    "\n",
    "print(smallest_countries)"
   ]
  },
  {
   "cell_type": "markdown",
   "metadata": {},
   "source": []
  },
  {
   "cell_type": "markdown",
   "metadata": {},
   "source": [
    "## Dictionary keys and values\n",
    "\n",
    "1. Dictionary keys: Can be of any immutable data type, such as strings, numbers, or tuples\n",
    "2. Dictionary values: Can be of any type --mutable or immutable-- including other dictionaries or objects.\n",
    "3. Each key can only correspond to a single value, so, for example, this will throw an error"
   ]
  },
  {
   "cell_type": "code",
   "execution_count": 4,
   "metadata": {},
   "outputs": [
    {
     "ename": "SyntaxError",
     "evalue": "':' expected after dictionary key (473940501.py, line 1)",
     "output_type": "error",
     "traceback": [
      "\u001b[1;36m  Cell \u001b[1;32mIn[4], line 1\u001b[1;36m\u001b[0m\n\u001b[1;33m    invalid_dict = {'numbers': 1, 2, 3}\u001b[0m\n\u001b[1;37m                                  ^\u001b[0m\n\u001b[1;31mSyntaxError\u001b[0m\u001b[1;31m:\u001b[0m ':' expected after dictionary key\n"
     ]
    }
   ],
   "source": [
    "invalid_dict = {'numbers': 1, 2, 3}"
   ]
  },
  {
   "cell_type": "markdown",
   "metadata": {},
   "source": [
    "But if you enclose multiple values within another single data structure, you can create a valid dictionary."
   ]
  },
  {
   "cell_type": "code",
   "execution_count": 5,
   "metadata": {},
   "outputs": [
    {
     "name": "stdout",
     "output_type": "stream",
     "text": [
      "{'numbers': [1, 2, 3]}\n"
     ]
    }
   ],
   "source": [
    "valid_dict = {'numbers': [1, 2, 3]}\n",
    "print(valid_dict)"
   ]
  },
  {
   "cell_type": "markdown",
   "metadata": {},
   "source": [
    "## Work with dictionary\n",
    "\n",
    "### access values\n",
    "\n",
    "To access a specific value in a dictionary, you must refer to its key using brackets"
   ]
  },
  {
   "cell_type": "code",
   "execution_count": 6,
   "metadata": {},
   "outputs": [
    {
     "name": "stdout",
     "output_type": "stream",
     "text": [
      "[1, 2, 3]\n"
     ]
    }
   ],
   "source": [
    "my_dict = {'nums': [1, 2, 3],\n",
    "          'abc': ['a', 'b', 'c']\n",
    "          }\n",
    "print(my_dict['nums'])"
   ]
  },
  {
   "cell_type": "markdown",
   "metadata": {},
   "source": [
    "To access all values in a dictionary, use the `values()` method"
   ]
  },
  {
   "cell_type": "code",
   "execution_count": 7,
   "metadata": {},
   "outputs": [
    {
     "name": "stdout",
     "output_type": "stream",
     "text": [
      "dict_values([[1, 2, 3], ['a', 'b', 'c']])\n"
     ]
    }
   ],
   "source": [
    "my_dict = {'nums': [1, 2, 3],\n",
    "          'abc': ['a', 'b', 'c']\n",
    "          }\n",
    "print(my_dict.values())"
   ]
  },
  {
   "cell_type": "markdown",
   "metadata": {},
   "source": [
    "### Assign new keys\n",
    "\n",
    "Dictionaries are mutable data structures in Python. You can add to and modify existing Dictionaries. To add a new key to a dictionary, use brackets"
   ]
  },
  {
   "cell_type": "code",
   "execution_count": 8,
   "metadata": {},
   "outputs": [
    {
     "name": "stdout",
     "output_type": "stream",
     "text": [
      "{'nums': [1, 2, 3], 'abc': ['a', 'b', 'c'], 'floats': [1.0, 2.0, 3.0]}\n"
     ]
    }
   ],
   "source": [
    "my_dict = {'nums': [1, 2, 3],\n",
    "          'abc': ['a', 'b', 'c']\n",
    "          }\n",
    "\n",
    "\n",
    "# Add a new 'floats' key\n",
    "my_dict['floats'] = [1.0, 2.0, 3.0]\n",
    "print(my_dict)"
   ]
  },
  {
   "cell_type": "markdown",
   "metadata": {},
   "source": [
    "### Check if a key exists in a dictionary\n",
    "\n",
    "To check if a key exists in dictionary, use the `in` keyword."
   ]
  },
  {
   "cell_type": "code",
   "execution_count": 9,
   "metadata": {},
   "outputs": [
    {
     "name": "stdout",
     "output_type": "stream",
     "text": [
      "True\n",
      "False\n"
     ]
    }
   ],
   "source": [
    "smallest_countries = {'Africa': 'Seychelles',\n",
    "                     'Asia': 'Maldives',\n",
    "                     'Europe': 'Vatican City',\n",
    "                     'Oceania': 'Nauru',\n",
    "                     'North America': 'St. Kitts and Nevis',\n",
    "                     'South America': 'Suriname'\n",
    "                     }\n",
    "\n",
    "\n",
    "print('Africa' in smallest_countries)\n",
    "print('Asia' not in smallest_countries)"
   ]
  },
  {
   "cell_type": "markdown",
   "metadata": {},
   "source": [
    "### Delete a key-value pair\n",
    "\n",
    "To delete a key-value pair from a dictionary, use the `del` keyword."
   ]
  },
  {
   "cell_type": "code",
   "execution_count": 10,
   "metadata": {},
   "outputs": [
    {
     "name": "stdout",
     "output_type": "stream",
     "text": [
      "{'nums': [1, 2, 3]}\n"
     ]
    }
   ],
   "source": [
    "my_dict = {'nums': [1, 2, 3],\n",
    "          'abc': ['a', 'b', 'c']\n",
    "          }\n",
    "del my_dict['abc']\n",
    "print(my_dict)"
   ]
  },
  {
   "cell_type": "markdown",
   "metadata": {},
   "source": []
  },
  {
   "cell_type": "markdown",
   "metadata": {},
   "source": [
    "## Dictionary methods\n",
    "\n",
    "`items()`: Return a view of the (key, value) pairs of the dictionary"
   ]
  },
  {
   "cell_type": "code",
   "execution_count": 11,
   "metadata": {},
   "outputs": [
    {
     "name": "stdout",
     "output_type": "stream",
     "text": [
      "dict_items([('nums', [1, 2, 3]), ('abc', ['a', 'b', 'c'])])\n"
     ]
    }
   ],
   "source": [
    "my_dict = {'nums': [1, 2, 3],\n",
    "          'abc': ['a', 'b', 'c']\n",
    "          }\n",
    "print(my_dict.items())"
   ]
  },
  {
   "cell_type": "markdown",
   "metadata": {},
   "source": [
    "` key()`: Return a view of the dictionary's keys"
   ]
  },
  {
   "cell_type": "code",
   "execution_count": 12,
   "metadata": {},
   "outputs": [
    {
     "name": "stdout",
     "output_type": "stream",
     "text": [
      "dict_keys(['nums', 'abc'])\n"
     ]
    }
   ],
   "source": [
    "my_dict = {'nums': [1, 2, 3],\n",
    "          'abc': ['a', 'b', 'c']\n",
    "          }\n",
    "print(my_dict.keys())"
   ]
  },
  {
   "cell_type": "markdown",
   "metadata": {},
   "source": [
    "`values()`: Return a view of the dictionary's values"
   ]
  },
  {
   "cell_type": "code",
   "execution_count": 13,
   "metadata": {},
   "outputs": [
    {
     "name": "stdout",
     "output_type": "stream",
     "text": [
      "dict_values([[1, 2, 3], ['a', 'b', 'c']])\n"
     ]
    }
   ],
   "source": [
    "my_dict = {'nums': [1, 2, 3],\n",
    "          'abc': ['a', 'b', 'c']\n",
    "          }\n",
    "print(my_dict.values())"
   ]
  },
  {
   "cell_type": "markdown",
   "metadata": {},
   "source": []
  }
 ],
 "metadata": {
  "kernelspec": {
   "display_name": "Python311",
   "language": "python",
   "name": "python3"
  },
  "language_info": {
   "codemirror_mode": {
    "name": "ipython",
    "version": 3
   },
   "file_extension": ".py",
   "mimetype": "text/x-python",
   "name": "python",
   "nbconvert_exporter": "python",
   "pygments_lexer": "ipython3",
   "version": "3.11.4"
  }
 },
 "nbformat": 4,
 "nbformat_minor": 2
}
