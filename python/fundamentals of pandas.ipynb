{
 "cells": [
  {
   "cell_type": "markdown",
   "metadata": {},
   "source": [
    "# Primary data structures\n",
    "\n",
    "Pandas has two primary data structures: `Series` and  `DataFrame`\n",
    "1. `Series`: A series is a one-dimensional labeled array that can hold any data type. It's similar to a column in a spreadsheet or a one-dimensional NumPy array. Each element in a series has an associated label called an index. The index allows for more efficient and intuitive data manipulation by making it easier to reference specific elements of your data.\n",
    "2. `DataFrame`:A dataframe is a two-dimensional labeled data structure-- essentially a table or spreadsheet where each column and row in represented by a series."
   ]
  },
  {
   "cell_type": "markdown",
   "metadata": {},
   "source": [
    "# Create a DataFrame\n",
    "\n",
    "First import it."
   ]
  },
  {
   "cell_type": "code",
   "execution_count": 4,
   "metadata": {},
   "outputs": [],
   "source": [
    "import pandas as pd\n",
    "import numpy as np"
   ]
  },
  {
   "cell_type": "code",
   "execution_count": 2,
   "metadata": {},
   "outputs": [
    {
     "data": {
      "text/html": [
       "<div>\n",
       "<style scoped>\n",
       "    .dataframe tbody tr th:only-of-type {\n",
       "        vertical-align: middle;\n",
       "    }\n",
       "\n",
       "    .dataframe tbody tr th {\n",
       "        vertical-align: top;\n",
       "    }\n",
       "\n",
       "    .dataframe thead th {\n",
       "        text-align: right;\n",
       "    }\n",
       "</style>\n",
       "<table border=\"1\" class=\"dataframe\">\n",
       "  <thead>\n",
       "    <tr style=\"text-align: right;\">\n",
       "      <th></th>\n",
       "      <th>col1</th>\n",
       "      <th>col2</th>\n",
       "    </tr>\n",
       "  </thead>\n",
       "  <tbody>\n",
       "    <tr>\n",
       "      <th>0</th>\n",
       "      <td>1</td>\n",
       "      <td>3</td>\n",
       "    </tr>\n",
       "    <tr>\n",
       "      <th>1</th>\n",
       "      <td>2</td>\n",
       "      <td>4</td>\n",
       "    </tr>\n",
       "  </tbody>\n",
       "</table>\n",
       "</div>"
      ],
      "text/plain": [
       "   col1  col2\n",
       "0     1     3\n",
       "1     2     4"
      ]
     },
     "execution_count": 2,
     "metadata": {},
     "output_type": "execute_result"
    }
   ],
   "source": [
    "# Create from a dictionary\n",
    "d = {'col1': [1,2], 'col2': [3,4]}\n",
    "df = pd.DataFrame(d)\n",
    "df"
   ]
  },
  {
   "cell_type": "code",
   "execution_count": 5,
   "metadata": {},
   "outputs": [
    {
     "data": {
      "text/html": [
       "<div>\n",
       "<style scoped>\n",
       "    .dataframe tbody tr th:only-of-type {\n",
       "        vertical-align: middle;\n",
       "    }\n",
       "\n",
       "    .dataframe tbody tr th {\n",
       "        vertical-align: top;\n",
       "    }\n",
       "\n",
       "    .dataframe thead th {\n",
       "        text-align: right;\n",
       "    }\n",
       "</style>\n",
       "<table border=\"1\" class=\"dataframe\">\n",
       "  <thead>\n",
       "    <tr style=\"text-align: right;\">\n",
       "      <th></th>\n",
       "      <th>a</th>\n",
       "      <th>b</th>\n",
       "      <th>c</th>\n",
       "    </tr>\n",
       "  </thead>\n",
       "  <tbody>\n",
       "    <tr>\n",
       "      <th>0</th>\n",
       "      <td>1</td>\n",
       "      <td>2</td>\n",
       "      <td>3</td>\n",
       "    </tr>\n",
       "    <tr>\n",
       "      <th>1</th>\n",
       "      <td>4</td>\n",
       "      <td>5</td>\n",
       "      <td>6</td>\n",
       "    </tr>\n",
       "    <tr>\n",
       "      <th>2</th>\n",
       "      <td>7</td>\n",
       "      <td>8</td>\n",
       "      <td>9</td>\n",
       "    </tr>\n",
       "  </tbody>\n",
       "</table>\n",
       "</div>"
      ],
      "text/plain": [
       "   a  b  c\n",
       "0  1  2  3\n",
       "1  4  5  6\n",
       "2  7  8  9"
      ]
     },
     "execution_count": 5,
     "metadata": {},
     "output_type": "execute_result"
    }
   ],
   "source": [
    "# Create from a numpy array\n",
    "\n",
    "df2 = pd.DataFrame(np.array([[1,2,3],[4,5,6],[7,8,9]]), columns=['a','b','c'])\n",
    "df2"
   ]
  },
  {
   "cell_type": "code",
   "execution_count": null,
   "metadata": {},
   "outputs": [],
   "source": [
    "# Create from a file (csv)\n",
    "df3 = df.read_csv('file_path')"
   ]
  },
  {
   "cell_type": "markdown",
   "metadata": {},
   "source": [
    "# Attributes and methods\n",
    "\n",
    "The DataFrame class is powerful and convenient because it comes with a suit of built-in features that simplify common data analysis tasks.\n",
    "\n",
    "These features are known as attributes and methods.\n",
    "\n",
    "1. An attribute is a value associated with an object or class that is referenced by name using dotted expressions.\n",
    "2. A method is a function that is defined inside a class body and typically performs an action.\n",
    "\n",
    "A simpler way of thinking about the distinction between attributes and methods is to remember that attributes are characteristics of the object, while methods are actions or operations."
   ]
  },
  {
   "cell_type": "markdown",
   "metadata": {},
   "source": [
    "## Common DataFrame attributes\n",
    "\n",
    "Data professionals use attributes and methods constantly. Some of the most-used DataFrame attributes include:\n",
    "\n",
    "| attribute | Description |\n",
    "|-----------|-------------|\n",
    "|columns|Returns the column labels of the dataframe|\n",
    "|dtypes|Returns the data types in the dataframe|\n",
    "|iloc|Accesses a group of rows and columns using integer-based indexing|\n",
    "|loc|Accesses a group of rows and columns by label(s) or a Boolean array|\n",
    "|shape|Returns a tuple representing the dimensionality of the dataframe|\n",
    "|values|Returns a NumPy representation of the dataframe|"
   ]
  },
  {
   "cell_type": "markdown",
   "metadata": {},
   "source": [
    "## Common DataFrame methods\n",
    "\n",
    "Some of the most-used DataFrame methods include:\n",
    "\n",
    "|Method|Description|\n",
    "|------|-----------|\n",
    "|apply()|Applies a function over an axis of the dataframe|\n",
    "|copy()|Makes a copy of the dataframe’s indices and data|\n",
    "|describe()|Returns descriptive statistics of the dataframe, including the minimum, maximum, mean, and percentile values of its numeric columns; the row count; and the data types|\n",
    "|drop()|Drops specified labels from rows or columns|\n",
    "|groupby|Splits the dataframe, applies a function, and combines the results|\n",
    "|head(n=5)|Returns the first n rows of the dataframe (default=5)|\n",
    "|info()|Returns a concise summary of the dataframe|\n",
    "|isna()|Returns a same-sized Boolean dataframe indicating whether each value is null (can also use isnull() as an alias)|\n",
    "|sort_values()|Sorts by the values across a given axis|\n",
    "|value_counts()|Returns a series containing counts of unique rows in the dataframe|\n",
    "|where()|Replaces values in the dataframe where a given condition is false|"
   ]
  },
  {
   "cell_type": "markdown",
   "metadata": {},
   "source": [
    "# Selection statements\n",
    "\n",
    "## Row Selection\n",
    "Rows of a dataframe are selected by their index. The index can be referenced either by name or by numeric position."
   ]
  },
  {
   "cell_type": "markdown",
   "metadata": {},
   "source": [
    "### `loc[]`\n",
    "\n",
    "`loc[]` lets you select rows by name."
   ]
  },
  {
   "cell_type": "code",
   "execution_count": 7,
   "metadata": {},
   "outputs": [
    {
     "data": {
      "text/html": [
       "<div>\n",
       "<style scoped>\n",
       "    .dataframe tbody tr th:only-of-type {\n",
       "        vertical-align: middle;\n",
       "    }\n",
       "\n",
       "    .dataframe tbody tr th {\n",
       "        vertical-align: top;\n",
       "    }\n",
       "\n",
       "    .dataframe thead th {\n",
       "        text-align: right;\n",
       "    }\n",
       "</style>\n",
       "<table border=\"1\" class=\"dataframe\">\n",
       "  <thead>\n",
       "    <tr style=\"text-align: right;\">\n",
       "      <th></th>\n",
       "      <th>A</th>\n",
       "      <th>B</th>\n",
       "      <th>C</th>\n",
       "      <th>D</th>\n",
       "    </tr>\n",
       "  </thead>\n",
       "  <tbody>\n",
       "    <tr>\n",
       "      <th>row_0</th>\n",
       "      <td>alpha</td>\n",
       "      <td>1</td>\n",
       "      <td>coconut</td>\n",
       "      <td>6</td>\n",
       "    </tr>\n",
       "    <tr>\n",
       "      <th>row_1</th>\n",
       "      <td>apple</td>\n",
       "      <td>2</td>\n",
       "      <td>curse</td>\n",
       "      <td>7</td>\n",
       "    </tr>\n",
       "    <tr>\n",
       "      <th>row_2</th>\n",
       "      <td>arsenic</td>\n",
       "      <td>3</td>\n",
       "      <td>cassava</td>\n",
       "      <td>8</td>\n",
       "    </tr>\n",
       "    <tr>\n",
       "      <th>row_3</th>\n",
       "      <td>angel</td>\n",
       "      <td>4</td>\n",
       "      <td>cuckoo</td>\n",
       "      <td>9</td>\n",
       "    </tr>\n",
       "    <tr>\n",
       "      <th>row_4</th>\n",
       "      <td>android</td>\n",
       "      <td>5</td>\n",
       "      <td>clarinet</td>\n",
       "      <td>10</td>\n",
       "    </tr>\n",
       "  </tbody>\n",
       "</table>\n",
       "</div>"
      ],
      "text/plain": [
       "             A  B         C   D\n",
       "row_0    alpha  1   coconut   6\n",
       "row_1    apple  2     curse   7\n",
       "row_2  arsenic  3   cassava   8\n",
       "row_3    angel  4    cuckoo   9\n",
       "row_4  android  5  clarinet  10"
      ]
     },
     "execution_count": 7,
     "metadata": {},
     "output_type": "execute_result"
    }
   ],
   "source": [
    "df = pd.DataFrame({\n",
    "    'A': ['alpha', 'apple', 'arsenic', 'angel', 'android'],\n",
    "    'B': [1, 2, 3, 4, 5],\n",
    "    'C': ['coconut', 'curse', 'cassava', 'cuckoo', 'clarinet'],\n",
    "    'D': [6, 7, 8, 9, 10]\n",
    "    },index=['row_0', 'row_1', 'row_2', 'row_3', 'row_4'])\n",
    "df"
   ]
  },
  {
   "cell_type": "code",
   "execution_count": 8,
   "metadata": {},
   "outputs": [
    {
     "name": "stdout",
     "output_type": "stream",
     "text": [
      "A    apple\n",
      "B        2\n",
      "C    curse\n",
      "D        7\n",
      "Name: row_1, dtype: object\n"
     ]
    }
   ],
   "source": [
    "# The row index of the dataframe contains the names of the rows. Use loc[] to select rows by name\n",
    "print(df.loc['row_1'])"
   ]
  },
  {
   "cell_type": "code",
   "execution_count": 9,
   "metadata": {},
   "outputs": [
    {
     "name": "stdout",
     "output_type": "stream",
     "text": [
      "           A  B      C  D\n",
      "row_1  apple  2  curse  7\n"
     ]
    }
   ],
   "source": [
    "# Inserting the row index name as a list returns a DataFrame object\n",
    "print(df.loc[['row_1']])"
   ]
  },
  {
   "cell_type": "code",
   "execution_count": 10,
   "metadata": {},
   "outputs": [
    {
     "name": "stdout",
     "output_type": "stream",
     "text": [
      "           A  B       C  D\n",
      "row_1  apple  2   curse  7\n",
      "row_3  angel  4  cuckoo  9\n"
     ]
    }
   ],
   "source": [
    "# To select multiple rows by name, use a list within selector brackets\n",
    "print(df.loc[['row_1','row_3']])"
   ]
  },
  {
   "cell_type": "code",
   "execution_count": 11,
   "metadata": {},
   "outputs": [
    {
     "name": "stdout",
     "output_type": "stream",
     "text": [
      "             A  B        C  D\n",
      "row_1    apple  2    curse  7\n",
      "row_2  arsenic  3  cassava  8\n",
      "row_3    angel  4   cuckoo  9\n"
     ]
    }
   ],
   "source": [
    "# specify a range of rows by named index\n",
    "print(df.loc['row_1':'row_3'])"
   ]
  },
  {
   "cell_type": "markdown",
   "metadata": {},
   "source": [
    "### `iloc[]`\n",
    "\n",
    "`iloc[]` lets you select rows by numeric position, similar to how you would access elements of a list or an array. Here’s an example."
   ]
  },
  {
   "cell_type": "code",
   "execution_count": 12,
   "metadata": {},
   "outputs": [
    {
     "name": "stdout",
     "output_type": "stream",
     "text": [
      "             A  B         C   D\n",
      "row_0    alpha  1   coconut   6\n",
      "row_1    apple  2     curse   7\n",
      "row_2  arsenic  3   cassava   8\n",
      "row_3    angel  4    cuckoo   9\n",
      "row_4  android  5  clarinet  10\n",
      "\n",
      "A    apple\n",
      "B        2\n",
      "C    curse\n",
      "D        7\n",
      "Name: row_1, dtype: object\n"
     ]
    }
   ],
   "source": [
    "print(df)\n",
    "print()\n",
    "print(df.iloc[1])"
   ]
  },
  {
   "cell_type": "code",
   "execution_count": 13,
   "metadata": {},
   "outputs": [
    {
     "name": "stdout",
     "output_type": "stream",
     "text": [
      "           A  B      C  D\n",
      "row_1  apple  2  curse  7\n"
     ]
    }
   ],
   "source": [
    "# Inserting the row index number as list returns a dataframe object\n",
    "print(df.iloc[[1]])"
   ]
  },
  {
   "cell_type": "code",
   "execution_count": 14,
   "metadata": {},
   "outputs": [
    {
     "name": "stdout",
     "output_type": "stream",
     "text": [
      "             A  B         C   D\n",
      "row_0    alpha  1   coconut   6\n",
      "row_2  arsenic  3   cassava   8\n",
      "row_4  android  5  clarinet  10\n"
     ]
    }
   ],
   "source": [
    "# To select multiple rows by index number, use a list within selector brackets\n",
    "print(df.iloc[[0,2,4]])"
   ]
  },
  {
   "cell_type": "code",
   "execution_count": 15,
   "metadata": {},
   "outputs": [
    {
     "name": "stdout",
     "output_type": "stream",
     "text": [
      "             A  B        C  D\n",
      "row_0    alpha  1  coconut  6\n",
      "row_1    apple  2    curse  7\n",
      "row_2  arsenic  3  cassava  8\n"
     ]
    }
   ],
   "source": [
    "# Specify a range of rows by index number\n",
    "print(df.iloc[0:3])"
   ]
  },
  {
   "cell_type": "markdown",
   "metadata": {},
   "source": [
    "## Column selection\n",
    "\n",
    "Column selection works the same way as row selection, but there are also some shortcuts to make the process easier. \n",
    "\n",
    "For example, to select an individual column, simply put it in selector brackets after the name of the dataframe"
   ]
  },
  {
   "cell_type": "code",
   "execution_count": 17,
   "metadata": {},
   "outputs": [
    {
     "name": "stdout",
     "output_type": "stream",
     "text": [
      "row_0     coconut\n",
      "row_1       curse\n",
      "row_2     cassava\n",
      "row_3      cuckoo\n",
      "row_4    clarinet\n",
      "Name: C, dtype: object\n"
     ]
    }
   ],
   "source": [
    "print(df['C'])"
   ]
  },
  {
   "cell_type": "code",
   "execution_count": 18,
   "metadata": {},
   "outputs": [
    {
     "name": "stdout",
     "output_type": "stream",
     "text": [
      "             A         C\n",
      "row_0    alpha   coconut\n",
      "row_1    apple     curse\n",
      "row_2  arsenic   cassava\n",
      "row_3    angel    cuckoo\n",
      "row_4  android  clarinet\n"
     ]
    }
   ],
   "source": [
    "# to select multiple columns, use a list in selector brackets\n",
    "print(df[['A','C']])"
   ]
  },
  {
   "cell_type": "code",
   "execution_count": 19,
   "metadata": {},
   "outputs": [
    {
     "name": "stdout",
     "output_type": "stream",
     "text": [
      "row_0      alpha\n",
      "row_1      apple\n",
      "row_2    arsenic\n",
      "row_3      angel\n",
      "row_4    android\n",
      "Name: A, dtype: object\n"
     ]
    }
   ],
   "source": [
    "# or you can use dot notation\n",
    "print(df.A)"
   ]
  },
  {
   "cell_type": "markdown",
   "metadata": {},
   "source": [
    "Dot notation is often convenient and easier to type. However, it can make your code more difficult to read, especially in longer statements involving method chaining or condition-based selection."
   ]
  },
  {
   "cell_type": "markdown",
   "metadata": {},
   "source": [
    "### `loc[]`\n",
    "\n",
    "You can also use  `loc[]` notation.\n",
    "\n",
    "Note that when using loc[] to select columns, you must specify rows as well. In this example, all rows were selected using just a colon (:)."
   ]
  },
  {
   "cell_type": "code",
   "execution_count": 20,
   "metadata": {},
   "outputs": [
    {
     "name": "stdout",
     "output_type": "stream",
     "text": [
      "             A  B         C   D\n",
      "row_0    alpha  1   coconut   6\n",
      "row_1    apple  2     curse   7\n",
      "row_2  arsenic  3   cassava   8\n",
      "row_3    angel  4    cuckoo   9\n",
      "row_4  android  5  clarinet  10\n",
      "\n",
      "       B   D\n",
      "row_0  1   6\n",
      "row_1  2   7\n",
      "row_2  3   8\n",
      "row_3  4   9\n",
      "row_4  5  10\n"
     ]
    }
   ],
   "source": [
    "print(df)\n",
    "print()\n",
    "\n",
    "print(df.loc[:, ['B', 'D']])"
   ]
  },
  {
   "cell_type": "markdown",
   "metadata": {},
   "source": [
    "### `iloc[]`\n",
    "\n",
    "Similarly, you can use iloc[] notation. Again, when using iloc[], you must specify rows, even if you want to select all rows"
   ]
  },
  {
   "cell_type": "code",
   "execution_count": 21,
   "metadata": {},
   "outputs": [
    {
     "name": "stdout",
     "output_type": "stream",
     "text": [
      "       B   D\n",
      "row_0  1   6\n",
      "row_1  2   7\n",
      "row_2  3   8\n",
      "row_3  4   9\n",
      "row_4  5  10\n"
     ]
    }
   ],
   "source": [
    "print(df.iloc[:, [1,3]])"
   ]
  },
  {
   "cell_type": "markdown",
   "metadata": {},
   "source": [
    "## Select rows and columns\n",
    "\n",
    "Both `loc[]` and `iloc[]` can be used to select specific rows and columns together."
   ]
  },
  {
   "cell_type": "markdown",
   "metadata": {},
   "source": [
    "###  `loc[]`\n",
    "\n",
    "when using loc[] to select a range, the final element in the range is included in the results."
   ]
  },
  {
   "cell_type": "code",
   "execution_count": 22,
   "metadata": {},
   "outputs": [
    {
     "name": "stdout",
     "output_type": "stream",
     "text": [
      "             A        C\n",
      "row_0    alpha  coconut\n",
      "row_1    apple    curse\n",
      "row_2  arsenic  cassava\n"
     ]
    }
   ],
   "source": [
    "print(df.loc['row_0':'row_2', ['A','C']])"
   ]
  },
  {
   "cell_type": "code",
   "execution_count": 23,
   "metadata": {},
   "outputs": [
    {
     "name": "stdout",
     "output_type": "stream",
     "text": [
      "             A  B        C\n",
      "row_0    alpha  1  coconut\n",
      "row_1    apple  2    curse\n",
      "row_2  arsenic  3  cassava\n"
     ]
    }
   ],
   "source": [
    "print(df.loc['row_0':'row_2', 'A':'C'])"
   ]
  },
  {
   "cell_type": "markdown",
   "metadata": {},
   "source": [
    "### `iloc[]`\n",
    "\n",
    "when using rows with named indices, you cannot mix numeric and named notation. "
   ]
  },
  {
   "cell_type": "code",
   "execution_count": 24,
   "metadata": {},
   "outputs": [
    {
     "name": "stdout",
     "output_type": "stream",
     "text": [
      "             A  B         C\n",
      "row_2  arsenic  3   cassava\n",
      "row_4  android  5  clarinet\n"
     ]
    }
   ],
   "source": [
    "print(df.iloc[[2, 4], 0:3])"
   ]
  },
  {
   "cell_type": "markdown",
   "metadata": {},
   "source": [
    "To view rows [0:3] at column ‘D’ (if you don’t know the index number of column D), you’d have to use selector brackets after an iloc[] statement"
   ]
  },
  {
   "cell_type": "code",
   "execution_count": 25,
   "metadata": {},
   "outputs": [
    {
     "name": "stdout",
     "output_type": "stream",
     "text": [
      "       D\n",
      "row_0  6\n",
      "row_1  7\n",
      "row_2  8\n",
      "row_0    6\n",
      "row_1    7\n",
      "row_2    8\n",
      "Name: D, dtype: int64\n"
     ]
    }
   ],
   "source": [
    "# This is most convenient for VIEWING: \n",
    "print(df.iloc[0:3][['D']])\n",
    "\n",
    "# But this is best practice/more stable for assignment/manipulation:\n",
    "print(df.loc[df.index[0:3], 'D'])"
   ]
  },
  {
   "cell_type": "markdown",
   "metadata": {},
   "source": []
  }
 ],
 "metadata": {
  "kernelspec": {
   "display_name": "Python311",
   "language": "python",
   "name": "python3"
  },
  "language_info": {
   "codemirror_mode": {
    "name": "ipython",
    "version": 3
   },
   "file_extension": ".py",
   "mimetype": "text/x-python",
   "name": "python",
   "nbconvert_exporter": "python",
   "pygments_lexer": "ipython3",
   "version": "3.11.4"
  }
 },
 "nbformat": 4,
 "nbformat_minor": 2
}
